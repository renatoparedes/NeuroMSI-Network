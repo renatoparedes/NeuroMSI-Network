{
 "cells": [
  {
   "cell_type": "code",
   "execution_count": 1,
   "metadata": {},
   "outputs": [],
   "source": [
    "import numpy as np\n",
    "import matplotlib.pyplot as plt\n",
    "\n",
    "import warnings\n",
    "\n",
    "warnings.filterwarnings(\"ignore\")"
   ]
  },
  {
   "cell_type": "code",
   "execution_count": 2,
   "metadata": {},
   "outputs": [],
   "source": [
    "## SPATIAL DATA\n",
    "\n",
    "# Audio bias of HC\n",
    "HC_bias_a = np.zeros((3, 8))\n",
    "# HC_bias_a[0]--High; HC_bias_a[1]--Medium; HC_bias_a[2]--Low\n",
    "HC_bias_a[0] = np.array(\n",
    "    [\n",
    "        -5.21640112246667,\n",
    "        -4.18706601266667,\n",
    "        -3.13696911613333,\n",
    "        -2.09924748133333,\n",
    "        1.35796414540000,\n",
    "        3.07563797893333,\n",
    "        3.81842299133333,\n",
    "        3.35914483333333,\n",
    "    ]\n",
    ")\n",
    "HC_bias_a[1] = np.array(\n",
    "    [\n",
    "        -4.65343309471429,\n",
    "        -5.46053503785714,\n",
    "        -2.09086371792857,\n",
    "        -1.13832656671429,\n",
    "        -0.277120626642857,\n",
    "        0.262638716714286,\n",
    "        2.19984634542857,\n",
    "        3.40839929092857,\n",
    "    ]\n",
    ")\n",
    "HC_bias_a[2] = np.array(\n",
    "    [\n",
    "        -2.93714767620000,\n",
    "        -2.81604437300000,\n",
    "        -1.61590862560000,\n",
    "        -1.98143368426667,\n",
    "        -1.29873315480000,\n",
    "        0.0165255805333333,\n",
    "        0.501353158466667,\n",
    "        1.16135676946667,\n",
    "    ]\n",
    ")\n",
    "\n",
    "# Causal Inference of HC\n",
    "HC_pro_com = np.array(\n",
    "    [\n",
    "        [\n",
    "            0.367025484375000,\n",
    "            0.682562911541667,\n",
    "            0.822405755208334,\n",
    "            0.876760716875000,\n",
    "            0.863113007208333,\n",
    "            0.809197201583333,\n",
    "            0.649743997500000,\n",
    "            0.321256356083333,\n",
    "        ],\n",
    "        [\n",
    "            0.435277895916667,\n",
    "            0.621660267583333,\n",
    "            0.659722209500000,\n",
    "            0.704617010791667,\n",
    "            0.724928494125000,\n",
    "            0.687408309375000,\n",
    "            0.612227719333333,\n",
    "            0.446587043833333,\n",
    "        ],\n",
    "        [\n",
    "            0.519254406291667,\n",
    "            0.624221809791667,\n",
    "            0.623241935666667,\n",
    "            0.633213512666667,\n",
    "            0.650625944875000,\n",
    "            0.645931453375000,\n",
    "            0.608952192000000,\n",
    "            0.537992153875000,\n",
    "        ],\n",
    "    ]\n",
    ")"
   ]
  },
  {
   "cell_type": "code",
   "execution_count": 3,
   "metadata": {},
   "outputs": [],
   "source": [
    "## TEMPORAL DATA\n",
    "\n",
    "temporal_dis = (\n",
    "    np.array(\n",
    "        [\n",
    "            -0.7,\n",
    "            -0.5,\n",
    "            -0.3,\n",
    "            -0.25,\n",
    "            -0.2,\n",
    "            -0.15,\n",
    "            -0.1,\n",
    "            -0.08,\n",
    "            -0.05,\n",
    "            -0.02,\n",
    "            -0.01,\n",
    "            0.0,\n",
    "            0.01,\n",
    "            0.02,\n",
    "            0.05,\n",
    "            0.08,\n",
    "            0.1,\n",
    "            0.15,\n",
    "            0.2,\n",
    "            0.25,\n",
    "            0.3,\n",
    "            0.5,\n",
    "            0.7,\n",
    "        ]\n",
    "    )\n",
    "    * 1000\n",
    ")\n",
    "\n",
    "temporal_causes_data = np.array(\n",
    "    [\n",
    "        0.03154762,\n",
    "        0.03214286,\n",
    "        0.07619048,\n",
    "        0.19699793,\n",
    "        0.30345238,\n",
    "        0.50193093,\n",
    "        0.72754579,\n",
    "        0.82582418,\n",
    "        0.90882784,\n",
    "        0.93468864,\n",
    "        0.97271062,\n",
    "        0.97710623,\n",
    "        0.95398352,\n",
    "        0.94500916,\n",
    "        0.94871795,\n",
    "        0.94787546,\n",
    "        0.92052078,\n",
    "        0.87787546,\n",
    "        0.75857143,\n",
    "        0.51714286,\n",
    "        0.33121212,\n",
    "        0.05779221,\n",
    "        0.02836439,\n",
    "    ]\n",
    ")"
   ]
  },
  {
   "cell_type": "code",
   "execution_count": 4,
   "metadata": {},
   "outputs": [],
   "source": [
    "from scipy.optimize import differential_evolution\n",
    "from skneuromsi.sweep import ParameterSweep\n",
    "\n",
    "dis = np.array([-24, -12, -6, -3, 3, 6, 12, 24])  # disparities\n",
    "bias_data = np.abs(HC_bias_a[0]) / np.abs(dis)\n",
    "causes_data = HC_pro_com[0]"
   ]
  },
  {
   "cell_type": "markdown",
   "metadata": {},
   "source": [
    "## Alais and Burr\n"
   ]
  },
  {
   "cell_type": "code",
   "execution_count": 5,
   "metadata": {},
   "outputs": [
    {
     "name": "stdout",
     "output_type": "stream",
     "text": [
      "differential_evolution step 1: f(x)= 9.05023\n",
      "differential_evolution step 2: f(x)= 9.05023\n",
      "differential_evolution step 3: f(x)= 9.05023\n",
      "differential_evolution step 4: f(x)= 9.05023\n",
      "differential_evolution step 5: f(x)= 9.05023\n",
      "differential_evolution step 6: f(x)= 9.05023\n",
      "differential_evolution step 7: f(x)= 9.05023\n",
      "differential_evolution step 8: f(x)= 9.05023\n",
      "differential_evolution step 9: f(x)= 9.05023\n",
      "differential_evolution step 10: f(x)= 9.05023\n",
      "differential_evolution step 11: f(x)= 9.05023\n",
      "differential_evolution step 12: f(x)= 9.05023\n",
      "differential_evolution step 13: f(x)= 9.05023\n",
      "differential_evolution step 14: f(x)= 9.05023\n",
      "differential_evolution step 15: f(x)= 9.05023\n",
      "differential_evolution step 16: f(x)= 9.05023\n",
      " message: Optimization terminated successfully.\n",
      " success: True\n",
      "     fun: 9.050229183250034\n",
      "       x: [ 3.397e+01  3.394e+01]\n",
      "     nit: 16\n",
      "    nfev: 510\n"
     ]
    }
   ],
   "source": [
    "from skneuromsi.mle import AlaisBurr2004\n",
    "\n",
    "\n",
    "def alais_job(a_sigma, v_sigma):\n",
    "    model = AlaisBurr2004(position_range=(0, 90), position_res=1)\n",
    "    sp = ParameterSweep(\n",
    "        model=model, target=\"visual_position\", repeat=1, n_jobs=1, range=45 + dis\n",
    "    )\n",
    "    res = sp.run(\n",
    "        auditory_position=45, visual_sigma=v_sigma, auditory_sigma=a_sigma, noise=False\n",
    "    )\n",
    "    bias = res.bias.bias_mean(\n",
    "        influence_parameter=\"auditory_position\", mode=\"multi\", quiet=True\n",
    "    )\n",
    "    return bias.values[:, 0]\n",
    "\n",
    "\n",
    "def alais_cost(theta):\n",
    "    model_data = alais_job(theta[0], theta[1])\n",
    "    exp_data = bias_data\n",
    "\n",
    "    cost = np.sum(np.square(np.divide(exp_data - model_data, exp_data)))\n",
    "\n",
    "    if theta[0] < theta[1]:\n",
    "        cost = 100000000000\n",
    "\n",
    "    return cost\n",
    "\n",
    "\n",
    "bounds = [(0.1, 48), (0.1, 48)]\n",
    "alais_fit_res = differential_evolution(\n",
    "    alais_cost, bounds, disp=True, updating=\"deferred\", workers=-1, polish=False\n",
    ")\n",
    "print(alais_fit_res)"
   ]
  },
  {
   "cell_type": "code",
   "execution_count": 6,
   "metadata": {},
   "outputs": [
    {
     "data": {
      "application/vnd.jupyter.widget-view+json": {
       "model_id": "465e66ab02004a6ab2f57308e8a6b79e",
       "version_major": 2,
       "version_minor": 0
      },
      "text/plain": [
       "Sweeping 'visual_position':   0%|          | 0/8 [00:00<?, ?it/s]"
      ]
     },
     "metadata": {},
     "output_type": "display_data"
    },
    {
     "data": {
      "application/vnd.jupyter.widget-view+json": {
       "model_id": "f6b31af09fff469aa9669060cd0d258f",
       "version_major": 2,
       "version_minor": 0
      },
      "text/plain": [
       "Collecting metadata:   0%|          | 0/8 [00:00<?, ?it/s]"
      ]
     },
     "metadata": {},
     "output_type": "display_data"
    },
    {
     "data": {
      "text/plain": [
       "<matplotlib.collections.PathCollection at 0x7efd851aa190>"
      ]
     },
     "execution_count": 6,
     "metadata": {},
     "output_type": "execute_result"
    },
    {
     "data": {
      "image/png": "[encoded data removed]",
      "text/plain": [
       "<Figure size 640x480 with 1 Axes>"
      ]
     },
     "metadata": {},
     "output_type": "display_data"
    }
   ],
   "source": [
    "alais_model_fit = alais_job(alais_fit_res.x[0], alais_fit_res.x[1])\n",
    "\n",
    "plt.plot(dis, alais_model_fit)\n",
    "plt.scatter(dis, bias_data)"
   ]
  },
  {
   "cell_type": "markdown",
   "metadata": {},
   "source": [
    "## Kording"
   ]
  },
  {
   "cell_type": "code",
   "execution_count": 8,
   "metadata": {},
   "outputs": [
    {
     "name": "stdout",
     "output_type": "stream",
     "text": [
      "differential_evolution step 1: f(x)= 1.77488\n",
      "differential_evolution step 2: f(x)= 1.77488\n",
      "differential_evolution step 3: f(x)= 1.77488\n",
      "differential_evolution step 4: f(x)= 1.77488\n",
      "differential_evolution step 5: f(x)= 1.46037\n",
      "differential_evolution step 6: f(x)= 1.32331\n",
      "differential_evolution step 7: f(x)= 1.00139\n",
      "differential_evolution step 8: f(x)= 1.00139\n",
      "differential_evolution step 9: f(x)= 1.00139\n",
      "differential_evolution step 10: f(x)= 1.00139\n",
      "differential_evolution step 11: f(x)= 1.00139\n",
      "differential_evolution step 12: f(x)= 1.00139\n",
      "differential_evolution step 13: f(x)= 1.00139\n",
      "differential_evolution step 14: f(x)= 1.00139\n",
      "differential_evolution step 15: f(x)= 1.00139\n",
      "differential_evolution step 16: f(x)= 1.00139\n",
      "differential_evolution step 17: f(x)= 1.00139\n",
      "differential_evolution step 18: f(x)= 1.00139\n",
      "differential_evolution step 19: f(x)= 1.00139\n",
      "differential_evolution step 20: f(x)= 1.00139\n",
      "differential_evolution step 21: f(x)= 1.00139\n",
      "differential_evolution step 22: f(x)= 1.00139\n",
      "differential_evolution step 23: f(x)= 1.00139\n",
      "differential_evolution step 24: f(x)= 1.00139\n",
      "differential_evolution step 25: f(x)= 1.00139\n",
      "differential_evolution step 26: f(x)= 1.00139\n",
      "differential_evolution step 27: f(x)= 1.00139\n",
      "differential_evolution step 28: f(x)= 1.00139\n",
      "differential_evolution step 29: f(x)= 1.00139\n",
      "differential_evolution step 30: f(x)= 1.00139\n",
      "differential_evolution step 31: f(x)= 1.00139\n",
      "differential_evolution step 32: f(x)= 1.00139\n",
      "differential_evolution step 33: f(x)= 1.00139\n",
      "differential_evolution step 34: f(x)= 1.00139\n",
      "differential_evolution step 35: f(x)= 1.00139\n",
      "differential_evolution step 36: f(x)= 1.00139\n",
      "differential_evolution step 37: f(x)= 1.00139\n",
      "differential_evolution step 38: f(x)= 1.00139\n",
      "differential_evolution step 39: f(x)= 1.00139\n",
      "differential_evolution step 40: f(x)= 1.00139\n",
      "differential_evolution step 41: f(x)= 1.00139\n",
      "differential_evolution step 42: f(x)= 1.00139\n",
      "differential_evolution step 43: f(x)= 1.00139\n",
      "differential_evolution step 44: f(x)= 1.00139\n",
      "differential_evolution step 45: f(x)= 1.00139\n",
      "differential_evolution step 46: f(x)= 1.00139\n",
      "differential_evolution step 47: f(x)= 1.00139\n",
      "differential_evolution step 48: f(x)= 1.00139\n",
      "differential_evolution step 49: f(x)= 1.00139\n",
      "differential_evolution step 50: f(x)= 1.00139\n",
      "differential_evolution step 51: f(x)= 1.00139\n",
      "differential_evolution step 52: f(x)= 1.00139\n",
      "differential_evolution step 53: f(x)= 1.00139\n",
      "differential_evolution step 54: f(x)= 1.00139\n",
      "differential_evolution step 55: f(x)= 1.00139\n",
      "differential_evolution step 56: f(x)= 1.00139\n",
      "differential_evolution step 57: f(x)= 1.00139\n",
      "differential_evolution step 58: f(x)= 1.00139\n",
      "differential_evolution step 59: f(x)= 1.00139\n",
      "differential_evolution step 60: f(x)= 1.00139\n",
      "differential_evolution step 61: f(x)= 1.00139\n",
      "differential_evolution step 62: f(x)= 1.00139\n",
      "differential_evolution step 63: f(x)= 1.00139\n",
      "differential_evolution step 64: f(x)= 1.00139\n",
      "differential_evolution step 65: f(x)= 1.00139\n",
      "differential_evolution step 66: f(x)= 1.00139\n",
      "differential_evolution step 67: f(x)= 1.00139\n",
      "differential_evolution step 68: f(x)= 1.00139\n",
      "differential_evolution step 69: f(x)= 1.00139\n",
      "differential_evolution step 70: f(x)= 1.00139\n",
      "differential_evolution step 71: f(x)= 1.00139\n",
      "differential_evolution step 72: f(x)= 1.00139\n",
      "differential_evolution step 73: f(x)= 1.00139\n",
      "differential_evolution step 74: f(x)= 1.00139\n",
      "differential_evolution step 75: f(x)= 1.00139\n",
      "differential_evolution step 76: f(x)= 1.00139\n",
      "differential_evolution step 77: f(x)= 1.00139\n",
      "differential_evolution step 78: f(x)= 1.00139\n",
      "differential_evolution step 79: f(x)= 1.00139\n",
      "differential_evolution step 80: f(x)= 1.00139\n",
      "differential_evolution step 81: f(x)= 1.00139\n",
      "differential_evolution step 82: f(x)= 1.00139\n",
      "differential_evolution step 83: f(x)= 1.00139\n",
      "differential_evolution step 84: f(x)= 1.00139\n",
      "differential_evolution step 85: f(x)= 1.00139\n",
      "differential_evolution step 86: f(x)= 1.00139\n",
      "differential_evolution step 87: f(x)= 1.00139\n",
      " message: Optimization terminated successfully.\n",
      " success: True\n",
      "     fun: 1.001392102732505\n",
      "       x: [ 4.361e+01  4.127e+01  3.833e+01  1.077e+01]\n",
      "     nit: 87\n",
      "    nfev: 5280\n"
     ]
    }
   ],
   "source": [
    "from skneuromsi.bayesian import Kording2007\n",
    "\n",
    "\n",
    "def kording_job(a_sigma, v_sigma, p_mu, p_sigma):\n",
    "    model = Kording2007(position_range=(0, 90), position_res=1)\n",
    "    sp = ParameterSweep(\n",
    "        model=model, target=\"visual_position\", repeat=1, n_jobs=1, range=45 + dis\n",
    "    )\n",
    "    res = sp.run(\n",
    "        auditory_position=45,\n",
    "        visual_sigma=v_sigma,\n",
    "        auditory_sigma=a_sigma,\n",
    "        noise=False,\n",
    "        prior_mu=p_mu,\n",
    "        prior_sigma=p_sigma,\n",
    "        strategy=\"averaging\",\n",
    "    )\n",
    "    bias = res.bias.bias_mean(\n",
    "        influence_parameter=\"auditory_position\", mode=\"auditory\", quiet=True\n",
    "    )\n",
    "    return bias.values[:, 0]\n",
    "\n",
    "\n",
    "def kording_cost(theta):\n",
    "    model_data = kording_job(theta[0], theta[1], theta[2], theta[3])\n",
    "    exp_data = bias_data\n",
    "\n",
    "    cost = np.sum(np.square(np.divide(exp_data - model_data, exp_data)))\n",
    "\n",
    "    if theta[0] < theta[1]:\n",
    "        cost = 100000000000\n",
    "\n",
    "    return cost\n",
    "\n",
    "\n",
    "bounds = [(0.1, 48), (0.1, 48), (21, 69), (0.1, 48)]\n",
    "kording_fit_res = differential_evolution(\n",
    "    kording_cost, bounds, disp=True, updating=\"deferred\", workers=-1, polish=False\n",
    ")\n",
    "print(kording_fit_res)"
   ]
  },
  {
   "cell_type": "code",
   "execution_count": 9,
   "metadata": {},
   "outputs": [
    {
     "data": {
      "application/vnd.jupyter.widget-view+json": {
       "model_id": "b6e1f9b92f0945a985a7bc54b1c0ae9d",
       "version_major": 2,
       "version_minor": 0
      },
      "text/plain": [
       "Sweeping 'visual_position':   0%|          | 0/8 [00:00<?, ?it/s]"
      ]
     },
     "metadata": {},
     "output_type": "display_data"
    },
    {
     "data": {
      "application/vnd.jupyter.widget-view+json": {
       "model_id": "b7614fefa5234bf3b0975c3f8d488feb",
       "version_major": 2,
       "version_minor": 0
      },
      "text/plain": [
       "Collecting metadata:   0%|          | 0/8 [00:00<?, ?it/s]"
      ]
     },
     "metadata": {},
     "output_type": "display_data"
    },
    {
     "data": {
      "text/plain": [
       "<matplotlib.collections.PathCollection at 0x7faaf4b89490>"
      ]
     },
     "execution_count": 9,
     "metadata": {},
     "output_type": "execute_result"
    },
    {
     "data": {
      "image/png": "[encoded data removed]",
      "text/plain": [
       "<Figure size 640x480 with 1 Axes>"
      ]
     },
     "metadata": {},
     "output_type": "display_data"
    }
   ],
   "source": [
    "kording_model_fit = kording_job(\n",
    "    kording_fit_res.x[0],\n",
    "    kording_fit_res.x[1],\n",
    "    kording_fit_res.x[2],\n",
    "    kording_fit_res.x[3],\n",
    ")\n",
    "\n",
    "plt.plot(dis, kording_model_fit)\n",
    "plt.scatter(dis, bias_data)"
   ]
  },
  {
   "cell_type": "code",
   "execution_count": 5,
   "metadata": {},
   "outputs": [
    {
     "name": "stdout",
     "output_type": "stream",
     "text": [
      "differential_evolution step 1: f(x)= 1.16453\n",
      "differential_evolution step 2: f(x)= 0.778278\n",
      "differential_evolution step 3: f(x)= 0.292923\n",
      "differential_evolution step 4: f(x)= 0.292923\n",
      "differential_evolution step 5: f(x)= 0.292923\n",
      "differential_evolution step 6: f(x)= 0.292923\n",
      "differential_evolution step 7: f(x)= 0.292923\n",
      "differential_evolution step 8: f(x)= 0.292923\n",
      "differential_evolution step 9: f(x)= 0.292923\n",
      "differential_evolution step 10: f(x)= 0.292923\n",
      "differential_evolution step 11: f(x)= 0.292923\n",
      "differential_evolution step 12: f(x)= 0.165475\n",
      "differential_evolution step 13: f(x)= 0.165475\n",
      "differential_evolution step 14: f(x)= 0.133013\n",
      "differential_evolution step 15: f(x)= 0.114868\n",
      "differential_evolution step 16: f(x)= 0.0731305\n",
      "differential_evolution step 17: f(x)= 0.0488369\n",
      "differential_evolution step 18: f(x)= 0.0415374\n",
      "differential_evolution step 19: f(x)= 0.0413347\n",
      "differential_evolution step 20: f(x)= 0.0413347\n",
      "differential_evolution step 21: f(x)= 0.0413347\n",
      "differential_evolution step 22: f(x)= 0.0304458\n",
      "differential_evolution step 23: f(x)= 0.0304458\n",
      "differential_evolution step 24: f(x)= 0.0304458\n",
      "differential_evolution step 25: f(x)= 0.0277416\n",
      "differential_evolution step 26: f(x)= 0.0263825\n",
      "differential_evolution step 27: f(x)= 0.0254828\n",
      "differential_evolution step 28: f(x)= 0.0254828\n",
      "differential_evolution step 29: f(x)= 0.0254828\n",
      "differential_evolution step 30: f(x)= 0.0254828\n",
      "differential_evolution step 31: f(x)= 0.0254828\n",
      "differential_evolution step 32: f(x)= 0.0254828\n",
      "differential_evolution step 33: f(x)= 0.0254828\n",
      "differential_evolution step 34: f(x)= 0.0254828\n",
      "differential_evolution step 35: f(x)= 0.0254828\n",
      "differential_evolution step 36: f(x)= 0.0254828\n",
      "differential_evolution step 37: f(x)= 0.0254828\n",
      "differential_evolution step 38: f(x)= 0.0254828\n",
      "differential_evolution step 39: f(x)= 0.0253253\n",
      "differential_evolution step 40: f(x)= 0.0253253\n",
      "differential_evolution step 41: f(x)= 0.0253253\n",
      "differential_evolution step 42: f(x)= 0.0253017\n",
      "differential_evolution step 43: f(x)= 0.0252315\n",
      "differential_evolution step 44: f(x)= 0.0252315\n",
      "differential_evolution step 45: f(x)= 0.0252315\n",
      "differential_evolution step 46: f(x)= 0.0252315\n",
      "differential_evolution step 47: f(x)= 0.025208\n",
      "differential_evolution step 48: f(x)= 0.0251719\n",
      "differential_evolution step 49: f(x)= 0.0251366\n",
      "differential_evolution step 50: f(x)= 0.0251138\n",
      "differential_evolution step 51: f(x)= 0.0250649\n",
      "differential_evolution step 52: f(x)= 0.0250552\n",
      " message: Optimization terminated successfully.\n",
      " success: True\n",
      "     fun: 0.025055245928949987\n",
      "       x: [ 8.072e+00  8.071e+00  6.891e+01  4.481e+01]\n",
      "     nit: 52\n",
      "    nfev: 3180\n"
     ]
    }
   ],
   "source": [
    "from skneuromsi.bayesian import Kording2007\n",
    "\n",
    "\n",
    "def kording_causes_job(a_sigma, v_sigma, p_mu, p_sigma):\n",
    "    model = Kording2007(position_range=(0, 90), position_res=1)\n",
    "    sp = ParameterSweep(\n",
    "        model=model, target=\"visual_position\", repeat=1, n_jobs=1, range=45 + dis\n",
    "    )\n",
    "    res = sp.run(\n",
    "        auditory_position=45,\n",
    "        visual_sigma=v_sigma,\n",
    "        auditory_sigma=a_sigma,\n",
    "        noise=False,\n",
    "        prior_mu=p_mu,\n",
    "        prior_sigma=p_sigma,\n",
    "        strategy=\"selection\",\n",
    "        causes_kind=\"prob\",\n",
    "    )\n",
    "    causes = res.causes.causes_by_parameter(parameter=\"visual_position\")[(\"\", \"Causes\")]\n",
    "\n",
    "    return causes\n",
    "\n",
    "\n",
    "def kording_causes_cost(theta):\n",
    "    model_data = kording_causes_job(theta[0], theta[1], theta[2], theta[3])\n",
    "    exp_data = causes_data\n",
    "\n",
    "    cost = np.sum(np.square(np.divide(exp_data - model_data, exp_data)))\n",
    "\n",
    "    if theta[0] < theta[1]:\n",
    "        cost = 100000000000\n",
    "\n",
    "    return cost\n",
    "\n",
    "\n",
    "bounds = [(0.1, 48), (0.1, 48), (21, 69), (0.1, 48)]\n",
    "kording_causes_fit_res = differential_evolution(\n",
    "    kording_causes_cost,\n",
    "    bounds,\n",
    "    disp=True,\n",
    "    updating=\"deferred\",\n",
    "    workers=-1,\n",
    "    polish=False,\n",
    ")\n",
    "print(kording_causes_fit_res)"
   ]
  },
  {
   "cell_type": "code",
   "execution_count": 6,
   "metadata": {},
   "outputs": [
    {
     "data": {
      "application/vnd.jupyter.widget-view+json": {
       "model_id": "b49e1432a8a14c00b151e0021fe2b13c",
       "version_major": 2,
       "version_minor": 0
      },
      "text/plain": [
       "Sweeping 'visual_position':   0%|          | 0/8 [00:00<?, ?it/s]"
      ]
     },
     "metadata": {},
     "output_type": "display_data"
    },
    {
     "data": {
      "application/vnd.jupyter.widget-view+json": {
       "model_id": "6e4befe6689f4b6ab2b1140c4154f4d8",
       "version_major": 2,
       "version_minor": 0
      },
      "text/plain": [
       "Collecting metadata:   0%|          | 0/8 [00:00<?, ?it/s]"
      ]
     },
     "metadata": {},
     "output_type": "display_data"
    },
    {
     "data": {
      "text/plain": [
       "<matplotlib.collections.PathCollection at 0x7f3414b63690>"
      ]
     },
     "execution_count": 6,
     "metadata": {},
     "output_type": "execute_result"
    },
    {
     "data": {
      "image/png": "[encoded data removed]",
      "text/plain": [
       "<Figure size 640x480 with 1 Axes>"
      ]
     },
     "metadata": {},
     "output_type": "display_data"
    }
   ],
   "source": [
    "kording_model_causes_fit = kording_causes_job(\n",
    "    kording_causes_fit_res.x[0],\n",
    "    kording_causes_fit_res.x[1],\n",
    "    kording_causes_fit_res.x[2],\n",
    "    kording_causes_fit_res.x[3],\n",
    ")\n",
    "\n",
    "plt.plot(dis, kording_model_causes_fit)\n",
    "plt.scatter(dis, causes_data)"
   ]
  },
  {
   "cell_type": "markdown",
   "metadata": {},
   "source": [
    "## Cuppini 2017"
   ]
  },
  {
   "cell_type": "code",
   "execution_count": 5,
   "metadata": {},
   "outputs": [
    {
     "name": "stdout",
     "output_type": "stream",
     "text": [
      "differential_evolution step 1: f(x)= 0.915638\n",
      "differential_evolution step 2: f(x)= 0.692389\n",
      "differential_evolution step 3: f(x)= 0.692389\n",
      "differential_evolution step 4: f(x)= 0.692389\n",
      "differential_evolution step 5: f(x)= 0.692389\n",
      "differential_evolution step 6: f(x)= 0.671608\n",
      "differential_evolution step 7: f(x)= 0.671608\n",
      "differential_evolution step 8: f(x)= 0.570418\n",
      "differential_evolution step 9: f(x)= 0.570418\n",
      "differential_evolution step 10: f(x)= 0.570418\n",
      "differential_evolution step 11: f(x)= 0.570418\n",
      "differential_evolution step 12: f(x)= 0.570418\n",
      "differential_evolution step 13: f(x)= 0.570418\n",
      "differential_evolution step 14: f(x)= 0.570418\n",
      "differential_evolution step 15: f(x)= 0.570418\n",
      "differential_evolution step 16: f(x)= 0.570418\n",
      "differential_evolution step 17: f(x)= 0.570418\n",
      "differential_evolution step 18: f(x)= 0.570418\n",
      "differential_evolution step 19: f(x)= 0.553692\n",
      "differential_evolution step 20: f(x)= 0.553692\n",
      "differential_evolution step 21: f(x)= 0.553692\n",
      "differential_evolution step 22: f(x)= 0.553692\n",
      "differential_evolution step 23: f(x)= 0.553692\n",
      "differential_evolution step 24: f(x)= 0.542416\n",
      "differential_evolution step 25: f(x)= 0.542416\n",
      "differential_evolution step 26: f(x)= 0.542416\n",
      "differential_evolution step 27: f(x)= 0.452502\n",
      "differential_evolution step 28: f(x)= 0.452502\n",
      "differential_evolution step 29: f(x)= 0.452502\n",
      "differential_evolution step 30: f(x)= 0.452502\n",
      "differential_evolution step 31: f(x)= 0.452502\n",
      "differential_evolution step 32: f(x)= 0.452502\n",
      "differential_evolution step 33: f(x)= 0.452502\n",
      "differential_evolution step 34: f(x)= 0.452502\n",
      "differential_evolution step 35: f(x)= 0.452502\n",
      "differential_evolution step 36: f(x)= 0.452502\n",
      "differential_evolution step 37: f(x)= 0.452502\n",
      "differential_evolution step 38: f(x)= 0.452502\n",
      "differential_evolution step 39: f(x)= 0.452502\n",
      "differential_evolution step 40: f(x)= 0.452502\n",
      "differential_evolution step 41: f(x)= 0.452502\n",
      "differential_evolution step 42: f(x)= 0.452502\n",
      "differential_evolution step 43: f(x)= 0.452502\n",
      "differential_evolution step 44: f(x)= 0.452502\n",
      "differential_evolution step 45: f(x)= 0.452502\n",
      "differential_evolution step 46: f(x)= 0.452502\n",
      "differential_evolution step 47: f(x)= 0.452502\n",
      "differential_evolution step 48: f(x)= 0.452502\n",
      "differential_evolution step 49: f(x)= 0.452502\n",
      "differential_evolution step 50: f(x)= 0.452502\n",
      "differential_evolution step 51: f(x)= 0.452502\n",
      "differential_evolution step 52: f(x)= 0.452502\n",
      "differential_evolution step 53: f(x)= 0.452502\n",
      "differential_evolution step 54: f(x)= 0.452502\n",
      "differential_evolution step 55: f(x)= 0.452502\n",
      "differential_evolution step 56: f(x)= 0.452502\n",
      "differential_evolution step 57: f(x)= 0.452502\n",
      "differential_evolution step 58: f(x)= 0.452502\n",
      "differential_evolution step 59: f(x)= 0.452502\n",
      "differential_evolution step 60: f(x)= 0.452502\n",
      "differential_evolution step 61: f(x)= 0.452502\n",
      "differential_evolution step 62: f(x)= 0.452502\n",
      "differential_evolution step 63: f(x)= 0.452502\n",
      "differential_evolution step 64: f(x)= 0.452502\n",
      "differential_evolution step 65: f(x)= 0.452502\n",
      "differential_evolution step 66: f(x)= 0.452502\n",
      "differential_evolution step 67: f(x)= 0.452502\n",
      "differential_evolution step 68: f(x)= 0.452502\n",
      "differential_evolution step 69: f(x)= 0.452502\n",
      "differential_evolution step 70: f(x)= 0.452502\n",
      "differential_evolution step 71: f(x)= 0.452502\n",
      "differential_evolution step 72: f(x)= 0.452502\n",
      "differential_evolution step 73: f(x)= 0.452502\n",
      "differential_evolution step 74: f(x)= 0.452502\n",
      "differential_evolution step 75: f(x)= 0.452502\n",
      "differential_evolution step 76: f(x)= 0.452502\n",
      "differential_evolution step 77: f(x)= 0.452502\n",
      "differential_evolution step 78: f(x)= 0.452502\n",
      "differential_evolution step 79: f(x)= 0.452502\n",
      "differential_evolution step 80: f(x)= 0.452502\n",
      "differential_evolution step 81: f(x)= 0.452502\n",
      "differential_evolution step 82: f(x)= 0.452502\n",
      "differential_evolution step 83: f(x)= 0.452502\n",
      "differential_evolution step 84: f(x)= 0.452502\n",
      "differential_evolution step 85: f(x)= 0.452502\n",
      "differential_evolution step 86: f(x)= 0.452502\n",
      "differential_evolution step 87: f(x)= 0.452502\n",
      "differential_evolution step 88: f(x)= 0.452502\n",
      "differential_evolution step 89: f(x)= 0.452502\n",
      " message: Optimization terminated successfully.\n",
      " success: True\n",
      "     fun: 0.4525022767547128\n",
      "       x: [ 4.511e+01  2.495e+01  1.191e+01  1.387e+01]\n",
      "     nit: 89\n",
      "    nfev: 5400\n"
     ]
    }
   ],
   "source": [
    "from skneuromsi.neural import Cuppini2017\n",
    "\n",
    "\n",
    "def cuppini2017_job(a_sigma, v_sigma, a_intensity, v_intensity):\n",
    "    biases = []\n",
    "    a_pos = 45\n",
    "    model = Cuppini2017(neurons=90, position_range=(0, 90), position_res=1)\n",
    "    for v_pos in a_pos + dis:\n",
    "        res = model.run(\n",
    "            visual_position=v_pos,\n",
    "            auditory_position=a_pos,\n",
    "            visual_sigma=v_sigma,\n",
    "            auditory_sigma=a_sigma,\n",
    "            noise=False,\n",
    "            auditory_intensity=a_intensity,\n",
    "            visual_intensity=v_intensity,\n",
    "        )\n",
    "        max_time = res.to_xarray()[\"times\"].max().values\n",
    "        estimated_a_pos = (\n",
    "            res.get_modes(\"auditory\").query(\"times==@max_time\").values.argmax()\n",
    "        )\n",
    "        bias = np.absolute(estimated_a_pos - a_pos) / np.absolute(a_pos - v_pos)\n",
    "        biases.append(bias)\n",
    "    return np.array(biases)\n",
    "\n",
    "\n",
    "def cuppini2017_cost(theta):\n",
    "    model_data = cuppini2017_job(theta[0], theta[1], theta[2], theta[3])\n",
    "    exp_data = bias_data\n",
    "\n",
    "    cost = np.sum(np.square(np.divide(exp_data - model_data, exp_data)))\n",
    "\n",
    "    if theta[0] < theta[1]:\n",
    "        cost = 100000000000\n",
    "\n",
    "    return cost\n",
    "\n",
    "\n",
    "bounds = [(0.1, 48), (0.1, 48), (0.1, 30), (0.1, 30)]\n",
    "cuppini2017_fit_res = differential_evolution(\n",
    "    cuppini2017_cost, bounds, disp=True, updating=\"deferred\", workers=-1, polish=False\n",
    ")\n",
    "print(cuppini2017_fit_res)"
   ]
  },
  {
   "cell_type": "code",
   "execution_count": 6,
   "metadata": {},
   "outputs": [
    {
     "data": {
      "text/plain": [
       "<matplotlib.collections.PathCollection at 0x7f6be8a9dfd0>"
      ]
     },
     "execution_count": 6,
     "metadata": {},
     "output_type": "execute_result"
    },
    {
     "data": {
      "image/png": "[encoded data removed]",
      "text/plain": [
       "<Figure size 640x480 with 1 Axes>"
      ]
     },
     "metadata": {},
     "output_type": "display_data"
    }
   ],
   "source": [
    "cuppini2017_model_fit = cuppini2017_job(\n",
    "    cuppini2017_fit_res.x[0],\n",
    "    cuppini2017_fit_res.x[1],\n",
    "    cuppini2017_fit_res.x[2],\n",
    "    cuppini2017_fit_res.x[3],\n",
    ")\n",
    "\n",
    "plt.plot(dis, cuppini2017_model_fit)\n",
    "plt.scatter(dis, bias_data)"
   ]
  },
  {
   "cell_type": "code",
   "execution_count": 5,
   "metadata": {},
   "outputs": [
    {
     "name": "stdout",
     "output_type": "stream",
     "text": [
      "differential_evolution step 1: f(x)= 0.192849\n",
      "differential_evolution step 2: f(x)= 0.192849\n",
      "differential_evolution step 3: f(x)= 0.192849\n",
      "differential_evolution step 4: f(x)= 0.14573\n",
      "differential_evolution step 5: f(x)= 0.14573\n",
      "differential_evolution step 6: f(x)= 0.125072\n",
      "differential_evolution step 7: f(x)= 0.125072\n",
      "differential_evolution step 8: f(x)= 0.125072\n",
      "differential_evolution step 9: f(x)= 0.125072\n",
      "differential_evolution step 10: f(x)= 0.125072\n",
      "differential_evolution step 11: f(x)= 0.125072\n",
      "differential_evolution step 12: f(x)= 0.0254829\n",
      "differential_evolution step 13: f(x)= 0.0254829\n",
      "differential_evolution step 14: f(x)= 0.0254829\n",
      "differential_evolution step 15: f(x)= 0.0203048\n",
      "differential_evolution step 16: f(x)= 0.0174151\n",
      "differential_evolution step 17: f(x)= 0.0174151\n",
      "differential_evolution step 18: f(x)= 0.0174151\n",
      "differential_evolution step 19: f(x)= 0.0174151\n",
      "differential_evolution step 20: f(x)= 0.0174151\n",
      "differential_evolution step 21: f(x)= 0.0174151\n",
      "differential_evolution step 22: f(x)= 0.0160719\n",
      "differential_evolution step 23: f(x)= 0.0160719\n",
      "differential_evolution step 24: f(x)= 0.0160719\n",
      "differential_evolution step 25: f(x)= 0.0160719\n",
      "differential_evolution step 26: f(x)= 0.0160719\n",
      "differential_evolution step 27: f(x)= 0.0153772\n",
      "differential_evolution step 28: f(x)= 0.0117865\n",
      "differential_evolution step 29: f(x)= 0.0109781\n",
      "differential_evolution step 30: f(x)= 0.0109781\n",
      "differential_evolution step 31: f(x)= 0.0109781\n",
      "differential_evolution step 32: f(x)= 0.0109781\n",
      "differential_evolution step 33: f(x)= 0.0109781\n",
      "differential_evolution step 34: f(x)= 0.0109781\n",
      "differential_evolution step 35: f(x)= 0.0109781\n",
      "differential_evolution step 36: f(x)= 0.0109781\n",
      "differential_evolution step 37: f(x)= 0.0109781\n",
      "differential_evolution step 38: f(x)= 0.0109352\n",
      "differential_evolution step 39: f(x)= 0.0109352\n",
      "differential_evolution step 40: f(x)= 0.0109352\n",
      "differential_evolution step 41: f(x)= 0.0109352\n",
      "differential_evolution step 42: f(x)= 0.0109315\n",
      "differential_evolution step 43: f(x)= 0.0108419\n",
      "differential_evolution step 44: f(x)= 0.0108419\n",
      "differential_evolution step 45: f(x)= 0.0108419\n",
      "differential_evolution step 46: f(x)= 0.0108419\n",
      "differential_evolution step 47: f(x)= 0.0108419\n",
      "differential_evolution step 48: f(x)= 0.0108419\n",
      "differential_evolution step 49: f(x)= 0.0108419\n",
      "differential_evolution step 50: f(x)= 0.0108419\n",
      "differential_evolution step 51: f(x)= 0.0108402\n",
      "differential_evolution step 52: f(x)= 0.010815\n",
      "differential_evolution step 53: f(x)= 0.010815\n",
      "differential_evolution step 54: f(x)= 0.0107875\n",
      "differential_evolution step 55: f(x)= 0.0107875\n",
      "differential_evolution step 56: f(x)= 0.0107875\n",
      "differential_evolution step 57: f(x)= 0.0107875\n",
      "differential_evolution step 58: f(x)= 0.0107695\n",
      "differential_evolution step 59: f(x)= 0.0107695\n",
      "differential_evolution step 60: f(x)= 0.0107634\n",
      "differential_evolution step 61: f(x)= 0.0107634\n",
      "differential_evolution step 62: f(x)= 0.0107634\n",
      "differential_evolution step 63: f(x)= 0.0107634\n",
      " message: Optimization terminated successfully.\n",
      " success: True\n",
      "     fun: 0.010763412301135582\n",
      "       x: [ 2.803e+01  8.033e+00  1.328e+01  2.366e+01]\n",
      "     nit: 63\n",
      "    nfev: 3840\n"
     ]
    }
   ],
   "source": [
    "from skneuromsi.neural import Cuppini2017\n",
    "\n",
    "\n",
    "def cuppini2017_causes_job(a_sigma, v_sigma, a_intensity, v_intensity):\n",
    "    causes = []\n",
    "    a_pos = 45\n",
    "    model = Cuppini2017(neurons=90, position_range=(0, 90), position_res=1)\n",
    "    for v_pos in a_pos + dis:\n",
    "        res = model.run(\n",
    "            visual_position=v_pos,\n",
    "            auditory_position=a_pos,\n",
    "            visual_sigma=v_sigma,\n",
    "            auditory_sigma=a_sigma,\n",
    "            noise=False,\n",
    "            causes_kind=\"prob\",\n",
    "            auditory_intensity=a_intensity,\n",
    "            visual_intensity=v_intensity,\n",
    "        )\n",
    "        causes.append(res.causes_)\n",
    "    return np.array(causes)\n",
    "\n",
    "\n",
    "def cuppini2017_causes_cost(theta):\n",
    "    model_data = cuppini2017_causes_job(theta[0], theta[1], theta[2], theta[3])\n",
    "    exp_data = causes_data\n",
    "\n",
    "    cost = np.sum(np.square(np.divide(exp_data - model_data, exp_data)))\n",
    "\n",
    "    if theta[0] < theta[1]:\n",
    "        cost = 100000000000\n",
    "\n",
    "    return cost\n",
    "\n",
    "\n",
    "bounds = [(0.1, 48), (0.1, 48), (0.1, 30), (0.1, 30)]\n",
    "cuppini2017_causes_fit_res = differential_evolution(\n",
    "    cuppini2017_causes_cost,\n",
    "    bounds,\n",
    "    disp=True,\n",
    "    updating=\"deferred\",\n",
    "    workers=-1,\n",
    "    polish=False,\n",
    ")\n",
    "print(cuppini2017_causes_fit_res)"
   ]
  },
  {
   "cell_type": "code",
   "execution_count": 6,
   "metadata": {},
   "outputs": [
    {
     "data": {
      "text/plain": [
       "<matplotlib.collections.PathCollection at 0x7fe471dd9b50>"
      ]
     },
     "execution_count": 6,
     "metadata": {},
     "output_type": "execute_result"
    },
    {
     "data": {
      "image/png": "[encoded data removed]",
      "text/plain": [
       "<Figure size 640x480 with 1 Axes>"
      ]
     },
     "metadata": {},
     "output_type": "display_data"
    }
   ],
   "source": [
    "cuppini2017_model_causes_fit = cuppini2017_causes_job(\n",
    "    cuppini2017_causes_fit_res.x[0],\n",
    "    cuppini2017_causes_fit_res.x[1],\n",
    "    cuppini2017_causes_fit_res.x[2],\n",
    "    cuppini2017_causes_fit_res.x[3],\n",
    ")\n",
    "\n",
    "plt.plot(dis, cuppini2017_model_causes_fit)\n",
    "plt.scatter(dis, causes_data)"
   ]
  },
  {
   "cell_type": "code",
   "execution_count": 6,
   "metadata": {},
   "outputs": [
    {
     "name": "stdout",
     "output_type": "stream",
     "text": [
      "differential_evolution step 1: f(x)= 183.035\n",
      "differential_evolution step 2: f(x)= 138.313\n",
      "differential_evolution step 3: f(x)= 138.313\n",
      "differential_evolution step 4: f(x)= 138.313\n",
      "differential_evolution step 5: f(x)= 138.313\n",
      "differential_evolution step 6: f(x)= 91.8229\n",
      "differential_evolution step 7: f(x)= 91.8229\n",
      "differential_evolution step 8: f(x)= 91.8229\n",
      "differential_evolution step 9: f(x)= 91.8229\n",
      "differential_evolution step 10: f(x)= 91.5384\n",
      "differential_evolution step 11: f(x)= 91.5384\n",
      "differential_evolution step 12: f(x)= 85.8555\n",
      "differential_evolution step 13: f(x)= 85.8555\n",
      "differential_evolution step 14: f(x)= 85.8555\n",
      "differential_evolution step 15: f(x)= 85.8555\n",
      "differential_evolution step 16: f(x)= 79.8624\n",
      "differential_evolution step 17: f(x)= 79.8624\n",
      "differential_evolution step 18: f(x)= 79.8624\n",
      "differential_evolution step 19: f(x)= 79.8624\n",
      "differential_evolution step 20: f(x)= 79.8624\n",
      "differential_evolution step 21: f(x)= 79.8624\n",
      "differential_evolution step 22: f(x)= 79.8624\n",
      "differential_evolution step 23: f(x)= 79.3167\n",
      "differential_evolution step 24: f(x)= 79.3167\n",
      "differential_evolution step 25: f(x)= 79.3167\n",
      "differential_evolution step 26: f(x)= 79.3167\n",
      "differential_evolution step 27: f(x)= 78.8917\n",
      "differential_evolution step 28: f(x)= 78.5119\n",
      "differential_evolution step 29: f(x)= 78.3266\n",
      "differential_evolution step 30: f(x)= 78.1419\n",
      "differential_evolution step 31: f(x)= 78.1383\n",
      "differential_evolution step 32: f(x)= 78.1383\n",
      "differential_evolution step 33: f(x)= 78.0458\n",
      "differential_evolution step 34: f(x)= 77.695\n",
      "differential_evolution step 35: f(x)= 77.695\n",
      "differential_evolution step 36: f(x)= 77.695\n",
      "differential_evolution step 37: f(x)= 77.695\n",
      "differential_evolution step 38: f(x)= 77.695\n",
      "differential_evolution step 39: f(x)= 77.695\n",
      " message: Optimization terminated successfully.\n",
      " success: True\n",
      "     fun: 77.69496475781703\n",
      "       x: [ 6.006e+00  5.497e+01  4.123e+00  9.326e+01  2.750e+00]\n",
      "     nit: 39\n",
      "    nfev: 3000\n"
     ]
    }
   ],
   "source": [
    "from skneuromsi.neural import Cuppini2017\n",
    "from skneuromsi.sweep import ProcessingStrategyABC\n",
    "\n",
    "\n",
    "class CausesProcessingStrategy(ProcessingStrategyABC):\n",
    "    def map(self, result):\n",
    "        causes = result.causes_\n",
    "        del result._nddata\n",
    "        return causes\n",
    "\n",
    "    def reduce(self, results, **kwargs):\n",
    "        return np.array(results, dtype=np.float16)\n",
    "\n",
    "\n",
    "temporal_causes_data_short = temporal_causes_data[6:-4]\n",
    "\n",
    "\n",
    "def temporal_cuppini2017_causes_job(a_tau, v_tau, m_tau, ff_weight, cm_weight):\n",
    "    model = model = Cuppini2017(\n",
    "        neurons=10,\n",
    "        position_range=(0, 10),\n",
    "        position_res=1,\n",
    "        time_range=(0, 450),\n",
    "        tau=(a_tau, v_tau, m_tau),\n",
    "    )\n",
    "\n",
    "    v_onset = 160\n",
    "    sp = ParameterSweep(\n",
    "        model=model,\n",
    "        target=\"auditory_onset\",\n",
    "        repeat=1,\n",
    "        n_jobs=1,\n",
    "        range=v_onset + temporal_dis[6:-4],\n",
    "        processing_strategy=CausesProcessingStrategy(),\n",
    "    )\n",
    "\n",
    "    res = sp.run(\n",
    "        auditory_intensity=50,\n",
    "        visual_intensity=49,\n",
    "        feedforward_weight=ff_weight,\n",
    "        cross_modal_weight=cm_weight,\n",
    "        noise=False,\n",
    "        causes_kind=\"prob\",\n",
    "        causes_dim=\"time\",\n",
    "        auditory_stim_n=1,\n",
    "        visual_stim_n=1,\n",
    "        auditory_duration=8,\n",
    "        visual_duration=8,\n",
    "        visual_onset=v_onset,\n",
    "        causes_peak_threshold=0.10,\n",
    "        causes_peak_distance=1800,\n",
    "    )\n",
    "\n",
    "    return res\n",
    "\n",
    "\n",
    "def temporal_cuppini2017_causes_cost(theta):\n",
    "    model_data = temporal_cuppini2017_causes_job(\n",
    "        theta[0], theta[1], theta[2], theta[3], theta[4]\n",
    "    )\n",
    "\n",
    "    exp_data = temporal_causes_data_short\n",
    "\n",
    "    cost = np.sum(np.square(np.divide(exp_data - model_data, exp_data))) * 1000\n",
    "\n",
    "    return cost\n",
    "\n",
    "\n",
    "bounds = [(0.1, 55), (0.1, 55), (0.1, 75), (0.01, 150), (0.01, 24)]\n",
    "cuppini2017_temporal_causes_fit_res = differential_evolution(\n",
    "    temporal_cuppini2017_causes_cost,\n",
    "    bounds,\n",
    "    disp=True,\n",
    "    updating=\"deferred\",\n",
    "    workers=28,\n",
    "    polish=False,\n",
    "    seed=111,\n",
    ")\n",
    "print(cuppini2017_temporal_causes_fit_res)\n",
    "np.save(\"Cuppini_2017_temporal_fit_res_pars.npy\", cuppini2017_temporal_causes_fit_res.x)"
   ]
  },
  {
   "cell_type": "code",
   "execution_count": 9,
   "metadata": {},
   "outputs": [
    {
     "name": "stdout",
     "output_type": "stream",
     "text": [
      "[4.98957869e+01 1.07795699e+01 5.50864487e+00 1.04922296e+02\n",
      " 5.55275111e-02]\n"
     ]
    }
   ],
   "source": [
    "print(cuppini2017_temporal_causes_fit_res)"
   ]
  },
  {
   "cell_type": "code",
   "execution_count": 41,
   "metadata": {},
   "outputs": [],
   "source": [
    "from skneuromsi.sweep import ProcessingStrategyABC\n",
    "\n",
    "\n",
    "class CausesProcessingStrategy(ProcessingStrategyABC):\n",
    "    def map(self, result):\n",
    "        causes = result.causes_\n",
    "        del result._nddata\n",
    "        return causes\n",
    "\n",
    "    def reduce(self, results, **kwargs):\n",
    "        return np.array(results, dtype=np.float16)\n",
    "\n",
    "\n",
    "from skneuromsi.neural import Cuppini2017\n",
    "\n",
    "\n",
    "def temporal_cuppini2017_causes_job(a_tau, v_tau, m_tau, ff_weight, cm_weight):\n",
    "    model = model = Cuppini2017(\n",
    "        neurons=10,\n",
    "        position_range=(0, 10),\n",
    "        position_res=1,\n",
    "        time_range=(0, 450),\n",
    "        tau=(a_tau, v_tau, m_tau),\n",
    "    )\n",
    "\n",
    "    v_onset = 160\n",
    "    sp = ParameterSweep(\n",
    "        model=model,\n",
    "        target=\"auditory_onset\",\n",
    "        repeat=1,\n",
    "        n_jobs=1,\n",
    "        range=v_onset + temporal_dis[6:-4],\n",
    "        processing_strategy=CausesProcessingStrategy(),\n",
    "    )\n",
    "\n",
    "    res = sp.run(\n",
    "        auditory_intensity=50,\n",
    "        visual_intensity=49,\n",
    "        feedforward_weight=ff_weight,\n",
    "        cross_modal_weight=cm_weight,\n",
    "        noise=False,\n",
    "        causes_kind=\"prob\",\n",
    "        causes_dim=\"time\",\n",
    "        auditory_stim_n=1,\n",
    "        visual_stim_n=1,\n",
    "        auditory_duration=8,\n",
    "        visual_duration=8,\n",
    "        visual_onset=v_onset,\n",
    "        causes_peak_threshold=0.10,\n",
    "        causes_peak_distance=1800,\n",
    "    )\n",
    "\n",
    "    return res"
   ]
  },
  {
   "cell_type": "code",
   "execution_count": 42,
   "metadata": {},
   "outputs": [
    {
     "data": {
      "application/vnd.jupyter.widget-view+json": {
       "model_id": "f1b8eba9395743c9985ce16a3fd33c92",
       "version_major": 2,
       "version_minor": 0
      },
      "text/plain": [
       "Sweeping 'auditory_onset':   0%|          | 0/13 [00:00<?, ?it/s]"
      ]
     },
     "metadata": {},
     "output_type": "display_data"
    },
    {
     "data": {
      "text/plain": [
       "<matplotlib.collections.PathCollection at 0x7f3e201b1110>"
      ]
     },
     "execution_count": 42,
     "metadata": {},
     "output_type": "execute_result"
    },
    {
     "data": {
      "image/png": "[encoded data removed]",
      "text/plain": [
       "<Figure size 640x480 with 1 Axes>"
      ]
     },
     "metadata": {},
     "output_type": "display_data"
    }
   ],
   "source": [
    "cuppini2017_temporal_causes_fit_res = np.load(\"Cuppini_2017_temporal_fit_res_pars.npy\")\n",
    "temporal_cuppini2017_model_causes_fit = temporal_cuppini2017_causes_job(\n",
    "    cuppini2017_temporal_causes_fit_res[0],\n",
    "    cuppini2017_temporal_causes_fit_res[1],\n",
    "    cuppini2017_temporal_causes_fit_res[2],\n",
    "    cuppini2017_temporal_causes_fit_res[3],\n",
    "    cuppini2017_temporal_causes_fit_res[4],\n",
    ")\n",
    "\n",
    "plt.plot(temporal_dis[6:-4], temporal_cuppini2017_model_causes_fit)\n",
    "plt.scatter(temporal_dis[6:-4], temporal_causes_data[6:-4])"
   ]
  },
  {
   "cell_type": "code",
   "execution_count": 28,
   "metadata": {},
   "outputs": [
    {
     "data": {
      "application/vnd.jupyter.widget-view+json": {
       "model_id": "5e7c15fbc6ba4191a46a6ff940790ec5",
       "version_major": 2,
       "version_minor": 0
      },
      "text/plain": [
       "Sweeping 'auditory_onset':   0%|          | 0/13 [00:00<?, ?it/s]"
      ]
     },
     "metadata": {},
     "output_type": "display_data"
    },
    {
     "data": {
      "application/vnd.jupyter.widget-view+json": {
       "model_id": "402246220d234629b6797325eeb583c9",
       "version_major": 2,
       "version_minor": 0
      },
      "text/plain": [
       "Collecting metadata:   0%|          | 0/13 [00:00<?, ?it/s]"
      ]
     },
     "metadata": {},
     "output_type": "display_data"
    },
    {
     "data": {
      "text/plain": [
       "<NDResultCollection 'ParameterSweep' len=13>"
      ]
     },
     "execution_count": 28,
     "metadata": {},
     "output_type": "execute_result"
    }
   ],
   "source": [
    "from skneuromsi.neural import Cuppini2017\n",
    "\n",
    "cuppini2017_temporal_causes_fit_res = np.load(\"Cuppini_2017_temporal_fit_res_pars.npy\")\n",
    "\n",
    "\n",
    "def explore_temporal_cuppini2017_causes_job(a_tau, v_tau, m_tau, ff_weight, cm_weight):\n",
    "    model = Cuppini2017(\n",
    "        neurons=10,\n",
    "        position_range=(0, 10),\n",
    "        position_res=1,\n",
    "        time_range=(0, 450),\n",
    "        tau=(a_tau, v_tau, m_tau),\n",
    "    )\n",
    "\n",
    "    v_onset = 160\n",
    "    sp = ParameterSweep(\n",
    "        model=model,\n",
    "        target=\"auditory_onset\",\n",
    "        repeat=1,\n",
    "        n_jobs=1,\n",
    "        range=v_onset + temporal_dis[6:-4],\n",
    "    )\n",
    "\n",
    "    res = sp.run(\n",
    "        auditory_intensity=50,\n",
    "        visual_intensity=49,\n",
    "        feedforward_weight=ff_weight,\n",
    "        cross_modal_weight=cm_weight,\n",
    "        noise=False,\n",
    "        causes_kind=\"prob\",\n",
    "        causes_dim=\"time\",\n",
    "        auditory_soa=None,\n",
    "        visual_soa=None,\n",
    "        auditory_stim_n=1,\n",
    "        visual_stim_n=1,\n",
    "        auditory_duration=8,\n",
    "        visual_duration=8,\n",
    "        visual_onset=v_onset,\n",
    "        causes_peak_threshold=0.15,\n",
    "        causes_peak_distance=1800,\n",
    "    )\n",
    "\n",
    "    return res\n",
    "\n",
    "\n",
    "exp_res = explore_temporal_cuppini2017_causes_job(\n",
    "    cuppini2017_temporal_causes_fit_res[0],\n",
    "    cuppini2017_temporal_causes_fit_res[1],\n",
    "    cuppini2017_temporal_causes_fit_res[2],\n",
    "    cuppini2017_temporal_causes_fit_res[3],\n",
    "    cuppini2017_temporal_causes_fit_res[4],\n",
    ")\n",
    "\n",
    "exp_res"
   ]
  },
  {
   "cell_type": "code",
   "execution_count": 29,
   "metadata": {},
   "outputs": [
    {
     "data": {
      "text/plain": [
       "array([<Axes: title={'center': 'x0'}, xlabel='times', ylabel='values'>],\n",
       "      dtype=object)"
      ]
     },
     "execution_count": 29,
     "metadata": {},
     "output_type": "execute_result"
    },
    {
     "data": {
      "image/png": "[encoded data removed]",
      "text/plain": [
       "<Figure size 640x480 with 1 Axes>"
      ]
     },
     "metadata": {},
     "output_type": "display_data"
    }
   ],
   "source": [
    "exp_res[12].plot.linet()"
   ]
  },
  {
   "cell_type": "code",
   "execution_count": 30,
   "metadata": {},
   "outputs": [
    {
     "data": {
      "text/plain": [
       "<NDResult 'Cuppini2017', modes=['auditory' 'visual' 'multi'], times=45000, positions=10, positions_coordinates=1, causes=0.9419440088033667>"
      ]
     },
     "execution_count": 30,
     "metadata": {},
     "output_type": "execute_result"
    }
   ],
   "source": [
    "exp_res[12]\n",
    "## TRY 8ms stimulus duration and 1800 of peak distance. Also explore other parameters that manipulate the spread in time of the neural activation.\n",
    "## Maybe the Paredes model perfroms better by fitting the temporal filter parameters."
   ]
  },
  {
   "cell_type": "markdown",
   "metadata": {},
   "source": [
    "## Paredes"
   ]
  },
  {
   "cell_type": "code",
   "execution_count": 9,
   "metadata": {},
   "outputs": [
    {
     "name": "stdout",
     "output_type": "stream",
     "text": [
      "differential_evolution step 1: f(x)= 50.1213\n",
      "differential_evolution step 2: f(x)= 50.1213\n",
      "differential_evolution step 3: f(x)= 47.2535\n",
      "differential_evolution step 4: f(x)= 14.4285\n",
      "differential_evolution step 5: f(x)= 12.3938\n",
      "differential_evolution step 6: f(x)= 3.53395\n",
      "differential_evolution step 7: f(x)= 3.53395\n",
      "differential_evolution step 8: f(x)= 3.53395\n",
      "differential_evolution step 9: f(x)= 1.52297\n",
      "differential_evolution step 10: f(x)= 1.52297\n",
      "differential_evolution step 11: f(x)= 0.866251\n",
      "differential_evolution step 12: f(x)= 0.84268\n",
      "differential_evolution step 13: f(x)= 0.84268\n",
      "differential_evolution step 14: f(x)= 0.84268\n",
      "differential_evolution step 15: f(x)= 0.84268\n",
      "differential_evolution step 16: f(x)= 0.84268\n",
      "differential_evolution step 17: f(x)= 0.84268\n",
      "differential_evolution step 18: f(x)= 0.84268\n",
      "differential_evolution step 19: f(x)= 0.84268\n",
      "differential_evolution step 20: f(x)= 0.84268\n",
      "differential_evolution step 21: f(x)= 0.84268\n",
      "differential_evolution step 22: f(x)= 0.84268\n",
      "differential_evolution step 23: f(x)= 0.84268\n",
      "differential_evolution step 24: f(x)= 0.755041\n",
      "differential_evolution step 25: f(x)= 0.755041\n",
      "differential_evolution step 26: f(x)= 0.755041\n",
      "differential_evolution step 27: f(x)= 0.664475\n",
      "differential_evolution step 28: f(x)= 0.664475\n",
      "differential_evolution step 29: f(x)= 0.664475\n",
      "differential_evolution step 30: f(x)= 0.664475\n",
      "differential_evolution step 31: f(x)= 0.563285\n",
      "differential_evolution step 32: f(x)= 0.454371\n",
      "differential_evolution step 33: f(x)= 0.454371\n",
      "differential_evolution step 34: f(x)= 0.454371\n",
      "differential_evolution step 35: f(x)= 0.454371\n",
      "differential_evolution step 36: f(x)= 0.360026\n",
      "differential_evolution step 37: f(x)= 0.360026\n",
      "differential_evolution step 38: f(x)= 0.360026\n",
      "differential_evolution step 39: f(x)= 0.360026\n",
      "differential_evolution step 40: f(x)= 0.360026\n",
      "differential_evolution step 41: f(x)= 0.360026\n",
      "differential_evolution step 42: f(x)= 0.360026\n",
      "differential_evolution step 43: f(x)= 0.360026\n",
      "differential_evolution step 44: f(x)= 0.360026\n",
      "differential_evolution step 45: f(x)= 0.360026\n",
      "differential_evolution step 46: f(x)= 0.360026\n",
      "differential_evolution step 47: f(x)= 0.266533\n",
      "differential_evolution step 48: f(x)= 0.266533\n",
      "differential_evolution step 49: f(x)= 0.266533\n",
      "differential_evolution step 50: f(x)= 0.266533\n",
      "differential_evolution step 51: f(x)= 0.266533\n",
      "differential_evolution step 52: f(x)= 0.266533\n",
      "differential_evolution step 53: f(x)= 0.266533\n",
      "differential_evolution step 54: f(x)= 0.266533\n",
      "differential_evolution step 55: f(x)= 0.266533\n",
      "differential_evolution step 56: f(x)= 0.266533\n",
      "differential_evolution step 57: f(x)= 0.266533\n",
      "differential_evolution step 58: f(x)= 0.266533\n",
      "differential_evolution step 59: f(x)= 0.266533\n",
      "differential_evolution step 60: f(x)= 0.266533\n",
      "differential_evolution step 61: f(x)= 0.266533\n",
      "differential_evolution step 62: f(x)= 0.266533\n",
      "differential_evolution step 63: f(x)= 0.266533\n",
      "differential_evolution step 64: f(x)= 0.266533\n",
      "differential_evolution step 65: f(x)= 0.266533\n",
      "differential_evolution step 66: f(x)= 0.266533\n",
      "differential_evolution step 67: f(x)= 0.266533\n",
      "differential_evolution step 68: f(x)= 0.266533\n",
      "differential_evolution step 69: f(x)= 0.245689\n",
      "differential_evolution step 70: f(x)= 0.245689\n",
      "differential_evolution step 71: f(x)= 0.245689\n",
      "differential_evolution step 72: f(x)= 0.245689\n",
      "differential_evolution step 73: f(x)= 0.245689\n",
      "differential_evolution step 74: f(x)= 0.245689\n",
      "differential_evolution step 75: f(x)= 0.245689\n",
      "differential_evolution step 76: f(x)= 0.245689\n",
      "differential_evolution step 77: f(x)= 0.245689\n",
      "differential_evolution step 78: f(x)= 0.245689\n",
      "differential_evolution step 79: f(x)= 0.245689\n",
      "differential_evolution step 80: f(x)= 0.245689\n",
      "differential_evolution step 81: f(x)= 0.245689\n",
      "differential_evolution step 82: f(x)= 0.245689\n",
      "differential_evolution step 83: f(x)= 0.245689\n",
      "differential_evolution step 84: f(x)= 0.245689\n",
      "differential_evolution step 85: f(x)= 0.245689\n",
      "differential_evolution step 86: f(x)= 0.245689\n",
      "differential_evolution step 87: f(x)= 0.245689\n",
      "differential_evolution step 88: f(x)= 0.245689\n",
      "differential_evolution step 89: f(x)= 0.245689\n",
      "differential_evolution step 90: f(x)= 0.245689\n",
      "differential_evolution step 91: f(x)= 0.245689\n",
      "differential_evolution step 92: f(x)= 0.245689\n",
      "differential_evolution step 93: f(x)= 0.245689\n",
      "differential_evolution step 94: f(x)= 0.245689\n",
      "differential_evolution step 95: f(x)= 0.245689\n",
      "differential_evolution step 96: f(x)= 0.245689\n",
      "differential_evolution step 97: f(x)= 0.245689\n",
      "differential_evolution step 98: f(x)= 0.245689\n",
      "differential_evolution step 99: f(x)= 0.245689\n",
      "differential_evolution step 100: f(x)= 0.245689\n",
      "differential_evolution step 101: f(x)= 0.245689\n",
      "differential_evolution step 102: f(x)= 0.245689\n",
      "differential_evolution step 103: f(x)= 0.245689\n",
      " message: Optimization terminated successfully.\n",
      " success: True\n",
      "     fun: 0.24568882114976376\n",
      "       x: [ 2.000e+01  1.854e+01  1.113e+00  7.728e+00]\n",
      "     nit: 103\n",
      "    nfev: 6240\n"
     ]
    }
   ],
   "source": [
    "from skneuromsi.neural import Paredes2022\n",
    "\n",
    "\n",
    "def paredes2022_job(a_sigma, v_sigma, a_intensity, v_intensity):\n",
    "    biases = []\n",
    "    a_pos = 45\n",
    "    model = Paredes2022(\n",
    "        neurons=90, position_range=(0, 90), position_res=1, time_range=(0, 100)\n",
    "    )\n",
    "    for v_pos in a_pos + dis:\n",
    "        res = model.run(\n",
    "            visual_position=v_pos,\n",
    "            auditory_position=a_pos,\n",
    "            visual_sigma=v_sigma,\n",
    "            auditory_sigma=a_sigma,\n",
    "            noise=False,\n",
    "            auditory_intensity=a_intensity,\n",
    "            visual_intensity=v_intensity,\n",
    "            auditory_soa=None,\n",
    "            auditory_stim_n=1,\n",
    "            visual_stim_n=1,\n",
    "            auditory_duration=100,\n",
    "            visual_duration=100,\n",
    "            auditory_onset=0,\n",
    "            visual_onset=0,\n",
    "        )\n",
    "        max_time = res.to_xarray()[\"times\"].max().values\n",
    "        estimated_a_pos = (\n",
    "            res.get_modes(\"auditory\").query(\"times==@max_time\").values.argmax()\n",
    "        )\n",
    "        bias = np.absolute(estimated_a_pos - a_pos) / np.absolute(a_pos - v_pos)\n",
    "        biases.append(bias)\n",
    "    return np.array(biases)\n",
    "\n",
    "\n",
    "def paredes2022_cost(theta):\n",
    "    model_data = paredes2022_job(theta[0], theta[1], theta[2], theta[3])\n",
    "    exp_data = bias_data\n",
    "\n",
    "    cost = np.sum(np.square(np.divide(exp_data - model_data, exp_data)))\n",
    "\n",
    "    if theta[0] < theta[1]:\n",
    "        cost = 100000000000\n",
    "\n",
    "    return cost\n",
    "\n",
    "\n",
    "bounds = [(0.1, 48), (0.1, 48), (0.1, 30), (0.1, 30)]\n",
    "paredes2022_fit_res = differential_evolution(\n",
    "    paredes2022_cost, bounds, disp=True, updating=\"deferred\", workers=28, polish=False\n",
    ")\n",
    "print(paredes2022_fit_res)"
   ]
  },
  {
   "cell_type": "code",
   "execution_count": 11,
   "metadata": {},
   "outputs": [
    {
     "data": {
      "text/plain": [
       "<matplotlib.collections.PathCollection at 0x7f9f90d752d0>"
      ]
     },
     "execution_count": 11,
     "metadata": {},
     "output_type": "execute_result"
    },
    {
     "data": {
      "image/png": "[encoded data removed]",
      "text/plain": [
       "<Figure size 640x480 with 1 Axes>"
      ]
     },
     "metadata": {},
     "output_type": "display_data"
    }
   ],
   "source": [
    "paredes2022_model_fit = paredes2022_job(\n",
    "    paredes2022_fit_res.x[0],\n",
    "    paredes2022_fit_res.x[1],\n",
    "    paredes2022_fit_res.x[2],\n",
    "    paredes2022_fit_res.x[3],\n",
    ")\n",
    "\n",
    "plt.plot(dis, paredes2022_model_fit)\n",
    "plt.scatter(dis, bias_data)"
   ]
  },
  {
   "cell_type": "code",
   "execution_count": 9,
   "metadata": {},
   "outputs": [
    {
     "name": "stdout",
     "output_type": "stream",
     "text": [
      "differential_evolution step 1: f(x)= 1.38471\n",
      "differential_evolution step 2: f(x)= 1.30339\n",
      "differential_evolution step 3: f(x)= 1.30339\n",
      "differential_evolution step 4: f(x)= 1.03119\n",
      "differential_evolution step 5: f(x)= 1.03119\n",
      "differential_evolution step 6: f(x)= 1.03045\n",
      "differential_evolution step 7: f(x)= 1.03045\n",
      "differential_evolution step 8: f(x)= 1.03045\n",
      "differential_evolution step 9: f(x)= 1.03045\n",
      "differential_evolution step 10: f(x)= 1.03045\n",
      "differential_evolution step 11: f(x)= 1.03045\n",
      "differential_evolution step 12: f(x)= 1.03045\n",
      "differential_evolution step 13: f(x)= 1.03045\n",
      "differential_evolution step 14: f(x)= 1.03045\n",
      "differential_evolution step 15: f(x)= 1.03045\n",
      "differential_evolution step 16: f(x)= 1.03045\n",
      "differential_evolution step 17: f(x)= 1.03045\n",
      "differential_evolution step 18: f(x)= 1.03045\n",
      "differential_evolution step 19: f(x)= 0.410174\n",
      "differential_evolution step 20: f(x)= 0.410174\n",
      "differential_evolution step 21: f(x)= 0.410174\n",
      "differential_evolution step 22: f(x)= 0.410174\n",
      "differential_evolution step 23: f(x)= 0.220879\n",
      "differential_evolution step 24: f(x)= 0.220879\n",
      "differential_evolution step 25: f(x)= 0.220879\n",
      "differential_evolution step 26: f(x)= 0.220879\n",
      "differential_evolution step 27: f(x)= 0.0943992\n",
      "differential_evolution step 28: f(x)= 0.0943992\n",
      "differential_evolution step 29: f(x)= 0.0943992\n",
      "differential_evolution step 30: f(x)= 0.0943992\n",
      "differential_evolution step 31: f(x)= 0.0943992\n",
      "differential_evolution step 32: f(x)= 0.0943992\n",
      "differential_evolution step 33: f(x)= 0.0943992\n",
      "differential_evolution step 34: f(x)= 0.0943992\n",
      "differential_evolution step 35: f(x)= 0.0943992\n",
      "differential_evolution step 36: f(x)= 0.0943992\n",
      "differential_evolution step 37: f(x)= 0.0943992\n",
      "differential_evolution step 38: f(x)= 0.0943992\n",
      "differential_evolution step 39: f(x)= 0.0943992\n",
      "differential_evolution step 40: f(x)= 0.0943992\n",
      "differential_evolution step 41: f(x)= 0.0943992\n",
      "differential_evolution step 42: f(x)= 0.0943992\n",
      "differential_evolution step 43: f(x)= 0.0943992\n",
      "differential_evolution step 44: f(x)= 0.0803121\n",
      "differential_evolution step 45: f(x)= 0.0803121\n",
      "differential_evolution step 46: f(x)= 0.0803121\n",
      "differential_evolution step 47: f(x)= 0.0803121\n",
      "differential_evolution step 48: f(x)= 0.0803121\n",
      "differential_evolution step 49: f(x)= 0.0803121\n",
      "differential_evolution step 50: f(x)= 0.0803121\n",
      "differential_evolution step 51: f(x)= 0.0803121\n",
      "differential_evolution step 52: f(x)= 0.0803121\n",
      "differential_evolution step 53: f(x)= 0.0803121\n",
      "differential_evolution step 54: f(x)= 0.0803121\n",
      "differential_evolution step 55: f(x)= 0.0803121\n",
      "differential_evolution step 56: f(x)= 0.0803121\n",
      "differential_evolution step 57: f(x)= 0.0803121\n",
      "differential_evolution step 58: f(x)= 0.0803121\n",
      "differential_evolution step 59: f(x)= 0.0803121\n",
      "differential_evolution step 60: f(x)= 0.0803121\n",
      "differential_evolution step 61: f(x)= 0.0803121\n",
      "differential_evolution step 62: f(x)= 0.0803121\n",
      "differential_evolution step 63: f(x)= 0.0771307\n",
      "differential_evolution step 64: f(x)= 0.0771307\n",
      "differential_evolution step 65: f(x)= 0.0771307\n",
      "differential_evolution step 66: f(x)= 0.0771307\n",
      "differential_evolution step 67: f(x)= 0.0648146\n",
      "differential_evolution step 68: f(x)= 0.0648146\n",
      "differential_evolution step 69: f(x)= 0.0648146\n",
      "differential_evolution step 70: f(x)= 0.0648146\n",
      "differential_evolution step 71: f(x)= 0.0648146\n",
      "differential_evolution step 72: f(x)= 0.0648146\n",
      "differential_evolution step 73: f(x)= 0.0648146\n",
      "differential_evolution step 74: f(x)= 0.0648146\n",
      "differential_evolution step 75: f(x)= 0.0648146\n",
      "differential_evolution step 76: f(x)= 0.0648146\n",
      "differential_evolution step 77: f(x)= 0.0648146\n",
      "differential_evolution step 78: f(x)= 0.0592959\n",
      "differential_evolution step 79: f(x)= 0.0592959\n",
      "differential_evolution step 80: f(x)= 0.0592959\n",
      "differential_evolution step 81: f(x)= 0.0592959\n",
      "differential_evolution step 82: f(x)= 0.0592959\n",
      "differential_evolution step 83: f(x)= 0.0592959\n",
      "differential_evolution step 84: f(x)= 0.0592959\n",
      "differential_evolution step 85: f(x)= 0.0592959\n",
      "differential_evolution step 86: f(x)= 0.0592959\n",
      "differential_evolution step 87: f(x)= 0.0592959\n",
      "differential_evolution step 88: f(x)= 0.0592959\n",
      "differential_evolution step 89: f(x)= 0.0592959\n",
      "differential_evolution step 90: f(x)= 0.058393\n",
      "differential_evolution step 91: f(x)= 0.058393\n",
      "differential_evolution step 92: f(x)= 0.0576512\n",
      "differential_evolution step 93: f(x)= 0.0576512\n",
      "differential_evolution step 94: f(x)= 0.0576512\n",
      "differential_evolution step 95: f(x)= 0.0573173\n",
      "differential_evolution step 96: f(x)= 0.0573173\n",
      "differential_evolution step 97: f(x)= 0.0573173\n",
      "differential_evolution step 98: f(x)= 0.0573173\n",
      "differential_evolution step 99: f(x)= 0.0569103\n",
      "differential_evolution step 100: f(x)= 0.0569103\n",
      "differential_evolution step 101: f(x)= 0.0567453\n",
      "differential_evolution step 102: f(x)= 0.0567453\n",
      "differential_evolution step 103: f(x)= 0.0567453\n",
      "differential_evolution step 104: f(x)= 0.0567453\n",
      "differential_evolution step 105: f(x)= 0.0567453\n",
      "differential_evolution step 106: f(x)= 0.0567453\n",
      "differential_evolution step 107: f(x)= 0.0567453\n",
      "differential_evolution step 108: f(x)= 0.0567453\n",
      "differential_evolution step 109: f(x)= 0.0567453\n",
      "differential_evolution step 110: f(x)= 0.0567453\n",
      "differential_evolution step 111: f(x)= 0.0567453\n",
      "differential_evolution step 112: f(x)= 0.0563818\n",
      "differential_evolution step 113: f(x)= 0.0563818\n",
      "differential_evolution step 114: f(x)= 0.0563818\n",
      "differential_evolution step 115: f(x)= 0.0563818\n",
      "differential_evolution step 116: f(x)= 0.0563818\n",
      "differential_evolution step 117: f(x)= 0.0563818\n",
      "differential_evolution step 118: f(x)= 0.0563818\n",
      "differential_evolution step 119: f(x)= 0.0563818\n",
      "differential_evolution step 120: f(x)= 0.0563818\n",
      "differential_evolution step 121: f(x)= 0.0563818\n",
      "differential_evolution step 122: f(x)= 0.0563818\n",
      "differential_evolution step 123: f(x)= 0.0563818\n",
      "differential_evolution step 124: f(x)= 0.0563818\n",
      "differential_evolution step 125: f(x)= 0.0563818\n",
      "differential_evolution step 126: f(x)= 0.0563818\n",
      "differential_evolution step 127: f(x)= 0.0563818\n",
      "differential_evolution step 128: f(x)= 0.0563818\n",
      "differential_evolution step 129: f(x)= 0.0563818\n",
      "differential_evolution step 130: f(x)= 0.0563818\n",
      "differential_evolution step 131: f(x)= 0.056346\n",
      "differential_evolution step 132: f(x)= 0.0563363\n",
      "differential_evolution step 133: f(x)= 0.0563363\n",
      "differential_evolution step 134: f(x)= 0.0563363\n",
      "differential_evolution step 135: f(x)= 0.0563363\n",
      "differential_evolution step 136: f(x)= 0.0562336\n",
      "differential_evolution step 137: f(x)= 0.0562336\n",
      "differential_evolution step 138: f(x)= 0.0561875\n",
      "differential_evolution step 139: f(x)= 0.0561875\n",
      "differential_evolution step 140: f(x)= 0.0561875\n",
      "differential_evolution step 141: f(x)= 0.0561875\n",
      " message: Optimization terminated successfully.\n",
      " success: True\n",
      "     fun: 0.05618754603172747\n",
      "       x: [ 4.215e+01  1.673e+01  2.698e+01  4.776e+00]\n",
      "     nit: 141\n",
      "    nfev: 8520\n"
     ]
    }
   ],
   "source": [
    "from skneuromsi.neural import Paredes2022\n",
    "\n",
    "\n",
    "def paredes2022_causes_job(a_sigma, v_sigma, a_intensity, v_intensity):\n",
    "    causes = []\n",
    "    a_pos = 45\n",
    "    model = Paredes2022(\n",
    "        neurons=90, position_range=(0, 90), position_res=1, time_range=(0, 150)\n",
    "    )\n",
    "    for v_pos in a_pos + dis:\n",
    "        res = model.run(\n",
    "            visual_position=v_pos,\n",
    "            auditory_position=a_pos,\n",
    "            auditory_sigma=a_sigma,\n",
    "            visual_sigma=v_sigma,\n",
    "            noise=False,\n",
    "            auditory_intensity=a_intensity,\n",
    "            visual_intensity=v_intensity,\n",
    "            causes_kind=\"prob\",\n",
    "            auditory_soa=None,\n",
    "            visual_soa=None,\n",
    "            auditory_stim_n=1,\n",
    "            visual_stim_n=1,\n",
    "            auditory_duration=150,\n",
    "            visual_duration=150,\n",
    "            auditory_onset=0,\n",
    "            visual_onset=0,\n",
    "            causes_peak_threshold=0.15,\n",
    "        )\n",
    "        causes.append(res.causes_)\n",
    "\n",
    "    return np.array(causes)\n",
    "\n",
    "\n",
    "def paredes2022_causes_cost(theta):\n",
    "    model_data = paredes2022_causes_job(theta[0], theta[1], theta[2], theta[3])\n",
    "    exp_data = causes_data\n",
    "\n",
    "    cost = np.sum(np.square(np.divide(exp_data - model_data, exp_data)))\n",
    "\n",
    "    if theta[0] < theta[1]:\n",
    "        cost = 100000000000\n",
    "\n",
    "    return cost\n",
    "\n",
    "\n",
    "bounds = [(0.1, 48), (0.1, 48), (0.1, 30), (0.1, 30)]\n",
    "paredes2022_causes_fit_res = differential_evolution(\n",
    "    paredes2022_causes_cost,\n",
    "    bounds,\n",
    "    disp=True,\n",
    "    updating=\"deferred\",\n",
    "    workers=30,\n",
    "    polish=False,\n",
    ")\n",
    "print(paredes2022_causes_fit_res)"
   ]
  },
  {
   "cell_type": "code",
   "execution_count": 10,
   "metadata": {},
   "outputs": [
    {
     "data": {
      "text/plain": [
       "<matplotlib.collections.PathCollection at 0x7fa84aa4a110>"
      ]
     },
     "execution_count": 10,
     "metadata": {},
     "output_type": "execute_result"
    },
    {
     "data": {
      "image/png": "[encoded data removed]",
      "text/plain": [
       "<Figure size 640x480 with 1 Axes>"
      ]
     },
     "metadata": {},
     "output_type": "display_data"
    }
   ],
   "source": [
    "paredes2022_model_causes_fit = paredes2022_causes_job(\n",
    "    paredes2022_causes_fit_res.x[0],\n",
    "    paredes2022_causes_fit_res.x[1],\n",
    "    paredes2022_causes_fit_res.x[2],\n",
    "    paredes2022_causes_fit_res.x[3],\n",
    ")\n",
    "\n",
    "plt.plot(dis, paredes2022_model_causes_fit)\n",
    "plt.scatter(dis, causes_data)"
   ]
  },
  {
   "cell_type": "code",
   "execution_count": 53,
   "metadata": {},
   "outputs": [
    {
     "name": "stdout",
     "output_type": "stream",
     "text": [
      "differential_evolution step 1: f(x)= 421.937\n",
      "differential_evolution step 2: f(x)= 421.937\n",
      "differential_evolution step 3: f(x)= 421.937\n",
      "differential_evolution step 4: f(x)= 421.937\n",
      "differential_evolution step 5: f(x)= 421.937\n",
      "differential_evolution step 6: f(x)= 310.829\n",
      "differential_evolution step 7: f(x)= 310.829\n",
      "differential_evolution step 8: f(x)= 310.829\n",
      "differential_evolution step 9: f(x)= 310.829\n",
      "differential_evolution step 10: f(x)= 235.475\n",
      "differential_evolution step 11: f(x)= 235.475\n",
      "differential_evolution step 12: f(x)= 235.475\n",
      "differential_evolution step 13: f(x)= 172.634\n",
      "differential_evolution step 14: f(x)= 172.634\n",
      "differential_evolution step 15: f(x)= 172.634\n",
      "differential_evolution step 16: f(x)= 172.634\n",
      "differential_evolution step 17: f(x)= 172.634\n",
      "differential_evolution step 18: f(x)= 172.634\n",
      "differential_evolution step 19: f(x)= 172.634\n",
      "differential_evolution step 20: f(x)= 172.634\n",
      "differential_evolution step 21: f(x)= 172.634\n",
      "differential_evolution step 22: f(x)= 172.634\n",
      "differential_evolution step 23: f(x)= 172.634\n",
      "differential_evolution step 24: f(x)= 172.634\n",
      "differential_evolution step 25: f(x)= 172.634\n",
      "differential_evolution step 26: f(x)= 172.634\n",
      "differential_evolution step 27: f(x)= 172.634\n",
      "differential_evolution step 28: f(x)= 172.634\n",
      "differential_evolution step 29: f(x)= 172.634\n",
      "differential_evolution step 30: f(x)= 172.634\n",
      "differential_evolution step 31: f(x)= 172.634\n",
      "differential_evolution step 32: f(x)= 172.634\n",
      "differential_evolution step 33: f(x)= 172.634\n",
      "differential_evolution step 34: f(x)= 164.277\n",
      "differential_evolution step 35: f(x)= 164.277\n",
      "differential_evolution step 36: f(x)= 164.277\n",
      "differential_evolution step 37: f(x)= 164.277\n",
      "differential_evolution step 38: f(x)= 164.277\n",
      "differential_evolution step 39: f(x)= 164.277\n",
      "differential_evolution step 40: f(x)= 164.277\n",
      "differential_evolution step 41: f(x)= 150.902\n",
      "differential_evolution step 42: f(x)= 77.8047\n",
      "differential_evolution step 43: f(x)= 77.8047\n",
      "differential_evolution step 44: f(x)= 77.8047\n",
      "differential_evolution step 45: f(x)= 77.8047\n",
      "differential_evolution step 46: f(x)= 77.8047\n",
      "differential_evolution step 47: f(x)= 77.8047\n",
      "differential_evolution step 48: f(x)= 77.8047\n",
      "differential_evolution step 49: f(x)= 77.8047\n",
      "differential_evolution step 50: f(x)= 77.8047\n",
      "differential_evolution step 51: f(x)= 77.8047\n",
      "differential_evolution step 52: f(x)= 77.8047\n",
      "differential_evolution step 53: f(x)= 77.8047\n",
      "differential_evolution step 54: f(x)= 77.8047\n",
      "differential_evolution step 55: f(x)= 77.8047\n",
      "differential_evolution step 56: f(x)= 77.8047\n",
      "differential_evolution step 57: f(x)= 77.8047\n",
      "differential_evolution step 58: f(x)= 77.8047\n",
      "differential_evolution step 59: f(x)= 77.8047\n",
      "differential_evolution step 60: f(x)= 77.8047\n",
      "differential_evolution step 61: f(x)= 77.8047\n",
      "differential_evolution step 62: f(x)= 77.8047\n",
      "differential_evolution step 63: f(x)= 77.8047\n",
      "differential_evolution step 64: f(x)= 77.8047\n",
      "differential_evolution step 65: f(x)= 77.8047\n",
      "differential_evolution step 66: f(x)= 77.8047\n",
      "differential_evolution step 67: f(x)= 73.4938\n",
      "differential_evolution step 68: f(x)= 73.4938\n",
      "differential_evolution step 69: f(x)= 73.4938\n",
      "differential_evolution step 70: f(x)= 73.4938\n",
      "differential_evolution step 71: f(x)= 73.4938\n",
      "differential_evolution step 72: f(x)= 73.4938\n",
      "differential_evolution step 73: f(x)= 73.4938\n",
      "differential_evolution step 74: f(x)= 73.4938\n",
      "differential_evolution step 75: f(x)= 62.5231\n",
      "differential_evolution step 76: f(x)= 62.5231\n",
      "differential_evolution step 77: f(x)= 62.5231\n",
      "differential_evolution step 78: f(x)= 62.5231\n",
      "differential_evolution step 79: f(x)= 62.5231\n",
      "differential_evolution step 80: f(x)= 62.5231\n",
      "differential_evolution step 81: f(x)= 62.5231\n",
      "differential_evolution step 82: f(x)= 62.5231\n",
      "differential_evolution step 83: f(x)= 62.5231\n",
      "differential_evolution step 84: f(x)= 62.5231\n",
      "differential_evolution step 85: f(x)= 62.5231\n",
      "differential_evolution step 86: f(x)= 62.5231\n",
      "differential_evolution step 87: f(x)= 62.5231\n",
      "differential_evolution step 88: f(x)= 62.5231\n",
      "differential_evolution step 89: f(x)= 62.5231\n",
      "differential_evolution step 90: f(x)= 62.5231\n",
      "differential_evolution step 91: f(x)= 62.5231\n"
     ]
    },
    {
     "ename": "KeyboardInterrupt",
     "evalue": "",
     "output_type": "error",
     "traceback": [
      "\u001b[0;31m---------------------------------------------------------------------------\u001b[0m",
      "\u001b[0;31mKeyboardInterrupt\u001b[0m                         Traceback (most recent call last)",
      "Cell \u001b[0;32mIn[53], line 73\u001b[0m\n\u001b[1;32m     69\u001b[0m     \u001b[38;5;28;01mreturn\u001b[39;00m cost\n\u001b[1;32m     72\u001b[0m bounds \u001b[38;5;241m=\u001b[39m [(\u001b[38;5;241m15\u001b[39m, \u001b[38;5;241m100\u001b[39m), (\u001b[38;5;241m15\u001b[39m, \u001b[38;5;241m100\u001b[39m), (\u001b[38;5;241m0.005\u001b[39m, \u001b[38;5;241m200\u001b[39m), (\u001b[38;5;241m0\u001b[39m, \u001b[38;5;241m200\u001b[39m), (\u001b[38;5;241m0\u001b[39m, \u001b[38;5;241m1\u001b[39m), (\u001b[38;5;241m0\u001b[39m, \u001b[38;5;241m1\u001b[39m)]\n\u001b[0;32m---> 73\u001b[0m paredes2022_temporal_causes_fit_res \u001b[38;5;241m=\u001b[39m \u001b[43mdifferential_evolution\u001b[49m\u001b[43m(\u001b[49m\n\u001b[1;32m     74\u001b[0m \u001b[43m    \u001b[49m\u001b[43mtemporal_paredes2022_causes_cost\u001b[49m\u001b[43m,\u001b[49m\n\u001b[1;32m     75\u001b[0m \u001b[43m    \u001b[49m\u001b[43mbounds\u001b[49m\u001b[43m,\u001b[49m\n\u001b[1;32m     76\u001b[0m \u001b[43m    \u001b[49m\u001b[43mdisp\u001b[49m\u001b[38;5;241;43m=\u001b[39;49m\u001b[38;5;28;43;01mTrue\u001b[39;49;00m\u001b[43m,\u001b[49m\n\u001b[1;32m     77\u001b[0m \u001b[43m    \u001b[49m\u001b[43mupdating\u001b[49m\u001b[38;5;241;43m=\u001b[39;49m\u001b[38;5;124;43m\"\u001b[39;49m\u001b[38;5;124;43mdeferred\u001b[39;49m\u001b[38;5;124;43m\"\u001b[39;49m\u001b[43m,\u001b[49m\n\u001b[1;32m     78\u001b[0m \u001b[43m    \u001b[49m\u001b[43mworkers\u001b[49m\u001b[38;5;241;43m=\u001b[39;49m\u001b[38;5;241;43m28\u001b[39;49m\u001b[43m,\u001b[49m\n\u001b[1;32m     79\u001b[0m \u001b[43m    \u001b[49m\u001b[43mpolish\u001b[49m\u001b[38;5;241;43m=\u001b[39;49m\u001b[38;5;28;43;01mFalse\u001b[39;49;00m\u001b[43m,\u001b[49m\n\u001b[1;32m     80\u001b[0m \u001b[43m)\u001b[49m\n\u001b[1;32m     82\u001b[0m \u001b[38;5;28mprint\u001b[39m(paredes2022_temporal_causes_fit_res)\n\u001b[1;32m     83\u001b[0m np\u001b[38;5;241m.\u001b[39msave(\u001b[38;5;124m\"\u001b[39m\u001b[38;5;124mParedes_2022_temporal_fit_res_pars_fb.npy\u001b[39m\u001b[38;5;124m\"\u001b[39m, paredes2022_temporal_causes_fit_res\u001b[38;5;241m.\u001b[39mx)\n",
      "File \u001b[0;32m~/.virtualenvs/skneuromsi/lib/python3.11/site-packages/scipy/optimize/_differentialevolution.py:402\u001b[0m, in \u001b[0;36mdifferential_evolution\u001b[0;34m(func, bounds, args, strategy, maxiter, popsize, tol, mutation, recombination, seed, callback, disp, polish, init, atol, updating, workers, constraints, x0, integrality, vectorized)\u001b[0m\n\u001b[1;32m    385\u001b[0m \u001b[38;5;66;03m# using a context manager means that any created Pool objects are\u001b[39;00m\n\u001b[1;32m    386\u001b[0m \u001b[38;5;66;03m# cleared up.\u001b[39;00m\n\u001b[1;32m    387\u001b[0m \u001b[38;5;28;01mwith\u001b[39;00m DifferentialEvolutionSolver(func, bounds, args\u001b[38;5;241m=\u001b[39margs,\n\u001b[1;32m    388\u001b[0m                                  strategy\u001b[38;5;241m=\u001b[39mstrategy,\n\u001b[1;32m    389\u001b[0m                                  maxiter\u001b[38;5;241m=\u001b[39mmaxiter,\n\u001b[0;32m   (...)\u001b[0m\n\u001b[1;32m    400\u001b[0m                                  integrality\u001b[38;5;241m=\u001b[39mintegrality,\n\u001b[1;32m    401\u001b[0m                                  vectorized\u001b[38;5;241m=\u001b[39mvectorized) \u001b[38;5;28;01mas\u001b[39;00m solver:\n\u001b[0;32m--> 402\u001b[0m     ret \u001b[38;5;241m=\u001b[39m \u001b[43msolver\u001b[49m\u001b[38;5;241;43m.\u001b[39;49m\u001b[43msolve\u001b[49m\u001b[43m(\u001b[49m\u001b[43m)\u001b[49m\n\u001b[1;32m    404\u001b[0m \u001b[38;5;28;01mreturn\u001b[39;00m ret\n",
      "File \u001b[0;32m~/.virtualenvs/skneuromsi/lib/python3.11/site-packages/scipy/optimize/_differentialevolution.py:1022\u001b[0m, in \u001b[0;36mDifferentialEvolutionSolver.solve\u001b[0;34m(self)\u001b[0m\n\u001b[1;32m   1019\u001b[0m \u001b[38;5;28;01mfor\u001b[39;00m nit \u001b[38;5;129;01min\u001b[39;00m \u001b[38;5;28mrange\u001b[39m(\u001b[38;5;241m1\u001b[39m, \u001b[38;5;28mself\u001b[39m\u001b[38;5;241m.\u001b[39mmaxiter \u001b[38;5;241m+\u001b[39m \u001b[38;5;241m1\u001b[39m):\n\u001b[1;32m   1020\u001b[0m     \u001b[38;5;66;03m# evolve the population by a generation\u001b[39;00m\n\u001b[1;32m   1021\u001b[0m     \u001b[38;5;28;01mtry\u001b[39;00m:\n\u001b[0;32m-> 1022\u001b[0m         \u001b[38;5;28mnext\u001b[39m(\u001b[38;5;28mself\u001b[39m)\n\u001b[1;32m   1023\u001b[0m     \u001b[38;5;28;01mexcept\u001b[39;00m \u001b[38;5;167;01mStopIteration\u001b[39;00m:\n\u001b[1;32m   1024\u001b[0m         warning_flag \u001b[38;5;241m=\u001b[39m \u001b[38;5;28;01mTrue\u001b[39;00m\n",
      "File \u001b[0;32m~/.virtualenvs/skneuromsi/lib/python3.11/site-packages/scipy/optimize/_differentialevolution.py:1449\u001b[0m, in \u001b[0;36mDifferentialEvolutionSolver.__next__\u001b[0;34m(self)\u001b[0m\n\u001b[1;32m   1446\u001b[0m trial_energies \u001b[38;5;241m=\u001b[39m np\u001b[38;5;241m.\u001b[39mfull(\u001b[38;5;28mself\u001b[39m\u001b[38;5;241m.\u001b[39mnum_population_members, np\u001b[38;5;241m.\u001b[39minf)\n\u001b[1;32m   1448\u001b[0m \u001b[38;5;66;03m# only calculate for feasible entries\u001b[39;00m\n\u001b[0;32m-> 1449\u001b[0m trial_energies[feasible] \u001b[38;5;241m=\u001b[39m \u001b[38;5;28;43mself\u001b[39;49m\u001b[38;5;241;43m.\u001b[39;49m\u001b[43m_calculate_population_energies\u001b[49m\u001b[43m(\u001b[49m\n\u001b[1;32m   1450\u001b[0m \u001b[43m    \u001b[49m\u001b[43mtrial_pop\u001b[49m\u001b[43m[\u001b[49m\u001b[43mfeasible\u001b[49m\u001b[43m]\u001b[49m\u001b[43m)\u001b[49m\n\u001b[1;32m   1452\u001b[0m \u001b[38;5;66;03m# which solutions are 'improved'?\u001b[39;00m\n\u001b[1;32m   1453\u001b[0m loc \u001b[38;5;241m=\u001b[39m [\u001b[38;5;28mself\u001b[39m\u001b[38;5;241m.\u001b[39m_accept_trial(\u001b[38;5;241m*\u001b[39mval) \u001b[38;5;28;01mfor\u001b[39;00m val \u001b[38;5;129;01min\u001b[39;00m\n\u001b[1;32m   1454\u001b[0m        \u001b[38;5;28mzip\u001b[39m(trial_energies, feasible, cv, \u001b[38;5;28mself\u001b[39m\u001b[38;5;241m.\u001b[39mpopulation_energies,\n\u001b[1;32m   1455\u001b[0m            \u001b[38;5;28mself\u001b[39m\u001b[38;5;241m.\u001b[39mfeasible, \u001b[38;5;28mself\u001b[39m\u001b[38;5;241m.\u001b[39mconstraint_violation)]\n",
      "File \u001b[0;32m~/.virtualenvs/skneuromsi/lib/python3.11/site-packages/scipy/optimize/_differentialevolution.py:1147\u001b[0m, in \u001b[0;36mDifferentialEvolutionSolver._calculate_population_energies\u001b[0;34m(self, population)\u001b[0m\n\u001b[1;32m   1144\u001b[0m parameters_pop \u001b[38;5;241m=\u001b[39m \u001b[38;5;28mself\u001b[39m\u001b[38;5;241m.\u001b[39m_scale_parameters(population)\n\u001b[1;32m   1145\u001b[0m \u001b[38;5;28;01mtry\u001b[39;00m:\n\u001b[1;32m   1146\u001b[0m     calc_energies \u001b[38;5;241m=\u001b[39m \u001b[38;5;28mlist\u001b[39m(\n\u001b[0;32m-> 1147\u001b[0m         \u001b[38;5;28;43mself\u001b[39;49m\u001b[38;5;241;43m.\u001b[39;49m\u001b[43m_mapwrapper\u001b[49m\u001b[43m(\u001b[49m\u001b[38;5;28;43mself\u001b[39;49m\u001b[38;5;241;43m.\u001b[39;49m\u001b[43mfunc\u001b[49m\u001b[43m,\u001b[49m\u001b[43m \u001b[49m\u001b[43mparameters_pop\u001b[49m\u001b[43m[\u001b[49m\u001b[38;5;241;43m0\u001b[39;49m\u001b[43m:\u001b[49m\u001b[43mS\u001b[49m\u001b[43m]\u001b[49m\u001b[43m)\u001b[49m\n\u001b[1;32m   1148\u001b[0m     )\n\u001b[1;32m   1149\u001b[0m     calc_energies \u001b[38;5;241m=\u001b[39m np\u001b[38;5;241m.\u001b[39msqueeze(calc_energies)\n\u001b[1;32m   1150\u001b[0m \u001b[38;5;28;01mexcept\u001b[39;00m (\u001b[38;5;167;01mTypeError\u001b[39;00m, \u001b[38;5;167;01mValueError\u001b[39;00m) \u001b[38;5;28;01mas\u001b[39;00m e:\n\u001b[1;32m   1151\u001b[0m     \u001b[38;5;66;03m# wrong number of arguments for _mapwrapper\u001b[39;00m\n\u001b[1;32m   1152\u001b[0m     \u001b[38;5;66;03m# or wrong length returned from the mapper\u001b[39;00m\n",
      "File \u001b[0;32m~/.virtualenvs/skneuromsi/lib/python3.11/site-packages/scipy/_lib/_util.py:430\u001b[0m, in \u001b[0;36mMapWrapper.__call__\u001b[0;34m(self, func, iterable)\u001b[0m\n\u001b[1;32m    427\u001b[0m \u001b[38;5;28;01mdef\u001b[39;00m \u001b[38;5;21m__call__\u001b[39m(\u001b[38;5;28mself\u001b[39m, func, iterable):\n\u001b[1;32m    428\u001b[0m     \u001b[38;5;66;03m# only accept one iterable because that's all Pool.map accepts\u001b[39;00m\n\u001b[1;32m    429\u001b[0m     \u001b[38;5;28;01mtry\u001b[39;00m:\n\u001b[0;32m--> 430\u001b[0m         \u001b[38;5;28;01mreturn\u001b[39;00m \u001b[38;5;28;43mself\u001b[39;49m\u001b[38;5;241;43m.\u001b[39;49m\u001b[43m_mapfunc\u001b[49m\u001b[43m(\u001b[49m\u001b[43mfunc\u001b[49m\u001b[43m,\u001b[49m\u001b[43m \u001b[49m\u001b[43miterable\u001b[49m\u001b[43m)\u001b[49m\n\u001b[1;32m    431\u001b[0m     \u001b[38;5;28;01mexcept\u001b[39;00m \u001b[38;5;167;01mTypeError\u001b[39;00m \u001b[38;5;28;01mas\u001b[39;00m e:\n\u001b[1;32m    432\u001b[0m         \u001b[38;5;66;03m# wrong number of arguments\u001b[39;00m\n\u001b[1;32m    433\u001b[0m         \u001b[38;5;28;01mraise\u001b[39;00m \u001b[38;5;167;01mTypeError\u001b[39;00m(\u001b[38;5;124m\"\u001b[39m\u001b[38;5;124mThe map-like callable must be of the\u001b[39m\u001b[38;5;124m\"\u001b[39m\n\u001b[1;32m    434\u001b[0m                         \u001b[38;5;124m\"\u001b[39m\u001b[38;5;124m form f(func, iterable)\u001b[39m\u001b[38;5;124m\"\u001b[39m) \u001b[38;5;28;01mfrom\u001b[39;00m \u001b[38;5;21;01me\u001b[39;00m\n",
      "File \u001b[0;32m/usr/lib/python3.11/multiprocessing/pool.py:367\u001b[0m, in \u001b[0;36mPool.map\u001b[0;34m(self, func, iterable, chunksize)\u001b[0m\n\u001b[1;32m    362\u001b[0m \u001b[38;5;28;01mdef\u001b[39;00m \u001b[38;5;21mmap\u001b[39m(\u001b[38;5;28mself\u001b[39m, func, iterable, chunksize\u001b[38;5;241m=\u001b[39m\u001b[38;5;28;01mNone\u001b[39;00m):\n\u001b[1;32m    363\u001b[0m \u001b[38;5;250m    \u001b[39m\u001b[38;5;124;03m'''\u001b[39;00m\n\u001b[1;32m    364\u001b[0m \u001b[38;5;124;03m    Apply `func` to each element in `iterable`, collecting the results\u001b[39;00m\n\u001b[1;32m    365\u001b[0m \u001b[38;5;124;03m    in a list that is returned.\u001b[39;00m\n\u001b[1;32m    366\u001b[0m \u001b[38;5;124;03m    '''\u001b[39;00m\n\u001b[0;32m--> 367\u001b[0m     \u001b[38;5;28;01mreturn\u001b[39;00m \u001b[38;5;28;43mself\u001b[39;49m\u001b[38;5;241;43m.\u001b[39;49m\u001b[43m_map_async\u001b[49m\u001b[43m(\u001b[49m\u001b[43mfunc\u001b[49m\u001b[43m,\u001b[49m\u001b[43m \u001b[49m\u001b[43miterable\u001b[49m\u001b[43m,\u001b[49m\u001b[43m \u001b[49m\u001b[43mmapstar\u001b[49m\u001b[43m,\u001b[49m\u001b[43m \u001b[49m\u001b[43mchunksize\u001b[49m\u001b[43m)\u001b[49m\u001b[38;5;241;43m.\u001b[39;49m\u001b[43mget\u001b[49m\u001b[43m(\u001b[49m\u001b[43m)\u001b[49m\n",
      "File \u001b[0;32m/usr/lib/python3.11/multiprocessing/pool.py:768\u001b[0m, in \u001b[0;36mApplyResult.get\u001b[0;34m(self, timeout)\u001b[0m\n\u001b[1;32m    767\u001b[0m \u001b[38;5;28;01mdef\u001b[39;00m \u001b[38;5;21mget\u001b[39m(\u001b[38;5;28mself\u001b[39m, timeout\u001b[38;5;241m=\u001b[39m\u001b[38;5;28;01mNone\u001b[39;00m):\n\u001b[0;32m--> 768\u001b[0m     \u001b[38;5;28;43mself\u001b[39;49m\u001b[38;5;241;43m.\u001b[39;49m\u001b[43mwait\u001b[49m\u001b[43m(\u001b[49m\u001b[43mtimeout\u001b[49m\u001b[43m)\u001b[49m\n\u001b[1;32m    769\u001b[0m     \u001b[38;5;28;01mif\u001b[39;00m \u001b[38;5;129;01mnot\u001b[39;00m \u001b[38;5;28mself\u001b[39m\u001b[38;5;241m.\u001b[39mready():\n\u001b[1;32m    770\u001b[0m         \u001b[38;5;28;01mraise\u001b[39;00m \u001b[38;5;167;01mTimeoutError\u001b[39;00m\n",
      "File \u001b[0;32m/usr/lib/python3.11/multiprocessing/pool.py:765\u001b[0m, in \u001b[0;36mApplyResult.wait\u001b[0;34m(self, timeout)\u001b[0m\n\u001b[1;32m    764\u001b[0m \u001b[38;5;28;01mdef\u001b[39;00m \u001b[38;5;21mwait\u001b[39m(\u001b[38;5;28mself\u001b[39m, timeout\u001b[38;5;241m=\u001b[39m\u001b[38;5;28;01mNone\u001b[39;00m):\n\u001b[0;32m--> 765\u001b[0m     \u001b[38;5;28;43mself\u001b[39;49m\u001b[38;5;241;43m.\u001b[39;49m\u001b[43m_event\u001b[49m\u001b[38;5;241;43m.\u001b[39;49m\u001b[43mwait\u001b[49m\u001b[43m(\u001b[49m\u001b[43mtimeout\u001b[49m\u001b[43m)\u001b[49m\n",
      "File \u001b[0;32m/usr/lib/python3.11/threading.py:629\u001b[0m, in \u001b[0;36mEvent.wait\u001b[0;34m(self, timeout)\u001b[0m\n\u001b[1;32m    627\u001b[0m signaled \u001b[38;5;241m=\u001b[39m \u001b[38;5;28mself\u001b[39m\u001b[38;5;241m.\u001b[39m_flag\n\u001b[1;32m    628\u001b[0m \u001b[38;5;28;01mif\u001b[39;00m \u001b[38;5;129;01mnot\u001b[39;00m signaled:\n\u001b[0;32m--> 629\u001b[0m     signaled \u001b[38;5;241m=\u001b[39m \u001b[38;5;28;43mself\u001b[39;49m\u001b[38;5;241;43m.\u001b[39;49m\u001b[43m_cond\u001b[49m\u001b[38;5;241;43m.\u001b[39;49m\u001b[43mwait\u001b[49m\u001b[43m(\u001b[49m\u001b[43mtimeout\u001b[49m\u001b[43m)\u001b[49m\n\u001b[1;32m    630\u001b[0m \u001b[38;5;28;01mreturn\u001b[39;00m signaled\n",
      "File \u001b[0;32m/usr/lib/python3.11/threading.py:327\u001b[0m, in \u001b[0;36mCondition.wait\u001b[0;34m(self, timeout)\u001b[0m\n\u001b[1;32m    325\u001b[0m \u001b[38;5;28;01mtry\u001b[39;00m:    \u001b[38;5;66;03m# restore state no matter what (e.g., KeyboardInterrupt)\u001b[39;00m\n\u001b[1;32m    326\u001b[0m     \u001b[38;5;28;01mif\u001b[39;00m timeout \u001b[38;5;129;01mis\u001b[39;00m \u001b[38;5;28;01mNone\u001b[39;00m:\n\u001b[0;32m--> 327\u001b[0m         \u001b[43mwaiter\u001b[49m\u001b[38;5;241;43m.\u001b[39;49m\u001b[43macquire\u001b[49m\u001b[43m(\u001b[49m\u001b[43m)\u001b[49m\n\u001b[1;32m    328\u001b[0m         gotit \u001b[38;5;241m=\u001b[39m \u001b[38;5;28;01mTrue\u001b[39;00m\n\u001b[1;32m    329\u001b[0m     \u001b[38;5;28;01melse\u001b[39;00m:\n",
      "\u001b[0;31mKeyboardInterrupt\u001b[0m: "
     ]
    }
   ],
   "source": [
    "from skneuromsi.neural import Paredes2022\n",
    "from skneuromsi.sweep import ProcessingStrategyABC\n",
    "\n",
    "\n",
    "class CausesProcessingStrategy(ProcessingStrategyABC):\n",
    "    def map(self, result):\n",
    "        causes = result.causes_\n",
    "        del result._nddata\n",
    "        return causes\n",
    "\n",
    "    def reduce(self, results, **kwargs):\n",
    "        return np.array(results, dtype=np.float32)\n",
    "\n",
    "\n",
    "temporal_causes_data_short = temporal_causes_data[6:-4]\n",
    "\n",
    "\n",
    "def temporal_paredes2022_causes_job(\n",
    "    a_tau, v_tau, m_tau, ff_weight, cm_weight, fb_weight\n",
    "):\n",
    "    model = model = Paredes2022(\n",
    "        neurons=10,\n",
    "        position_range=(0, 10),\n",
    "        position_res=1,\n",
    "        time_range=(0, 450),\n",
    "        tau=(a_tau, v_tau, m_tau),\n",
    "    )\n",
    "\n",
    "    v_onset = 110\n",
    "    sp = ParameterSweep(\n",
    "        model=model,\n",
    "        target=\"auditory_onset\",\n",
    "        repeat=1,\n",
    "        n_jobs=1,\n",
    "        range=v_onset + temporal_dis[6:-4],\n",
    "        processing_strategy=CausesProcessingStrategy(),\n",
    "    )\n",
    "\n",
    "    res = sp.run(\n",
    "        auditory_intensity=2.55,\n",
    "        visual_intensity=2.5,\n",
    "        feedforward_weight=ff_weight,\n",
    "        cross_modal_weight=cm_weight,\n",
    "        noise=False,\n",
    "        causes_kind=\"prob\",\n",
    "        causes_dim=\"time\",\n",
    "        auditory_soa=None,\n",
    "        visual_soa=None,\n",
    "        auditory_stim_n=1,\n",
    "        visual_stim_n=1,\n",
    "        auditory_duration=6,\n",
    "        visual_duration=6,\n",
    "        visual_onset=v_onset,\n",
    "        causes_peak_threshold=0.10,\n",
    "        causes_peak_distance=1600,\n",
    "        feed_latency=24,\n",
    "        feedback_weight=fb_weight,\n",
    "    )\n",
    "\n",
    "    return res\n",
    "\n",
    "\n",
    "def temporal_paredes2022_causes_cost(theta):\n",
    "    model_data = temporal_paredes2022_causes_job(\n",
    "        theta[0], theta[1], theta[2], theta[3], theta[4], theta[5]\n",
    "    )\n",
    "    exp_data = temporal_causes_data_short\n",
    "\n",
    "    cost = np.sum(np.square(np.divide(exp_data - model_data, exp_data))) * 1000\n",
    "\n",
    "    return cost\n",
    "\n",
    "\n",
    "bounds = [(15, 100), (15, 100), (0.005, 200), (0, 200), (0, 1), (0, 1)]\n",
    "paredes2022_temporal_causes_fit_res = differential_evolution(\n",
    "    temporal_paredes2022_causes_cost,\n",
    "    bounds,\n",
    "    disp=True,\n",
    "    updating=\"deferred\",\n",
    "    workers=28,\n",
    "    polish=False,\n",
    ")\n",
    "\n",
    "print(paredes2022_temporal_causes_fit_res)\n",
    "np.save(\n",
    "    \"Paredes_2022_temporal_fit_res_pars_fb.npy\", paredes2022_temporal_causes_fit_res.x\n",
    ")"
   ]
  },
  {
   "cell_type": "code",
   "execution_count": null,
   "metadata": {},
   "outputs": [
    {
     "name": "stdout",
     "output_type": "stream",
     "text": [
      " message: Optimization terminated successfully.\n",
      " success: True\n",
      "     fun: 214.04219972882714\n",
      "       x: [ 2.987e+00  3.778e+01  8.365e-01  1.148e+02  3.046e-02\n",
      "            9.669e-01]\n",
      "     nit: 69\n",
      "    nfev: 6300\n"
     ]
    }
   ],
   "source": [
    "print(paredes2022_temporal_causes_fit_res)"
   ]
  },
  {
   "cell_type": "code",
   "execution_count": 59,
   "metadata": {},
   "outputs": [],
   "source": [
    "from skneuromsi.neural import Paredes2022\n",
    "from skneuromsi.sweep import ProcessingStrategyABC\n",
    "\n",
    "\n",
    "class CausesProcessingStrategy(ProcessingStrategyABC):\n",
    "    def map(self, result):\n",
    "        causes = result.causes_\n",
    "        del result._nddata\n",
    "        return causes\n",
    "\n",
    "    def reduce(self, results, **kwargs):\n",
    "        return np.array(results, dtype=np.float32)\n",
    "\n",
    "\n",
    "temporal_causes_data_short = temporal_causes_data[6:-4]\n",
    "\n",
    "\n",
    "def temporal_paredes2022_causes_job(a_tau, v_tau, m_tau, ff_weight, cm_weight):\n",
    "    model = model = Paredes2022(\n",
    "        neurons=10,\n",
    "        position_range=(0, 10),\n",
    "        position_res=1,\n",
    "        time_range=(0, 450),\n",
    "        tau=(a_tau, v_tau, m_tau),\n",
    "    )\n",
    "\n",
    "    v_onset = 110\n",
    "    sp = ParameterSweep(\n",
    "        model=model,\n",
    "        target=\"auditory_onset\",\n",
    "        repeat=1,\n",
    "        n_jobs=1,\n",
    "        range=v_onset + temporal_dis[6:-4],\n",
    "        processing_strategy=CausesProcessingStrategy(),\n",
    "    )\n",
    "\n",
    "    res = sp.run(\n",
    "        auditory_intensity=3,\n",
    "        visual_intensity=2.9,\n",
    "        feedforward_weight=ff_weight,\n",
    "        cross_modal_weight=cm_weight,\n",
    "        noise=False,\n",
    "        causes_kind=\"prob\",\n",
    "        causes_dim=\"time\",\n",
    "        auditory_soa=None,\n",
    "        visual_soa=None,\n",
    "        auditory_stim_n=1,\n",
    "        visual_stim_n=1,\n",
    "        auditory_duration=6,\n",
    "        visual_duration=6,\n",
    "        visual_onset=v_onset,\n",
    "        causes_peak_threshold=0.10,\n",
    "        causes_peak_distance=1600,\n",
    "        feed_latency=24,\n",
    "        feedback_weight=0,\n",
    "    )\n",
    "\n",
    "    return res"
   ]
  },
  {
   "cell_type": "code",
   "execution_count": 8,
   "metadata": {},
   "outputs": [
    {
     "data": {
      "application/vnd.jupyter.widget-view+json": {
       "model_id": "819ada0587014123aee4dba97ecf69c0",
       "version_major": 2,
       "version_minor": 0
      },
      "text/plain": [
       "Sweeping 'auditory_onset':   0%|          | 0/13 [00:00<?, ?it/s]"
      ]
     },
     "metadata": {},
     "output_type": "display_data"
    },
    {
     "data": {
      "text/plain": [
       "<matplotlib.collections.PathCollection at 0x7f5a510d0450>"
      ]
     },
     "execution_count": 8,
     "metadata": {},
     "output_type": "execute_result"
    },
    {
     "data": {
      "image/png": "[encoded data removed]",
      "text/plain": [
       "<Figure size 640x480 with 1 Axes>"
      ]
     },
     "metadata": {},
     "output_type": "display_data"
    }
   ],
   "source": [
    "paredes2022_temporal_causes_fit_res = np.load(\n",
    "    \"Paredes_2022_temporal_fit_res_pars_fb.npy\"\n",
    ")\n",
    "temporal_paredes2022_model_causes_fit = temporal_paredes2022_causes_job(\n",
    "    paredes2022_temporal_causes_fit_res[0],\n",
    "    paredes2022_temporal_causes_fit_res[1],\n",
    "    paredes2022_temporal_causes_fit_res[2],\n",
    "    paredes2022_temporal_causes_fit_res[3],\n",
    "    paredes2022_temporal_causes_fit_res[4],\n",
    "    paredes2022_temporal_causes_fit_res[5],\n",
    ")\n",
    "\n",
    "plt.plot(temporal_dis[6:-4], temporal_paredes2022_model_causes_fit)\n",
    "plt.scatter(temporal_dis[6:-4], temporal_causes_data_short)"
   ]
  },
  {
   "cell_type": "code",
   "execution_count": 50,
   "metadata": {},
   "outputs": [
    {
     "data": {
      "application/vnd.jupyter.widget-view+json": {
       "model_id": "03cefb4c594e4645ba2d622daf61a6a2",
       "version_major": 2,
       "version_minor": 0
      },
      "text/plain": [
       "Sweeping 'auditory_onset':   0%|          | 0/13 [00:00<?, ?it/s]"
      ]
     },
     "metadata": {},
     "output_type": "display_data"
    },
    {
     "data": {
      "application/vnd.jupyter.widget-view+json": {
       "model_id": "82526042b99d4f4eaa72161a0f465e63",
       "version_major": 2,
       "version_minor": 0
      },
      "text/plain": [
       "Collecting metadata:   0%|          | 0/13 [00:00<?, ?it/s]"
      ]
     },
     "metadata": {},
     "output_type": "display_data"
    },
    {
     "data": {
      "text/plain": [
       "<NDResultCollection 'ParameterSweep' len=13>"
      ]
     },
     "execution_count": 50,
     "metadata": {},
     "output_type": "execute_result"
    }
   ],
   "source": [
    "from skneuromsi.neural import Paredes2022\n",
    "\n",
    "paredes2022_temporal_causes_fit_res = np.load(\n",
    "    \"Paredes_2022_temporal_fit_res_pars_alterfine.npy\"\n",
    ")\n",
    "\n",
    "\n",
    "def explore_temporal_paredes2022_causes_job(a_tau, v_tau, m_tau, ff_weight, cm_weight):\n",
    "    model = Paredes2022(\n",
    "        neurons=10,\n",
    "        position_range=(0, 10),\n",
    "        position_res=1,\n",
    "        time_range=(0, 450),\n",
    "        tau=(a_tau, v_tau, m_tau),\n",
    "    )\n",
    "\n",
    "    v_onset = 110\n",
    "    sp = ParameterSweep(\n",
    "        model=model,\n",
    "        target=\"auditory_onset\",\n",
    "        repeat=1,\n",
    "        n_jobs=1,\n",
    "        range=v_onset + temporal_dis[6:-4],\n",
    "    )\n",
    "\n",
    "    res = sp.run(\n",
    "        auditory_intensity=2.55,  # 3\n",
    "        visual_intensity=2.5,  # 2.9\n",
    "        feedforward_weight=ff_weight,\n",
    "        cross_modal_weight=cm_weight,\n",
    "        noise=False,\n",
    "        causes_kind=\"prob\",\n",
    "        causes_dim=\"time\",\n",
    "        auditory_soa=None,\n",
    "        visual_soa=None,\n",
    "        auditory_stim_n=1,\n",
    "        visual_stim_n=1,\n",
    "        auditory_duration=6,\n",
    "        visual_duration=6,\n",
    "        visual_onset=v_onset,\n",
    "        causes_peak_threshold=0.10,\n",
    "        causes_peak_distance=1600,\n",
    "        feed_latency=24,\n",
    "        feedback_weight=0,\n",
    "    )\n",
    "\n",
    "    return res\n",
    "\n",
    "\n",
    "exp_res = explore_temporal_paredes2022_causes_job(\n",
    "    15,  # paredes2022_temporal_causes_fit_res[0],\n",
    "    15,  # paredes2022_temporal_causes_fit_res[1],\n",
    "    5,  # paredes2022_temporal_causes_fit_res[2],\n",
    "    20,  # paredes2022_temporal_causes_fit_res[3],\n",
    "    1,  # paredes2022_temporal_causes_fit_res[4],\n",
    ")\n",
    "\n",
    "exp_res"
   ]
  },
  {
   "cell_type": "code",
   "execution_count": 51,
   "metadata": {},
   "outputs": [
    {
     "data": {
      "text/plain": [
       "array([<Axes: title={'center': 'x0'}, xlabel='times', ylabel='values'>],\n",
       "      dtype=object)"
      ]
     },
     "execution_count": 51,
     "metadata": {},
     "output_type": "execute_result"
    },
    {
     "data": {
      "image/png": "[encoded data removed]",
      "text/plain": [
       "<Figure size 640x480 with 1 Axes>"
      ]
     },
     "metadata": {},
     "output_type": "display_data"
    }
   ],
   "source": [
    "exp_res[5].plot.linet()"
   ]
  },
  {
   "cell_type": "code",
   "execution_count": 20,
   "metadata": {},
   "outputs": [
    {
     "data": {
      "text/plain": [
       "<NDResult 'Paredes2022', modes=['auditory' 'visual' 'multi'], times=45000, positions=10, positions_coordinates=1, causes=0.8243856532373712>"
      ]
     },
     "execution_count": 20,
     "metadata": {},
     "output_type": "execute_result"
    }
   ],
   "source": [
    "exp_res[9]"
   ]
  },
  {
   "cell_type": "code",
   "execution_count": null,
   "metadata": {},
   "outputs": [
    {
     "data": {
      "text/plain": [
       "array([19.26561006, 48.52081771,  7.81626775, 54.6791693 , 24.46639687])"
      ]
     },
     "execution_count": 43,
     "metadata": {},
     "output_type": "execute_result"
    }
   ],
   "source": [
    "# Try fitting with feedback\n",
    "# If doesnt work, try reducing stimuli intensity to explore low unimodal activation and high multimodal activation."
   ]
  }
 ],
 "metadata": {
  "kernelspec": {
   "display_name": "skneuromsi",
   "language": "python",
   "name": "python3"
  },
  "language_info": {
   "codemirror_mode": {
    "name": "ipython",
    "version": 3
   },
   "file_extension": ".py",
   "mimetype": "text/x-python",
   "name": "python",
   "nbconvert_exporter": "python",
   "pygments_lexer": "ipython3",
   "version": "3.11.9"
  }
 },
 "nbformat": 4,
 "nbformat_minor": 2
}
