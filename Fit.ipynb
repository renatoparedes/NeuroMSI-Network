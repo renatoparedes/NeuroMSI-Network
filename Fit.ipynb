{
 "cells": [
  {
   "cell_type": "code",
   "execution_count": 1,
   "metadata": {},
   "outputs": [],
   "source": [
    "import numpy as np\n",
    "import matplotlib.pyplot as plt"
   ]
  },
  {
   "cell_type": "code",
   "execution_count": 2,
   "metadata": {},
   "outputs": [],
   "source": [
    "# Audio bias of HC\n",
    "HC_bias_a = np.zeros((3, 8))\n",
    "# HC_bias_a[0]--High; HC_bias_a[1]--Medium; HC_bias_a[2]--Low\n",
    "HC_bias_a[0] = np.array(\n",
    "    [\n",
    "        -5.21640112246667,\n",
    "        -4.18706601266667,\n",
    "        -3.13696911613333,\n",
    "        -2.09924748133333,\n",
    "        1.35796414540000,\n",
    "        3.07563797893333,\n",
    "        3.81842299133333,\n",
    "        3.35914483333333,\n",
    "    ]\n",
    ")\n",
    "HC_bias_a[1] = np.array(\n",
    "    [\n",
    "        -4.65343309471429,\n",
    "        -5.46053503785714,\n",
    "        -2.09086371792857,\n",
    "        -1.13832656671429,\n",
    "        -0.277120626642857,\n",
    "        0.262638716714286,\n",
    "        2.19984634542857,\n",
    "        3.40839929092857,\n",
    "    ]\n",
    ")\n",
    "HC_bias_a[2] = np.array(\n",
    "    [\n",
    "        -2.93714767620000,\n",
    "        -2.81604437300000,\n",
    "        -1.61590862560000,\n",
    "        -1.98143368426667,\n",
    "        -1.29873315480000,\n",
    "        0.0165255805333333,\n",
    "        0.501353158466667,\n",
    "        1.16135676946667,\n",
    "    ]\n",
    ")"
   ]
  },
  {
   "cell_type": "code",
   "execution_count": 3,
   "metadata": {},
   "outputs": [],
   "source": [
    "# Causal Inference of HC\n",
    "HC_pro_com = np.array(\n",
    "    [\n",
    "        [\n",
    "            0.367025484375000,\n",
    "            0.682562911541667,\n",
    "            0.822405755208334,\n",
    "            0.876760716875000,\n",
    "            0.863113007208333,\n",
    "            0.809197201583333,\n",
    "            0.649743997500000,\n",
    "            0.321256356083333,\n",
    "        ],\n",
    "        [\n",
    "            0.435277895916667,\n",
    "            0.621660267583333,\n",
    "            0.659722209500000,\n",
    "            0.704617010791667,\n",
    "            0.724928494125000,\n",
    "            0.687408309375000,\n",
    "            0.612227719333333,\n",
    "            0.446587043833333,\n",
    "        ],\n",
    "        [\n",
    "            0.519254406291667,\n",
    "            0.624221809791667,\n",
    "            0.623241935666667,\n",
    "            0.633213512666667,\n",
    "            0.650625944875000,\n",
    "            0.645931453375000,\n",
    "            0.608952192000000,\n",
    "            0.537992153875000,\n",
    "        ],\n",
    "    ]\n",
    ")"
   ]
  },
  {
   "cell_type": "code",
   "execution_count": 4,
   "metadata": {},
   "outputs": [],
   "source": [
    "from scipy.optimize import differential_evolution\n",
    "from skneuromsi.sweep import ParameterSweep\n",
    "\n",
    "dis = np.array([-24, -12, -6, -3, 3, 6, 12, 24])  # disparities\n",
    "bias_data = np.abs(HC_bias_a[0]) / np.abs(dis)\n",
    "causes_data = HC_pro_com[0]"
   ]
  },
  {
   "cell_type": "markdown",
   "metadata": {},
   "source": [
    "## Alais and Burr\n"
   ]
  },
  {
   "cell_type": "code",
   "execution_count": 5,
   "metadata": {},
   "outputs": [
    {
     "name": "stdout",
     "output_type": "stream",
     "text": [
      "differential_evolution step 1: f(x)= 9.05023\n",
      "differential_evolution step 2: f(x)= 9.05023\n",
      "differential_evolution step 3: f(x)= 9.05023\n",
      "differential_evolution step 4: f(x)= 9.05023\n",
      "differential_evolution step 5: f(x)= 9.05023\n",
      "differential_evolution step 6: f(x)= 9.05023\n",
      "differential_evolution step 7: f(x)= 9.05023\n",
      "differential_evolution step 8: f(x)= 9.05023\n",
      "differential_evolution step 9: f(x)= 9.05023\n",
      "differential_evolution step 10: f(x)= 9.05023\n",
      "differential_evolution step 11: f(x)= 9.05023\n",
      "differential_evolution step 12: f(x)= 9.05023\n",
      "differential_evolution step 13: f(x)= 9.05023\n",
      "differential_evolution step 14: f(x)= 9.05023\n",
      "differential_evolution step 15: f(x)= 9.05023\n",
      "differential_evolution step 16: f(x)= 9.05023\n",
      " message: Optimization terminated successfully.\n",
      " success: True\n",
      "     fun: 9.050229183250034\n",
      "       x: [ 3.397e+01  3.394e+01]\n",
      "     nit: 16\n",
      "    nfev: 510\n"
     ]
    }
   ],
   "source": [
    "from skneuromsi.mle import AlaisBurr2004\n",
    "\n",
    "\n",
    "def alais_job(a_sigma, v_sigma):\n",
    "    model = AlaisBurr2004(position_range=(0, 90), position_res=1)\n",
    "    sp = ParameterSweep(\n",
    "        model=model, target=\"visual_position\", repeat=1, n_jobs=1, range=45 + dis\n",
    "    )\n",
    "    res = sp.run(\n",
    "        auditory_position=45, visual_sigma=v_sigma, auditory_sigma=a_sigma, noise=False\n",
    "    )\n",
    "    bias = res.bias.bias_mean(\n",
    "        influence_parameter=\"auditory_position\", mode=\"multi\", quiet=True\n",
    "    )\n",
    "    return bias.values[:, 0]\n",
    "\n",
    "\n",
    "def alais_cost(theta):\n",
    "    model_data = alais_job(theta[0], theta[1])\n",
    "    exp_data = bias_data\n",
    "\n",
    "    cost = np.sum(np.square(np.divide(exp_data - model_data, exp_data)))\n",
    "\n",
    "    if theta[0] < theta[1]:\n",
    "        cost = 100000000000\n",
    "\n",
    "    return cost\n",
    "\n",
    "\n",
    "bounds = [(0.1, 48), (0.1, 48)]\n",
    "alais_fit_res = differential_evolution(\n",
    "    alais_cost, bounds, disp=True, updating=\"deferred\", workers=-1, polish=False\n",
    ")\n",
    "print(alais_fit_res)"
   ]
  },
  {
   "cell_type": "code",
   "execution_count": 6,
   "metadata": {},
   "outputs": [
    {
     "data": {
      "application/vnd.jupyter.widget-view+json": {
       "model_id": "465e66ab02004a6ab2f57308e8a6b79e",
       "version_major": 2,
       "version_minor": 0
      },
      "text/plain": [
       "Sweeping 'visual_position':   0%|          | 0/8 [00:00<?, ?it/s]"
      ]
     },
     "metadata": {},
     "output_type": "display_data"
    },
    {
     "data": {
      "application/vnd.jupyter.widget-view+json": {
       "model_id": "f6b31af09fff469aa9669060cd0d258f",
       "version_major": 2,
       "version_minor": 0
      },
      "text/plain": [
       "Collecting metadata:   0%|          | 0/8 [00:00<?, ?it/s]"
      ]
     },
     "metadata": {},
     "output_type": "display_data"
    },
    {
     "data": {
      "text/plain": [
       "<matplotlib.collections.PathCollection at 0x7efd851aa190>"
      ]
     },
     "execution_count": 6,
     "metadata": {},
     "output_type": "execute_result"
    },
    {
     "data": {
      "image/png": "[encoded data removed]",
      "text/plain": [
       "<Figure size 640x480 with 1 Axes>"
      ]
     },
     "metadata": {},
     "output_type": "display_data"
    }
   ],
   "source": [
    "alais_model_fit = alais_job(alais_fit_res.x[0], alais_fit_res.x[1])\n",
    "\n",
    "plt.plot(dis, alais_model_fit)\n",
    "plt.scatter(dis, bias_data)"
   ]
  },
  {
   "cell_type": "markdown",
   "metadata": {},
   "source": [
    "## Kording"
   ]
  },
  {
   "cell_type": "code",
   "execution_count": 7,
   "metadata": {},
   "outputs": [
    {
     "name": "stdout",
     "output_type": "stream",
     "text": [
      "differential_evolution step 1: f(x)= 1.52297\n",
      "differential_evolution step 2: f(x)= 1.52297\n",
      "differential_evolution step 3: f(x)= 1.52297\n",
      "differential_evolution step 4: f(x)= 1.52297\n",
      "differential_evolution step 5: f(x)= 1.37069\n",
      "differential_evolution step 6: f(x)= 1.37069\n",
      "differential_evolution step 7: f(x)= 1.37069\n",
      "differential_evolution step 8: f(x)= 1.37069\n",
      "differential_evolution step 9: f(x)= 1.34129\n",
      "differential_evolution step 10: f(x)= 1.18984\n",
      "differential_evolution step 11: f(x)= 1.00139\n",
      "differential_evolution step 12: f(x)= 1.00139\n",
      "differential_evolution step 13: f(x)= 1.00139\n",
      "differential_evolution step 14: f(x)= 1.00139\n",
      "differential_evolution step 15: f(x)= 1.00139\n",
      "differential_evolution step 16: f(x)= 1.00139\n",
      "differential_evolution step 17: f(x)= 1.00139\n",
      "differential_evolution step 18: f(x)= 1.00139\n",
      "differential_evolution step 19: f(x)= 1.00139\n",
      "differential_evolution step 20: f(x)= 1.00139\n",
      "differential_evolution step 21: f(x)= 1.00139\n",
      "differential_evolution step 22: f(x)= 1.00139\n",
      "differential_evolution step 23: f(x)= 1.00139\n",
      "differential_evolution step 24: f(x)= 1.00139\n",
      "differential_evolution step 25: f(x)= 1.00139\n",
      "differential_evolution step 26: f(x)= 1.00139\n",
      "differential_evolution step 27: f(x)= 1.00139\n",
      "differential_evolution step 28: f(x)= 1.00139\n",
      "differential_evolution step 29: f(x)= 1.00139\n",
      "differential_evolution step 30: f(x)= 1.00139\n",
      "differential_evolution step 31: f(x)= 1.00139\n",
      "differential_evolution step 32: f(x)= 1.00139\n",
      "differential_evolution step 33: f(x)= 1.00139\n",
      "differential_evolution step 34: f(x)= 1.00139\n",
      "differential_evolution step 35: f(x)= 1.00139\n",
      "differential_evolution step 36: f(x)= 1.00139\n",
      "differential_evolution step 37: f(x)= 1.00139\n",
      "differential_evolution step 38: f(x)= 1.00139\n",
      "differential_evolution step 39: f(x)= 1.00139\n",
      "differential_evolution step 40: f(x)= 1.00139\n",
      "differential_evolution step 41: f(x)= 1.00139\n",
      "differential_evolution step 42: f(x)= 1.00139\n",
      "differential_evolution step 43: f(x)= 1.00139\n",
      "differential_evolution step 44: f(x)= 1.00139\n",
      "differential_evolution step 45: f(x)= 1.00139\n",
      "differential_evolution step 46: f(x)= 1.00139\n",
      "differential_evolution step 47: f(x)= 1.00139\n",
      "differential_evolution step 48: f(x)= 1.00139\n",
      "differential_evolution step 49: f(x)= 1.00139\n",
      "differential_evolution step 50: f(x)= 1.00139\n",
      "differential_evolution step 51: f(x)= 1.00139\n",
      "differential_evolution step 52: f(x)= 1.00139\n",
      "differential_evolution step 53: f(x)= 1.00139\n",
      "differential_evolution step 54: f(x)= 1.00139\n",
      "differential_evolution step 55: f(x)= 1.00139\n",
      "differential_evolution step 56: f(x)= 1.00139\n",
      "differential_evolution step 57: f(x)= 1.00139\n",
      "differential_evolution step 58: f(x)= 1.00139\n",
      "differential_evolution step 59: f(x)= 1.00139\n",
      "differential_evolution step 60: f(x)= 1.00139\n",
      "differential_evolution step 61: f(x)= 1.00139\n",
      "differential_evolution step 62: f(x)= 1.00139\n",
      "differential_evolution step 63: f(x)= 1.00139\n",
      "differential_evolution step 64: f(x)= 1.00139\n",
      "differential_evolution step 65: f(x)= 1.00139\n",
      "differential_evolution step 66: f(x)= 1.00139\n",
      " message: Optimization terminated successfully.\n",
      " success: True\n",
      "     fun: 1.001392102732505\n",
      "       x: [ 2.490e+01  2.171e+01  4.069e+01  5.277e+00]\n",
      "     nit: 66\n",
      "    nfev: 4020\n"
     ]
    }
   ],
   "source": [
    "from skneuromsi.bayesian import Kording2007\n",
    "\n",
    "\n",
    "def kording_job(a_sigma, v_sigma, p_mu, p_sigma):\n",
    "    model = Kording2007(position_range=(0, 90), position_res=1)\n",
    "    sp = ParameterSweep(\n",
    "        model=model, target=\"visual_position\", repeat=1, n_jobs=1, range=45 + dis\n",
    "    )\n",
    "    res = sp.run(\n",
    "        auditory_position=45,\n",
    "        visual_sigma=v_sigma,\n",
    "        auditory_sigma=a_sigma,\n",
    "        noise=False,\n",
    "        prior_mu=p_mu,\n",
    "        prior_sigma=p_sigma,\n",
    "        strategy=\"averaging\",\n",
    "    )\n",
    "    bias = res.bias.bias_mean(\n",
    "        influence_parameter=\"auditory_position\", mode=\"auditory\", quiet=True\n",
    "    )\n",
    "    return bias.values[:, 0]\n",
    "\n",
    "\n",
    "def kording_cost(theta):\n",
    "    model_data = kording_job(theta[0], theta[1], theta[2], theta[3])\n",
    "    exp_data = bias_data\n",
    "\n",
    "    cost = np.sum(np.square(np.divide(exp_data - model_data, exp_data)))\n",
    "\n",
    "    if theta[0] < theta[1]:\n",
    "        cost = 100000000000\n",
    "\n",
    "    return cost\n",
    "\n",
    "\n",
    "bounds = [(0.1, 48), (0.1, 48), (21, 69), (0.1, 48)]\n",
    "kording_fit_res = differential_evolution(\n",
    "    kording_cost, bounds, disp=True, updating=\"deferred\", workers=-1, polish=False\n",
    ")\n",
    "print(kording_fit_res)"
   ]
  },
  {
   "cell_type": "code",
   "execution_count": 8,
   "metadata": {},
   "outputs": [
    {
     "data": {
      "application/vnd.jupyter.widget-view+json": {
       "model_id": "35e57e23fa234ced92aecff20dceb573",
       "version_major": 2,
       "version_minor": 0
      },
      "text/plain": [
       "Sweeping 'visual_position':   0%|          | 0/8 [00:00<?, ?it/s]"
      ]
     },
     "metadata": {},
     "output_type": "display_data"
    },
    {
     "data": {
      "application/vnd.jupyter.widget-view+json": {
       "model_id": "4660319c28c9413199068d0387a4cdcb",
       "version_major": 2,
       "version_minor": 0
      },
      "text/plain": [
       "Collecting metadata:   0%|          | 0/8 [00:00<?, ?it/s]"
      ]
     },
     "metadata": {},
     "output_type": "display_data"
    },
    {
     "data": {
      "text/plain": [
       "<matplotlib.collections.PathCollection at 0x7efe3cd71450>"
      ]
     },
     "execution_count": 8,
     "metadata": {},
     "output_type": "execute_result"
    },
    {
     "data": {
      "image/png": "[encoded data removed]",
      "text/plain": [
       "<Figure size 640x480 with 1 Axes>"
      ]
     },
     "metadata": {},
     "output_type": "display_data"
    }
   ],
   "source": [
    "kording_model_fit = kording_job(\n",
    "    kording_fit_res.x[0],\n",
    "    kording_fit_res.x[1],\n",
    "    kording_fit_res.x[2],\n",
    "    kording_fit_res.x[3],\n",
    ")\n",
    "\n",
    "plt.plot(dis, kording_model_fit)\n",
    "plt.scatter(dis, bias_data)"
   ]
  },
  {
   "cell_type": "code",
   "execution_count": 26,
   "metadata": {},
   "outputs": [
    {
     "name": "stdout",
     "output_type": "stream",
     "text": [
      "differential_evolution step 1: f(x)= 0.080772\n",
      "differential_evolution step 2: f(x)= 0.080772\n",
      "differential_evolution step 3: f(x)= 0.080772\n",
      "differential_evolution step 4: f(x)= 0.080772\n",
      "differential_evolution step 5: f(x)= 0.080772\n",
      "differential_evolution step 6: f(x)= 0.080772\n",
      "differential_evolution step 7: f(x)= 0.080772\n",
      "differential_evolution step 8: f(x)= 0.080772\n",
      "differential_evolution step 9: f(x)= 0.080772\n",
      "differential_evolution step 10: f(x)= 0.080772\n",
      "differential_evolution step 11: f(x)= 0.080772\n",
      "differential_evolution step 12: f(x)= 0.080772\n",
      "differential_evolution step 13: f(x)= 0.080772\n",
      "differential_evolution step 14: f(x)= 0.080772\n",
      "differential_evolution step 15: f(x)= 0.080772\n",
      "differential_evolution step 16: f(x)= 0.0570834\n",
      "differential_evolution step 17: f(x)= 0.0381179\n",
      "differential_evolution step 18: f(x)= 0.0381179\n",
      "differential_evolution step 19: f(x)= 0.0381179\n",
      "differential_evolution step 20: f(x)= 0.0371088\n",
      "differential_evolution step 21: f(x)= 0.0371088\n",
      "differential_evolution step 22: f(x)= 0.0362421\n",
      "differential_evolution step 23: f(x)= 0.0324343\n",
      "differential_evolution step 24: f(x)= 0.0316484\n",
      "differential_evolution step 25: f(x)= 0.028522\n",
      "differential_evolution step 26: f(x)= 0.0283539\n",
      "differential_evolution step 27: f(x)= 0.026993\n",
      "differential_evolution step 28: f(x)= 0.026993\n",
      "differential_evolution step 29: f(x)= 0.026993\n",
      "differential_evolution step 30: f(x)= 0.026993\n",
      "differential_evolution step 31: f(x)= 0.026993\n",
      "differential_evolution step 32: f(x)= 0.02687\n",
      "differential_evolution step 33: f(x)= 0.026518\n",
      "differential_evolution step 34: f(x)= 0.026518\n",
      "differential_evolution step 35: f(x)= 0.0262918\n",
      "differential_evolution step 36: f(x)= 0.0257905\n",
      "differential_evolution step 37: f(x)= 0.0257905\n",
      "differential_evolution step 38: f(x)= 0.0257459\n",
      "differential_evolution step 39: f(x)= 0.0257459\n",
      "differential_evolution step 40: f(x)= 0.0254048\n",
      "differential_evolution step 41: f(x)= 0.0254048\n",
      "differential_evolution step 42: f(x)= 0.0252461\n",
      "differential_evolution step 43: f(x)= 0.0252461\n",
      "differential_evolution step 44: f(x)= 0.0252367\n",
      "differential_evolution step 45: f(x)= 0.0252367\n",
      "differential_evolution step 46: f(x)= 0.0251285\n",
      "differential_evolution step 47: f(x)= 0.0251285\n",
      "differential_evolution step 48: f(x)= 0.0250819\n",
      "differential_evolution step 49: f(x)= 0.0250819\n",
      "differential_evolution step 50: f(x)= 0.0250819\n",
      "differential_evolution step 51: f(x)= 0.0250819\n",
      "differential_evolution step 52: f(x)= 0.0250819\n",
      "differential_evolution step 53: f(x)= 0.0250623\n",
      "differential_evolution step 54: f(x)= 0.0250623\n",
      "differential_evolution step 55: f(x)= 0.0250623\n",
      "differential_evolution step 56: f(x)= 0.0250623\n",
      "differential_evolution step 57: f(x)= 0.0250299\n",
      "differential_evolution step 58: f(x)= 0.0250299\n",
      "differential_evolution step 59: f(x)= 0.0250238\n",
      "differential_evolution step 60: f(x)= 0.0250238\n",
      "differential_evolution step 61: f(x)= 0.0250233\n",
      " message: Optimization terminated successfully.\n",
      " success: True\n",
      "     fun: 0.02502330800413146\n",
      "       x: [ 8.042e+00  8.041e+00  6.898e+01  4.501e+01]\n",
      "     nit: 61\n",
      "    nfev: 3720\n"
     ]
    }
   ],
   "source": [
    "from skneuromsi.bayesian import Kording2007\n",
    "\n",
    "\n",
    "def kording_causes_job(a_sigma, v_sigma, p_mu, p_sigma):\n",
    "    model = Kording2007(position_range=(0, 90), position_res=1)\n",
    "    sp = ParameterSweep(\n",
    "        model=model, target=\"visual_position\", repeat=1, n_jobs=1, range=45 + dis\n",
    "    )\n",
    "    res = sp.run(\n",
    "        auditory_position=45,\n",
    "        visual_sigma=v_sigma,\n",
    "        auditory_sigma=a_sigma,\n",
    "        noise=False,\n",
    "        prior_mu=p_mu,\n",
    "        prior_sigma=p_sigma,\n",
    "        strategy=\"selection\",\n",
    "        causes_kind=\"prob\",\n",
    "    )\n",
    "    causes = res.causes.causes_by_parameter(parameter=\"visual_position\")[(\"\", \"Causes\")]\n",
    "\n",
    "    return causes\n",
    "\n",
    "\n",
    "def kording_causes_cost(theta):\n",
    "    model_data = kording_causes_job(theta[0], theta[1], theta[2], theta[3])\n",
    "    exp_data = causes_data\n",
    "\n",
    "    cost = np.sum(np.square(np.divide(exp_data - model_data, exp_data)))\n",
    "\n",
    "    if theta[0] < theta[1]:\n",
    "        cost = 100000000000\n",
    "\n",
    "    return cost\n",
    "\n",
    "\n",
    "bounds = [(0.1, 48), (0.1, 48), (21, 69), (0.1, 48)]\n",
    "kording_causes_fit_res = differential_evolution(\n",
    "    kording_causes_cost,\n",
    "    bounds,\n",
    "    disp=True,\n",
    "    updating=\"deferred\",\n",
    "    workers=-1,\n",
    "    polish=False,\n",
    ")\n",
    "print(kording_causes_fit_res)"
   ]
  },
  {
   "cell_type": "code",
   "execution_count": 28,
   "metadata": {},
   "outputs": [
    {
     "data": {
      "application/vnd.jupyter.widget-view+json": {
       "model_id": "a30098289c7c4ec1bfb19a0ea7e04440",
       "version_major": 2,
       "version_minor": 0
      },
      "text/plain": [
       "Sweeping 'visual_position':   0%|          | 0/8 [00:00<?, ?it/s]"
      ]
     },
     "metadata": {},
     "output_type": "display_data"
    },
    {
     "data": {
      "application/vnd.jupyter.widget-view+json": {
       "model_id": "e1b002937b7c4ae88b635162670c2b13",
       "version_major": 2,
       "version_minor": 0
      },
      "text/plain": [
       "Collecting metadata:   0%|          | 0/8 [00:00<?, ?it/s]"
      ]
     },
     "metadata": {},
     "output_type": "display_data"
    },
    {
     "data": {
      "text/plain": [
       "<matplotlib.collections.PathCollection at 0x7f8207dd7610>"
      ]
     },
     "execution_count": 28,
     "metadata": {},
     "output_type": "execute_result"
    },
    {
     "data": {
      "image/png": "[encoded data removed]",
      "text/plain": [
       "<Figure size 640x480 with 1 Axes>"
      ]
     },
     "metadata": {},
     "output_type": "display_data"
    }
   ],
   "source": [
    "kording_model_causes_fit = kording_causes_job(\n",
    "    kording_causes_fit_res.x[0],\n",
    "    kording_causes_fit_res.x[1],\n",
    "    kording_causes_fit_res.x[2],\n",
    "    kording_causes_fit_res.x[3],\n",
    ")\n",
    "\n",
    "plt.plot(dis, kording_model_causes_fit)\n",
    "plt.scatter(dis, causes_data)"
   ]
  },
  {
   "cell_type": "markdown",
   "metadata": {},
   "source": [
    "## Cuppini 2017"
   ]
  },
  {
   "cell_type": "code",
   "execution_count": 5,
   "metadata": {},
   "outputs": [
    {
     "name": "stdout",
     "output_type": "stream",
     "text": [
      "differential_evolution step 1: f(x)= 0.915638\n",
      "differential_evolution step 2: f(x)= 0.692389\n",
      "differential_evolution step 3: f(x)= 0.692389\n",
      "differential_evolution step 4: f(x)= 0.692389\n",
      "differential_evolution step 5: f(x)= 0.692389\n",
      "differential_evolution step 6: f(x)= 0.671608\n",
      "differential_evolution step 7: f(x)= 0.671608\n",
      "differential_evolution step 8: f(x)= 0.570418\n",
      "differential_evolution step 9: f(x)= 0.570418\n",
      "differential_evolution step 10: f(x)= 0.570418\n",
      "differential_evolution step 11: f(x)= 0.570418\n",
      "differential_evolution step 12: f(x)= 0.570418\n",
      "differential_evolution step 13: f(x)= 0.570418\n",
      "differential_evolution step 14: f(x)= 0.570418\n",
      "differential_evolution step 15: f(x)= 0.570418\n",
      "differential_evolution step 16: f(x)= 0.570418\n",
      "differential_evolution step 17: f(x)= 0.570418\n",
      "differential_evolution step 18: f(x)= 0.570418\n",
      "differential_evolution step 19: f(x)= 0.553692\n",
      "differential_evolution step 20: f(x)= 0.553692\n",
      "differential_evolution step 21: f(x)= 0.553692\n",
      "differential_evolution step 22: f(x)= 0.553692\n",
      "differential_evolution step 23: f(x)= 0.553692\n",
      "differential_evolution step 24: f(x)= 0.542416\n",
      "differential_evolution step 25: f(x)= 0.542416\n",
      "differential_evolution step 26: f(x)= 0.542416\n",
      "differential_evolution step 27: f(x)= 0.452502\n",
      "differential_evolution step 28: f(x)= 0.452502\n",
      "differential_evolution step 29: f(x)= 0.452502\n",
      "differential_evolution step 30: f(x)= 0.452502\n",
      "differential_evolution step 31: f(x)= 0.452502\n",
      "differential_evolution step 32: f(x)= 0.452502\n",
      "differential_evolution step 33: f(x)= 0.452502\n",
      "differential_evolution step 34: f(x)= 0.452502\n",
      "differential_evolution step 35: f(x)= 0.452502\n",
      "differential_evolution step 36: f(x)= 0.452502\n",
      "differential_evolution step 37: f(x)= 0.452502\n",
      "differential_evolution step 38: f(x)= 0.452502\n",
      "differential_evolution step 39: f(x)= 0.452502\n",
      "differential_evolution step 40: f(x)= 0.452502\n",
      "differential_evolution step 41: f(x)= 0.452502\n",
      "differential_evolution step 42: f(x)= 0.452502\n",
      "differential_evolution step 43: f(x)= 0.452502\n",
      "differential_evolution step 44: f(x)= 0.452502\n",
      "differential_evolution step 45: f(x)= 0.452502\n",
      "differential_evolution step 46: f(x)= 0.452502\n",
      "differential_evolution step 47: f(x)= 0.452502\n",
      "differential_evolution step 48: f(x)= 0.452502\n",
      "differential_evolution step 49: f(x)= 0.452502\n",
      "differential_evolution step 50: f(x)= 0.452502\n",
      "differential_evolution step 51: f(x)= 0.452502\n",
      "differential_evolution step 52: f(x)= 0.452502\n",
      "differential_evolution step 53: f(x)= 0.452502\n",
      "differential_evolution step 54: f(x)= 0.452502\n",
      "differential_evolution step 55: f(x)= 0.452502\n",
      "differential_evolution step 56: f(x)= 0.452502\n",
      "differential_evolution step 57: f(x)= 0.452502\n",
      "differential_evolution step 58: f(x)= 0.452502\n",
      "differential_evolution step 59: f(x)= 0.452502\n",
      "differential_evolution step 60: f(x)= 0.452502\n",
      "differential_evolution step 61: f(x)= 0.452502\n",
      "differential_evolution step 62: f(x)= 0.452502\n",
      "differential_evolution step 63: f(x)= 0.452502\n",
      "differential_evolution step 64: f(x)= 0.452502\n",
      "differential_evolution step 65: f(x)= 0.452502\n",
      "differential_evolution step 66: f(x)= 0.452502\n",
      "differential_evolution step 67: f(x)= 0.452502\n",
      "differential_evolution step 68: f(x)= 0.452502\n",
      "differential_evolution step 69: f(x)= 0.452502\n",
      "differential_evolution step 70: f(x)= 0.452502\n",
      "differential_evolution step 71: f(x)= 0.452502\n",
      "differential_evolution step 72: f(x)= 0.452502\n",
      "differential_evolution step 73: f(x)= 0.452502\n",
      "differential_evolution step 74: f(x)= 0.452502\n",
      "differential_evolution step 75: f(x)= 0.452502\n",
      "differential_evolution step 76: f(x)= 0.452502\n",
      "differential_evolution step 77: f(x)= 0.452502\n",
      "differential_evolution step 78: f(x)= 0.452502\n",
      "differential_evolution step 79: f(x)= 0.452502\n",
      "differential_evolution step 80: f(x)= 0.452502\n",
      "differential_evolution step 81: f(x)= 0.452502\n",
      "differential_evolution step 82: f(x)= 0.452502\n",
      "differential_evolution step 83: f(x)= 0.452502\n",
      "differential_evolution step 84: f(x)= 0.452502\n",
      "differential_evolution step 85: f(x)= 0.452502\n",
      "differential_evolution step 86: f(x)= 0.452502\n",
      "differential_evolution step 87: f(x)= 0.452502\n",
      "differential_evolution step 88: f(x)= 0.452502\n",
      "differential_evolution step 89: f(x)= 0.452502\n",
      " message: Optimization terminated successfully.\n",
      " success: True\n",
      "     fun: 0.4525022767547128\n",
      "       x: [ 4.511e+01  2.495e+01  1.191e+01  1.387e+01]\n",
      "     nit: 89\n",
      "    nfev: 5400\n"
     ]
    }
   ],
   "source": [
    "from skneuromsi.neural import Cuppini2017\n",
    "\n",
    "\n",
    "def cuppini2017_job(a_sigma, v_sigma, a_intensity, v_intensity):\n",
    "    biases = []\n",
    "    a_pos = 45\n",
    "    model = Cuppini2017(neurons=90, position_range=(0, 90), position_res=1)\n",
    "    for v_pos in a_pos + dis:\n",
    "        res = model.run(\n",
    "            visual_position=v_pos,\n",
    "            auditory_position=a_pos,\n",
    "            visual_sigma=v_sigma,\n",
    "            auditory_sigma=a_sigma,\n",
    "            noise=False,\n",
    "            auditory_intensity=a_intensity,\n",
    "            visual_intensity=v_intensity,\n",
    "        )\n",
    "        max_time = res.to_xarray()[\"times\"].max().values\n",
    "        estimated_a_pos = (\n",
    "            res.get_modes(\"auditory\").query(\"times==@max_time\").values.argmax()\n",
    "        )\n",
    "        bias = np.absolute(estimated_a_pos - a_pos) / np.absolute(a_pos - v_pos)\n",
    "        biases.append(bias)\n",
    "    return np.array(biases)\n",
    "\n",
    "\n",
    "def cuppini2017_cost(theta):\n",
    "    model_data = cuppini2017_job(theta[0], theta[1], theta[2], theta[3])\n",
    "    exp_data = bias_data\n",
    "\n",
    "    cost = np.sum(np.square(np.divide(exp_data - model_data, exp_data)))\n",
    "\n",
    "    if theta[0] < theta[1]:\n",
    "        cost = 100000000000\n",
    "\n",
    "    return cost\n",
    "\n",
    "\n",
    "bounds = [(0.1, 48), (0.1, 48), (0.1, 30), (0.1, 30)]\n",
    "cuppini2017_fit_res = differential_evolution(\n",
    "    cuppini2017_cost, bounds, disp=True, updating=\"deferred\", workers=-1, polish=False\n",
    ")\n",
    "print(cuppini2017_fit_res)"
   ]
  },
  {
   "cell_type": "code",
   "execution_count": 6,
   "metadata": {},
   "outputs": [
    {
     "data": {
      "text/plain": [
       "<matplotlib.collections.PathCollection at 0x7f6be8a9dfd0>"
      ]
     },
     "execution_count": 6,
     "metadata": {},
     "output_type": "execute_result"
    },
    {
     "data": {
      "image/png": "[encoded data removed]",
      "text/plain": [
       "<Figure size 640x480 with 1 Axes>"
      ]
     },
     "metadata": {},
     "output_type": "display_data"
    }
   ],
   "source": [
    "cuppini2017_model_fit = cuppini2017_job(\n",
    "    cuppini2017_fit_res.x[0],\n",
    "    cuppini2017_fit_res.x[1],\n",
    "    cuppini2017_fit_res.x[2],\n",
    "    cuppini2017_fit_res.x[3],\n",
    ")\n",
    "\n",
    "plt.plot(dis, cuppini2017_model_fit)\n",
    "plt.scatter(dis, bias_data)"
   ]
  },
  {
   "cell_type": "code",
   "execution_count": 5,
   "metadata": {},
   "outputs": [
    {
     "name": "stdout",
     "output_type": "stream",
     "text": [
      "differential_evolution step 1: f(x)= 0.192849\n",
      "differential_evolution step 2: f(x)= 0.192849\n",
      "differential_evolution step 3: f(x)= 0.192849\n",
      "differential_evolution step 4: f(x)= 0.14573\n",
      "differential_evolution step 5: f(x)= 0.14573\n",
      "differential_evolution step 6: f(x)= 0.125072\n",
      "differential_evolution step 7: f(x)= 0.125072\n",
      "differential_evolution step 8: f(x)= 0.125072\n",
      "differential_evolution step 9: f(x)= 0.125072\n",
      "differential_evolution step 10: f(x)= 0.125072\n",
      "differential_evolution step 11: f(x)= 0.125072\n",
      "differential_evolution step 12: f(x)= 0.0254829\n",
      "differential_evolution step 13: f(x)= 0.0254829\n",
      "differential_evolution step 14: f(x)= 0.0254829\n",
      "differential_evolution step 15: f(x)= 0.0203048\n",
      "differential_evolution step 16: f(x)= 0.0174151\n",
      "differential_evolution step 17: f(x)= 0.0174151\n",
      "differential_evolution step 18: f(x)= 0.0174151\n",
      "differential_evolution step 19: f(x)= 0.0174151\n",
      "differential_evolution step 20: f(x)= 0.0174151\n",
      "differential_evolution step 21: f(x)= 0.0174151\n",
      "differential_evolution step 22: f(x)= 0.0160719\n",
      "differential_evolution step 23: f(x)= 0.0160719\n",
      "differential_evolution step 24: f(x)= 0.0160719\n",
      "differential_evolution step 25: f(x)= 0.0160719\n",
      "differential_evolution step 26: f(x)= 0.0160719\n",
      "differential_evolution step 27: f(x)= 0.0153772\n",
      "differential_evolution step 28: f(x)= 0.0117865\n",
      "differential_evolution step 29: f(x)= 0.0109781\n",
      "differential_evolution step 30: f(x)= 0.0109781\n",
      "differential_evolution step 31: f(x)= 0.0109781\n",
      "differential_evolution step 32: f(x)= 0.0109781\n",
      "differential_evolution step 33: f(x)= 0.0109781\n",
      "differential_evolution step 34: f(x)= 0.0109781\n",
      "differential_evolution step 35: f(x)= 0.0109781\n",
      "differential_evolution step 36: f(x)= 0.0109781\n",
      "differential_evolution step 37: f(x)= 0.0109781\n",
      "differential_evolution step 38: f(x)= 0.0109352\n",
      "differential_evolution step 39: f(x)= 0.0109352\n",
      "differential_evolution step 40: f(x)= 0.0109352\n",
      "differential_evolution step 41: f(x)= 0.0109352\n",
      "differential_evolution step 42: f(x)= 0.0109315\n",
      "differential_evolution step 43: f(x)= 0.0108419\n",
      "differential_evolution step 44: f(x)= 0.0108419\n",
      "differential_evolution step 45: f(x)= 0.0108419\n",
      "differential_evolution step 46: f(x)= 0.0108419\n",
      "differential_evolution step 47: f(x)= 0.0108419\n",
      "differential_evolution step 48: f(x)= 0.0108419\n",
      "differential_evolution step 49: f(x)= 0.0108419\n",
      "differential_evolution step 50: f(x)= 0.0108419\n",
      "differential_evolution step 51: f(x)= 0.0108402\n",
      "differential_evolution step 52: f(x)= 0.010815\n",
      "differential_evolution step 53: f(x)= 0.010815\n",
      "differential_evolution step 54: f(x)= 0.0107875\n",
      "differential_evolution step 55: f(x)= 0.0107875\n",
      "differential_evolution step 56: f(x)= 0.0107875\n",
      "differential_evolution step 57: f(x)= 0.0107875\n",
      "differential_evolution step 58: f(x)= 0.0107695\n",
      "differential_evolution step 59: f(x)= 0.0107695\n",
      "differential_evolution step 60: f(x)= 0.0107634\n",
      "differential_evolution step 61: f(x)= 0.0107634\n",
      "differential_evolution step 62: f(x)= 0.0107634\n",
      "differential_evolution step 63: f(x)= 0.0107634\n",
      " message: Optimization terminated successfully.\n",
      " success: True\n",
      "     fun: 0.010763412301135582\n",
      "       x: [ 2.803e+01  8.033e+00  1.328e+01  2.366e+01]\n",
      "     nit: 63\n",
      "    nfev: 3840\n"
     ]
    }
   ],
   "source": [
    "from skneuromsi.neural import Cuppini2017\n",
    "\n",
    "\n",
    "def cuppini2017_causes_job(a_sigma, v_sigma, a_intensity, v_intensity):\n",
    "    causes = []\n",
    "    a_pos = 45\n",
    "    model = Cuppini2017(neurons=90, position_range=(0, 90), position_res=1)\n",
    "    for v_pos in a_pos + dis:\n",
    "        res = model.run(\n",
    "            visual_position=v_pos,\n",
    "            auditory_position=a_pos,\n",
    "            visual_sigma=v_sigma,\n",
    "            auditory_sigma=a_sigma,\n",
    "            noise=False,\n",
    "            causes_kind=\"prob\",\n",
    "            auditory_intensity=a_intensity,\n",
    "            visual_intensity=v_intensity,\n",
    "        )\n",
    "        causes.append(res.causes_)\n",
    "    return np.array(causes)\n",
    "\n",
    "\n",
    "def cuppini2017_causes_cost(theta):\n",
    "    model_data = cuppini2017_causes_job(theta[0], theta[1], theta[2], theta[3])\n",
    "    exp_data = causes_data\n",
    "\n",
    "    cost = np.sum(np.square(np.divide(exp_data - model_data, exp_data)))\n",
    "\n",
    "    if theta[0] < theta[1]:\n",
    "        cost = 100000000000\n",
    "\n",
    "    return cost\n",
    "\n",
    "\n",
    "bounds = [(0.1, 48), (0.1, 48), (0.1, 30), (0.1, 30)]\n",
    "cuppini2017_causes_fit_res = differential_evolution(\n",
    "    cuppini2017_causes_cost,\n",
    "    bounds,\n",
    "    disp=True,\n",
    "    updating=\"deferred\",\n",
    "    workers=-1,\n",
    "    polish=False,\n",
    ")\n",
    "print(cuppini2017_causes_fit_res)"
   ]
  },
  {
   "cell_type": "code",
   "execution_count": 6,
   "metadata": {},
   "outputs": [
    {
     "data": {
      "text/plain": [
       "<matplotlib.collections.PathCollection at 0x7fe471dd9b50>"
      ]
     },
     "execution_count": 6,
     "metadata": {},
     "output_type": "execute_result"
    },
    {
     "data": {
      "image/png": "[encoded data removed]",
      "text/plain": [
       "<Figure size 640x480 with 1 Axes>"
      ]
     },
     "metadata": {},
     "output_type": "display_data"
    }
   ],
   "source": [
    "cuppini2017_model_causes_fit = cuppini2017_causes_job(\n",
    "    cuppini2017_causes_fit_res.x[0],\n",
    "    cuppini2017_causes_fit_res.x[1],\n",
    "    cuppini2017_causes_fit_res.x[2],\n",
    "    cuppini2017_causes_fit_res.x[3],\n",
    ")\n",
    "\n",
    "plt.plot(dis, cuppini2017_model_causes_fit)\n",
    "plt.scatter(dis, causes_data)"
   ]
  },
  {
   "cell_type": "markdown",
   "metadata": {},
   "source": [
    "## Paredes"
   ]
  },
  {
   "cell_type": "code",
   "execution_count": 9,
   "metadata": {},
   "outputs": [
    {
     "name": "stdout",
     "output_type": "stream",
     "text": [
      "differential_evolution step 1: f(x)= 50.1213\n",
      "differential_evolution step 2: f(x)= 50.1213\n",
      "differential_evolution step 3: f(x)= 47.2535\n",
      "differential_evolution step 4: f(x)= 14.4285\n",
      "differential_evolution step 5: f(x)= 12.3938\n",
      "differential_evolution step 6: f(x)= 3.53395\n",
      "differential_evolution step 7: f(x)= 3.53395\n",
      "differential_evolution step 8: f(x)= 3.53395\n",
      "differential_evolution step 9: f(x)= 1.52297\n",
      "differential_evolution step 10: f(x)= 1.52297\n",
      "differential_evolution step 11: f(x)= 0.866251\n",
      "differential_evolution step 12: f(x)= 0.84268\n",
      "differential_evolution step 13: f(x)= 0.84268\n",
      "differential_evolution step 14: f(x)= 0.84268\n",
      "differential_evolution step 15: f(x)= 0.84268\n",
      "differential_evolution step 16: f(x)= 0.84268\n",
      "differential_evolution step 17: f(x)= 0.84268\n",
      "differential_evolution step 18: f(x)= 0.84268\n",
      "differential_evolution step 19: f(x)= 0.84268\n",
      "differential_evolution step 20: f(x)= 0.84268\n",
      "differential_evolution step 21: f(x)= 0.84268\n",
      "differential_evolution step 22: f(x)= 0.84268\n",
      "differential_evolution step 23: f(x)= 0.84268\n",
      "differential_evolution step 24: f(x)= 0.755041\n",
      "differential_evolution step 25: f(x)= 0.755041\n",
      "differential_evolution step 26: f(x)= 0.755041\n",
      "differential_evolution step 27: f(x)= 0.664475\n",
      "differential_evolution step 28: f(x)= 0.664475\n",
      "differential_evolution step 29: f(x)= 0.664475\n",
      "differential_evolution step 30: f(x)= 0.664475\n",
      "differential_evolution step 31: f(x)= 0.563285\n",
      "differential_evolution step 32: f(x)= 0.454371\n",
      "differential_evolution step 33: f(x)= 0.454371\n",
      "differential_evolution step 34: f(x)= 0.454371\n",
      "differential_evolution step 35: f(x)= 0.454371\n",
      "differential_evolution step 36: f(x)= 0.360026\n",
      "differential_evolution step 37: f(x)= 0.360026\n",
      "differential_evolution step 38: f(x)= 0.360026\n",
      "differential_evolution step 39: f(x)= 0.360026\n",
      "differential_evolution step 40: f(x)= 0.360026\n",
      "differential_evolution step 41: f(x)= 0.360026\n",
      "differential_evolution step 42: f(x)= 0.360026\n",
      "differential_evolution step 43: f(x)= 0.360026\n",
      "differential_evolution step 44: f(x)= 0.360026\n",
      "differential_evolution step 45: f(x)= 0.360026\n",
      "differential_evolution step 46: f(x)= 0.360026\n",
      "differential_evolution step 47: f(x)= 0.266533\n",
      "differential_evolution step 48: f(x)= 0.266533\n",
      "differential_evolution step 49: f(x)= 0.266533\n",
      "differential_evolution step 50: f(x)= 0.266533\n",
      "differential_evolution step 51: f(x)= 0.266533\n",
      "differential_evolution step 52: f(x)= 0.266533\n",
      "differential_evolution step 53: f(x)= 0.266533\n",
      "differential_evolution step 54: f(x)= 0.266533\n",
      "differential_evolution step 55: f(x)= 0.266533\n",
      "differential_evolution step 56: f(x)= 0.266533\n",
      "differential_evolution step 57: f(x)= 0.266533\n",
      "differential_evolution step 58: f(x)= 0.266533\n",
      "differential_evolution step 59: f(x)= 0.266533\n",
      "differential_evolution step 60: f(x)= 0.266533\n",
      "differential_evolution step 61: f(x)= 0.266533\n",
      "differential_evolution step 62: f(x)= 0.266533\n",
      "differential_evolution step 63: f(x)= 0.266533\n",
      "differential_evolution step 64: f(x)= 0.266533\n",
      "differential_evolution step 65: f(x)= 0.266533\n",
      "differential_evolution step 66: f(x)= 0.266533\n",
      "differential_evolution step 67: f(x)= 0.266533\n",
      "differential_evolution step 68: f(x)= 0.266533\n",
      "differential_evolution step 69: f(x)= 0.245689\n",
      "differential_evolution step 70: f(x)= 0.245689\n",
      "differential_evolution step 71: f(x)= 0.245689\n",
      "differential_evolution step 72: f(x)= 0.245689\n",
      "differential_evolution step 73: f(x)= 0.245689\n",
      "differential_evolution step 74: f(x)= 0.245689\n",
      "differential_evolution step 75: f(x)= 0.245689\n",
      "differential_evolution step 76: f(x)= 0.245689\n",
      "differential_evolution step 77: f(x)= 0.245689\n",
      "differential_evolution step 78: f(x)= 0.245689\n",
      "differential_evolution step 79: f(x)= 0.245689\n",
      "differential_evolution step 80: f(x)= 0.245689\n",
      "differential_evolution step 81: f(x)= 0.245689\n",
      "differential_evolution step 82: f(x)= 0.245689\n",
      "differential_evolution step 83: f(x)= 0.245689\n",
      "differential_evolution step 84: f(x)= 0.245689\n",
      "differential_evolution step 85: f(x)= 0.245689\n",
      "differential_evolution step 86: f(x)= 0.245689\n",
      "differential_evolution step 87: f(x)= 0.245689\n",
      "differential_evolution step 88: f(x)= 0.245689\n",
      "differential_evolution step 89: f(x)= 0.245689\n",
      "differential_evolution step 90: f(x)= 0.245689\n",
      "differential_evolution step 91: f(x)= 0.245689\n",
      "differential_evolution step 92: f(x)= 0.245689\n",
      "differential_evolution step 93: f(x)= 0.245689\n",
      "differential_evolution step 94: f(x)= 0.245689\n",
      "differential_evolution step 95: f(x)= 0.245689\n",
      "differential_evolution step 96: f(x)= 0.245689\n",
      "differential_evolution step 97: f(x)= 0.245689\n",
      "differential_evolution step 98: f(x)= 0.245689\n",
      "differential_evolution step 99: f(x)= 0.245689\n",
      "differential_evolution step 100: f(x)= 0.245689\n",
      "differential_evolution step 101: f(x)= 0.245689\n",
      "differential_evolution step 102: f(x)= 0.245689\n",
      "differential_evolution step 103: f(x)= 0.245689\n",
      " message: Optimization terminated successfully.\n",
      " success: True\n",
      "     fun: 0.24568882114976376\n",
      "       x: [ 2.000e+01  1.854e+01  1.113e+00  7.728e+00]\n",
      "     nit: 103\n",
      "    nfev: 6240\n"
     ]
    }
   ],
   "source": [
    "from skneuromsi.neural import Paredes2022\n",
    "\n",
    "\n",
    "def paredes2022_job(a_sigma, v_sigma, a_intensity, v_intensity):\n",
    "    biases = []\n",
    "    a_pos = 45\n",
    "    model = Paredes2022(\n",
    "        neurons=90, position_range=(0, 90), position_res=1, time_range=(0, 100)\n",
    "    )\n",
    "    for v_pos in a_pos + dis:\n",
    "        res = model.run(\n",
    "            visual_position=v_pos,\n",
    "            auditory_position=a_pos,\n",
    "            visual_sigma=v_sigma,\n",
    "            auditory_sigma=a_sigma,\n",
    "            noise=False,\n",
    "            auditory_intensity=a_intensity,\n",
    "            visual_intensity=v_intensity,\n",
    "            soa=0,\n",
    "            auditory_stim_n=1,\n",
    "            visual_stim_n=1,\n",
    "            auditory_duration=100,\n",
    "            visual_duration=100,\n",
    "            auditory_onset=0,\n",
    "            visual_onset=0,\n",
    "        )\n",
    "        max_time = res.to_xarray()[\"times\"].max().values\n",
    "        estimated_a_pos = (\n",
    "            res.get_modes(\"auditory\").query(\"times==@max_time\").values.argmax()\n",
    "        )\n",
    "        bias = np.absolute(estimated_a_pos - a_pos) / np.absolute(a_pos - v_pos)\n",
    "        biases.append(bias)\n",
    "    return np.array(biases)\n",
    "\n",
    "\n",
    "def paredes2022_cost(theta):\n",
    "    model_data = paredes2022_job(theta[0], theta[1], theta[2], theta[3])\n",
    "    exp_data = bias_data\n",
    "\n",
    "    cost = np.sum(np.square(np.divide(exp_data - model_data, exp_data)))\n",
    "\n",
    "    if theta[0] < theta[1]:\n",
    "        cost = 100000000000\n",
    "\n",
    "    return cost\n",
    "\n",
    "\n",
    "bounds = [(0.1, 48), (0.1, 48), (0.1, 30), (0.1, 30)]\n",
    "paredes2022_fit_res = differential_evolution(\n",
    "    paredes2022_cost, bounds, disp=True, updating=\"deferred\", workers=28, polish=False\n",
    ")\n",
    "print(paredes2022_fit_res)"
   ]
  },
  {
   "cell_type": "code",
   "execution_count": 11,
   "metadata": {},
   "outputs": [
    {
     "data": {
      "text/plain": [
       "<matplotlib.collections.PathCollection at 0x7f9f90d752d0>"
      ]
     },
     "execution_count": 11,
     "metadata": {},
     "output_type": "execute_result"
    },
    {
     "data": {
      "image/png": "[encoded data removed]",
      "text/plain": [
       "<Figure size 640x480 with 1 Axes>"
      ]
     },
     "metadata": {},
     "output_type": "display_data"
    }
   ],
   "source": [
    "paredes2022_model_fit = paredes2022_job(\n",
    "    paredes2022_fit_res.x[0],\n",
    "    paredes2022_fit_res.x[1],\n",
    "    paredes2022_fit_res.x[2],\n",
    "    paredes2022_fit_res.x[3],\n",
    ")\n",
    "\n",
    "plt.plot(dis, paredes2022_model_fit)\n",
    "plt.scatter(dis, bias_data)"
   ]
  },
  {
   "cell_type": "code",
   "execution_count": 5,
   "metadata": {},
   "outputs": [
    {
     "name": "stdout",
     "output_type": "stream",
     "text": [
      "differential_evolution step 1: f(x)= 1.67435\n",
      "differential_evolution step 2: f(x)= 1.26053\n",
      "differential_evolution step 3: f(x)= 0.80589\n",
      "differential_evolution step 4: f(x)= 0.494515\n",
      "differential_evolution step 5: f(x)= 0.494515\n",
      "differential_evolution step 6: f(x)= 0.494515\n",
      "differential_evolution step 7: f(x)= 0.494515\n",
      "differential_evolution step 8: f(x)= 0.301934\n",
      "differential_evolution step 9: f(x)= 0.301934\n",
      "differential_evolution step 10: f(x)= 0.301934\n",
      "differential_evolution step 11: f(x)= 0.204484\n",
      "differential_evolution step 12: f(x)= 0.132381\n",
      "differential_evolution step 13: f(x)= 0.132381\n",
      "differential_evolution step 14: f(x)= 0.132381\n",
      "differential_evolution step 15: f(x)= 0.132381\n",
      "differential_evolution step 16: f(x)= 0.132381\n",
      "differential_evolution step 17: f(x)= 0.118069\n",
      "differential_evolution step 18: f(x)= 0.0945718\n",
      "differential_evolution step 19: f(x)= 0.0945718\n",
      "differential_evolution step 20: f(x)= 0.0945718\n",
      "differential_evolution step 21: f(x)= 0.0945718\n",
      "differential_evolution step 22: f(x)= 0.0945718\n",
      "differential_evolution step 23: f(x)= 0.0945718\n",
      "differential_evolution step 24: f(x)= 0.0945718\n",
      "differential_evolution step 25: f(x)= 0.0945718\n",
      "differential_evolution step 26: f(x)= 0.0945718\n",
      "differential_evolution step 27: f(x)= 0.0945718\n",
      "differential_evolution step 28: f(x)= 0.0945718\n",
      "differential_evolution step 29: f(x)= 0.0945718\n",
      "differential_evolution step 30: f(x)= 0.0945718\n",
      "differential_evolution step 31: f(x)= 0.0945718\n",
      "differential_evolution step 32: f(x)= 0.0945718\n",
      "differential_evolution step 33: f(x)= 0.0945718\n",
      "differential_evolution step 34: f(x)= 0.0929317\n",
      "differential_evolution step 35: f(x)= 0.0929317\n",
      "differential_evolution step 36: f(x)= 0.0929317\n",
      "differential_evolution step 37: f(x)= 0.0929317\n",
      "differential_evolution step 38: f(x)= 0.0929317\n",
      "differential_evolution step 39: f(x)= 0.0929317\n",
      "differential_evolution step 40: f(x)= 0.0929317\n",
      "differential_evolution step 41: f(x)= 0.0929317\n",
      "differential_evolution step 42: f(x)= 0.0929317\n",
      "differential_evolution step 43: f(x)= 0.0929317\n",
      "differential_evolution step 44: f(x)= 0.0929317\n",
      "differential_evolution step 45: f(x)= 0.0929317\n",
      "differential_evolution step 46: f(x)= 0.0929317\n",
      "differential_evolution step 47: f(x)= 0.0929317\n",
      "differential_evolution step 48: f(x)= 0.0929317\n",
      "differential_evolution step 49: f(x)= 0.0929317\n",
      "differential_evolution step 50: f(x)= 0.0929317\n",
      "differential_evolution step 51: f(x)= 0.0929317\n",
      "differential_evolution step 52: f(x)= 0.0929317\n",
      "differential_evolution step 53: f(x)= 0.0929317\n",
      "differential_evolution step 54: f(x)= 0.0929317\n",
      "differential_evolution step 55: f(x)= 0.0929317\n",
      "differential_evolution step 56: f(x)= 0.0929317\n",
      "differential_evolution step 57: f(x)= 0.0929317\n",
      "differential_evolution step 58: f(x)= 0.0929317\n",
      "differential_evolution step 59: f(x)= 0.092791\n",
      "differential_evolution step 60: f(x)= 0.092791\n",
      "differential_evolution step 61: f(x)= 0.092791\n",
      "differential_evolution step 62: f(x)= 0.092791\n",
      "differential_evolution step 63: f(x)= 0.092791\n",
      "differential_evolution step 64: f(x)= 0.092791\n",
      "differential_evolution step 65: f(x)= 0.092791\n",
      "differential_evolution step 66: f(x)= 0.092791\n",
      "differential_evolution step 67: f(x)= 0.092791\n",
      "differential_evolution step 68: f(x)= 0.092791\n",
      "differential_evolution step 69: f(x)= 0.092791\n",
      "differential_evolution step 70: f(x)= 0.092791\n",
      "differential_evolution step 71: f(x)= 0.092791\n",
      "differential_evolution step 72: f(x)= 0.092791\n",
      "differential_evolution step 73: f(x)= 0.092791\n",
      "differential_evolution step 74: f(x)= 0.0926687\n",
      "differential_evolution step 75: f(x)= 0.0922902\n",
      "differential_evolution step 76: f(x)= 0.0922902\n",
      "differential_evolution step 77: f(x)= 0.0922902\n",
      "differential_evolution step 78: f(x)= 0.0922902\n",
      "differential_evolution step 79: f(x)= 0.0922902\n",
      "differential_evolution step 80: f(x)= 0.0922902\n",
      "differential_evolution step 81: f(x)= 0.0922902\n",
      "differential_evolution step 82: f(x)= 0.0922902\n",
      "differential_evolution step 83: f(x)= 0.0922902\n",
      "differential_evolution step 84: f(x)= 0.0922902\n",
      "differential_evolution step 85: f(x)= 0.0921483\n",
      "differential_evolution step 86: f(x)= 0.0921483\n",
      "differential_evolution step 87: f(x)= 0.0920883\n",
      "differential_evolution step 88: f(x)= 0.0920883\n",
      "differential_evolution step 89: f(x)= 0.0920883\n",
      "differential_evolution step 90: f(x)= 0.0920883\n",
      "differential_evolution step 91: f(x)= 0.0920883\n",
      "differential_evolution step 92: f(x)= 0.0920883\n",
      "differential_evolution step 93: f(x)= 0.0920883\n",
      "differential_evolution step 94: f(x)= 0.0920883\n",
      "differential_evolution step 95: f(x)= 0.0920883\n",
      "differential_evolution step 96: f(x)= 0.0920883\n",
      "differential_evolution step 97: f(x)= 0.0920883\n",
      "differential_evolution step 98: f(x)= 0.0920883\n",
      "differential_evolution step 99: f(x)= 0.0920883\n",
      "differential_evolution step 100: f(x)= 0.0919694\n",
      "differential_evolution step 101: f(x)= 0.0919694\n",
      "differential_evolution step 102: f(x)= 0.0919694\n",
      "differential_evolution step 103: f(x)= 0.0919694\n",
      "differential_evolution step 104: f(x)= 0.0919463\n",
      "differential_evolution step 105: f(x)= 0.0919463\n",
      "differential_evolution step 106: f(x)= 0.0919463\n",
      "differential_evolution step 107: f(x)= 0.0919463\n",
      "differential_evolution step 108: f(x)= 0.0919463\n",
      "differential_evolution step 109: f(x)= 0.0918541\n",
      "differential_evolution step 110: f(x)= 0.0918541\n",
      "differential_evolution step 111: f(x)= 0.0918541\n",
      "differential_evolution step 112: f(x)= 0.0918541\n",
      "differential_evolution step 113: f(x)= 0.0918541\n",
      "differential_evolution step 114: f(x)= 0.0918541\n",
      "differential_evolution step 115: f(x)= 0.0918541\n",
      "differential_evolution step 116: f(x)= 0.0918494\n",
      "differential_evolution step 117: f(x)= 0.0918494\n",
      "differential_evolution step 118: f(x)= 0.0918494\n",
      " message: Optimization terminated successfully.\n",
      " success: True\n",
      "     fun: 0.0918493797729292\n",
      "       x: [ 2.580e+01  3.561e+00  1.664e+01  2.420e+01]\n",
      "     nit: 118\n",
      "    nfev: 7140\n"
     ]
    }
   ],
   "source": [
    "from skneuromsi.neural import Paredes2022\n",
    "\n",
    "\n",
    "def paredes2022_causes_job(a_sigma, v_sigma, a_intensity, v_intensity):\n",
    "    causes = []\n",
    "    a_pos = 45\n",
    "    model = Paredes2022(\n",
    "        neurons=90, position_range=(0, 90), position_res=1, time_range=(0, 150)\n",
    "    )\n",
    "    for v_pos in a_pos + dis:\n",
    "        res = model.run(\n",
    "            visual_position=v_pos,\n",
    "            auditory_position=a_pos,\n",
    "            auditory_sigma=a_sigma,\n",
    "            visual_sigma=v_sigma,\n",
    "            noise=False,\n",
    "            auditory_intensity=a_intensity,\n",
    "            visual_intensity=v_intensity,\n",
    "            causes_kind=\"prob\",\n",
    "            soa=0,\n",
    "            auditory_stim_n=1,\n",
    "            visual_stim_n=1,\n",
    "            auditory_duration=150,\n",
    "            visual_duration=150,\n",
    "            auditory_onset=0,\n",
    "            visual_onset=0,\n",
    "        )\n",
    "        causes.append(res.causes_)\n",
    "\n",
    "    return np.array(causes)\n",
    "\n",
    "\n",
    "def paredes2022_causes_cost(theta):\n",
    "    model_data = paredes2022_causes_job(theta[0], theta[1], theta[2], theta[3])\n",
    "    exp_data = causes_data\n",
    "\n",
    "    cost = np.sum(np.square(np.divide(exp_data - model_data, exp_data)))\n",
    "\n",
    "    if theta[0] < theta[1]:\n",
    "        cost = 100000000000\n",
    "\n",
    "    return cost\n",
    "\n",
    "\n",
    "bounds = [(0.1, 48), (0.1, 48), (0.1, 30), (0.1, 30)]\n",
    "paredes2022_causes_fit_res = differential_evolution(\n",
    "    paredes2022_causes_cost,\n",
    "    bounds,\n",
    "    disp=True,\n",
    "    updating=\"deferred\",\n",
    "    workers=30,\n",
    "    polish=False,\n",
    ")\n",
    "print(paredes2022_causes_fit_res)"
   ]
  },
  {
   "cell_type": "code",
   "execution_count": 7,
   "metadata": {},
   "outputs": [
    {
     "data": {
      "text/plain": [
       "<matplotlib.collections.PathCollection at 0x7f9ecc3e1e50>"
      ]
     },
     "execution_count": 7,
     "metadata": {},
     "output_type": "execute_result"
    },
    {
     "data": {
      "image/png": "[encoded data removed]",
      "text/plain": [
       "<Figure size 640x480 with 1 Axes>"
      ]
     },
     "metadata": {},
     "output_type": "display_data"
    }
   ],
   "source": [
    "paredes2022_model_causes_fit = paredes2022_causes_job(\n",
    "    paredes2022_causes_fit_res.x[0],\n",
    "    paredes2022_causes_fit_res.x[1],\n",
    "    paredes2022_causes_fit_res.x[2],\n",
    "    paredes2022_causes_fit_res.x[3],\n",
    ")\n",
    "\n",
    "plt.plot(dis, paredes2022_model_causes_fit)\n",
    "plt.scatter(dis, causes_data)"
   ]
  },
  {
   "cell_type": "code",
   "execution_count": 40,
   "metadata": {},
   "outputs": [
    {
     "data": {
      "text/plain": [
       "array([-24, -12,  -6,  -3,   3,   6,  12,  24])"
      ]
     },
     "execution_count": 40,
     "metadata": {},
     "output_type": "execute_result"
    }
   ],
   "source": [
    "dis"
   ]
  },
  {
   "cell_type": "code",
   "execution_count": 80,
   "metadata": {},
   "outputs": [
    {
     "data": {
      "text/plain": [
       "<NDResult 'Paredes2022', modes=['auditory' 'visual' 'multi'], times=15000, positions=90, positions_coordinates=1, causes=True>"
      ]
     },
     "execution_count": 80,
     "metadata": {},
     "output_type": "execute_result"
    }
   ],
   "source": [
    "model = Paredes2022(\n",
    "    neurons=90, position_range=(0, 90), position_res=1, time_range=(0, 150)\n",
    ")\n",
    "res = model.run(\n",
    "    visual_position=69,\n",
    "    auditory_position=45,\n",
    "    auditory_sigma=3.782e01,\n",
    "    visual_sigma=1.230e01,\n",
    "    noise=False,\n",
    "    auditory_intensity=2.026e01,\n",
    "    visual_intensity=4.027e00,\n",
    "    causes_kind=\"prob\",\n",
    "    soa=0,\n",
    "    auditory_stim_n=1,\n",
    "    visual_stim_n=1,\n",
    "    auditory_duration=150,\n",
    "    visual_duration=150,\n",
    "    auditory_onset=0,\n",
    "    visual_onset=0,\n",
    ")\n",
    "res"
   ]
  },
  {
   "cell_type": "code",
   "execution_count": 81,
   "metadata": {},
   "outputs": [
    {
     "data": {
      "text/plain": [
       "0.9997416071252612"
      ]
     },
     "execution_count": 81,
     "metadata": {},
     "output_type": "execute_result"
    }
   ],
   "source": [
    "res.causes_"
   ]
  },
  {
   "cell_type": "code",
   "execution_count": 82,
   "metadata": {},
   "outputs": [
    {
     "data": {
      "text/plain": [
       "<Axes: title={'center': 'Paredes2022 - Time 14999'}, xlabel='positions', ylabel='values'>"
      ]
     },
     "execution_count": 82,
     "metadata": {},
     "output_type": "execute_result"
    },
    {
     "data": {
      "image/png": "[encoded data removed]",
      "text/plain": [
       "<Figure size 640x480 with 1 Axes>"
      ]
     },
     "metadata": {},
     "output_type": "display_data"
    }
   ],
   "source": [
    "res.plot.linep(time=14999)"
   ]
  }
 ],
 "metadata": {
  "kernelspec": {
   "display_name": "neuromsi",
   "language": "python",
   "name": "python3"
  },
  "language_info": {
   "codemirror_mode": {
    "name": "ipython",
    "version": 3
   },
   "file_extension": ".py",
   "mimetype": "text/x-python",
   "name": "python",
   "nbconvert_exporter": "python",
   "pygments_lexer": "ipython3",
   "version": "3.11.8"
  }
 },
 "nbformat": 4,
 "nbformat_minor": 2
}
