{
 "cells": [
  {
   "cell_type": "code",
   "execution_count": 1,
   "metadata": {},
   "outputs": [],
   "source": [
    "import numpy as np\n",
    "import matplotlib.pyplot as plt"
   ]
  },
  {
   "cell_type": "code",
   "execution_count": 2,
   "metadata": {},
   "outputs": [],
   "source": [
    "# Audio bias of HC\n",
    "HC_bias_a = np.zeros((3, 8))\n",
    "# HC_bias_a[0]--High; HC_bias_a[1]--Medium; HC_bias_a[2]--Low\n",
    "HC_bias_a[0] = np.array(\n",
    "    [\n",
    "        -5.21640112246667,\n",
    "        -4.18706601266667,\n",
    "        -3.13696911613333,\n",
    "        -2.09924748133333,\n",
    "        1.35796414540000,\n",
    "        3.07563797893333,\n",
    "        3.81842299133333,\n",
    "        3.35914483333333,\n",
    "    ]\n",
    ")\n",
    "HC_bias_a[1] = np.array(\n",
    "    [\n",
    "        -4.65343309471429,\n",
    "        -5.46053503785714,\n",
    "        -2.09086371792857,\n",
    "        -1.13832656671429,\n",
    "        -0.277120626642857,\n",
    "        0.262638716714286,\n",
    "        2.19984634542857,\n",
    "        3.40839929092857,\n",
    "    ]\n",
    ")\n",
    "HC_bias_a[2] = np.array(\n",
    "    [\n",
    "        -2.93714767620000,\n",
    "        -2.81604437300000,\n",
    "        -1.61590862560000,\n",
    "        -1.98143368426667,\n",
    "        -1.29873315480000,\n",
    "        0.0165255805333333,\n",
    "        0.501353158466667,\n",
    "        1.16135676946667,\n",
    "    ]\n",
    ")"
   ]
  },
  {
   "cell_type": "code",
   "execution_count": 3,
   "metadata": {},
   "outputs": [],
   "source": [
    "# Causal Inference of HC\n",
    "HC_pro_com = np.array(\n",
    "    [\n",
    "        [\n",
    "            0.367025484375000,\n",
    "            0.682562911541667,\n",
    "            0.822405755208334,\n",
    "            0.876760716875000,\n",
    "            0.863113007208333,\n",
    "            0.809197201583333,\n",
    "            0.649743997500000,\n",
    "            0.321256356083333,\n",
    "        ],\n",
    "        [\n",
    "            0.435277895916667,\n",
    "            0.621660267583333,\n",
    "            0.659722209500000,\n",
    "            0.704617010791667,\n",
    "            0.724928494125000,\n",
    "            0.687408309375000,\n",
    "            0.612227719333333,\n",
    "            0.446587043833333,\n",
    "        ],\n",
    "        [\n",
    "            0.519254406291667,\n",
    "            0.624221809791667,\n",
    "            0.623241935666667,\n",
    "            0.633213512666667,\n",
    "            0.650625944875000,\n",
    "            0.645931453375000,\n",
    "            0.608952192000000,\n",
    "            0.537992153875000,\n",
    "        ],\n",
    "    ]\n",
    ")"
   ]
  },
  {
   "cell_type": "code",
   "execution_count": 4,
   "metadata": {},
   "outputs": [],
   "source": [
    "from scipy.optimize import differential_evolution\n",
    "from skneuromsi.sweep import ParameterSweep\n",
    "\n",
    "dis = np.array([-24, -12, -6, -3, 3, 6, 12, 24])  # disparities\n",
    "bias_data = 1 - np.abs(HC_bias_a[0]) / np.abs(dis)\n",
    "causes_data = HC_pro_com[0]"
   ]
  },
  {
   "cell_type": "markdown",
   "metadata": {},
   "source": [
    "## Alais and Burr\n"
   ]
  },
  {
   "cell_type": "code",
   "execution_count": 9,
   "metadata": {},
   "outputs": [
    {
     "name": "stdout",
     "output_type": "stream",
     "text": [
      "differential_evolution step 1: f(x)= 9.10868\n",
      "differential_evolution step 2: f(x)= 9.10868\n",
      "differential_evolution step 3: f(x)= 9.10868\n",
      "differential_evolution step 4: f(x)= 9.10868\n",
      "differential_evolution step 5: f(x)= 9.10868\n",
      "differential_evolution step 6: f(x)= 9.10868\n",
      "differential_evolution step 7: f(x)= 9.10868\n",
      "differential_evolution step 8: f(x)= 9.10868\n",
      "differential_evolution step 9: f(x)= 9.10868\n",
      "differential_evolution step 10: f(x)= 9.10868\n",
      "differential_evolution step 11: f(x)= 9.10868\n",
      "differential_evolution step 12: f(x)= 9.10868\n",
      "differential_evolution step 13: f(x)= 9.10868\n",
      "differential_evolution step 14: f(x)= 9.10868\n",
      "differential_evolution step 15: f(x)= 9.10868\n",
      "differential_evolution step 16: f(x)= 9.10868\n",
      " message: Optimization terminated successfully.\n",
      " success: True\n",
      "     fun: 9.10867669723244\n",
      "       x: [ 1.204e+01  1.191e+01]\n",
      "     nit: 16\n",
      "    nfev: 510\n"
     ]
    }
   ],
   "source": [
    "from skneuromsi.mle import AlaisBurr2004\n",
    "\n",
    "\n",
    "def alais_job(a_sigma, v_sigma):\n",
    "    model = AlaisBurr2004(position_range=(0, 90), position_res=1)\n",
    "    sp = ParameterSweep(\n",
    "        model=model, target=\"visual_position\", repeat=1, n_jobs=1, range=45 + dis\n",
    "    )\n",
    "    res = sp.run(\n",
    "        auditory_position=45, visual_sigma=v_sigma, auditory_sigma=a_sigma, noise=False\n",
    "    )\n",
    "    bias = res.bias.bias_mean(\n",
    "        influence_parameter=\"auditory_position\", mode=\"multi\", quiet=True\n",
    "    )\n",
    "    return bias.values\n",
    "\n",
    "\n",
    "def alais_cost(theta):\n",
    "    model_data = alais_job(theta[0], theta[1])\n",
    "    exp_data = bias_data\n",
    "\n",
    "    cost = np.sum(np.square(np.divide(exp_data - model_data, exp_data)))\n",
    "\n",
    "    if theta[0] < theta[1]:\n",
    "        cost = 100000000000\n",
    "\n",
    "    return cost\n",
    "\n",
    "\n",
    "bounds = [(0.1, 48), (0.1, 48)]\n",
    "alais_fit_res = differential_evolution(\n",
    "    alais_cost, bounds, disp=True, updating=\"deferred\", workers=-1, polish=False\n",
    ")\n",
    "print(alais_fit_res)"
   ]
  },
  {
   "cell_type": "code",
   "execution_count": 10,
   "metadata": {},
   "outputs": [
    {
     "data": {
      "application/vnd.jupyter.widget-view+json": {
       "model_id": "fa45c893ef244337a6fb145ecfe014a2",
       "version_major": 2,
       "version_minor": 0
      },
      "text/plain": [
       "Sweeping 'visual_position':   0%|          | 0/8 [00:00<?, ?it/s]"
      ]
     },
     "metadata": {},
     "output_type": "display_data"
    },
    {
     "data": {
      "application/vnd.jupyter.widget-view+json": {
       "model_id": "21636b2fefef4757a89d470fc2f1c093",
       "version_major": 2,
       "version_minor": 0
      },
      "text/plain": [
       "Collecting metadata:   0%|          | 0/8 [00:00<?, ?it/s]"
      ]
     },
     "metadata": {},
     "output_type": "display_data"
    },
    {
     "data": {
      "text/plain": [
       "<matplotlib.collections.PathCollection at 0x7f2e65945290>"
      ]
     },
     "execution_count": 10,
     "metadata": {},
     "output_type": "execute_result"
    },
    {
     "data": {
      "image/png": "[encoded data removed]",
      "text/plain": [
       "<Figure size 640x480 with 1 Axes>"
      ]
     },
     "metadata": {},
     "output_type": "display_data"
    }
   ],
   "source": [
    "alais_model_fit = alais_job(alais_fit_res.x[0], alais_fit_res.x[1])\n",
    "\n",
    "plt.plot(dis, alais_model_fit)\n",
    "plt.scatter(dis, bias_data)"
   ]
  },
  {
   "cell_type": "markdown",
   "metadata": {},
   "source": [
    "## Kording"
   ]
  },
  {
   "cell_type": "code",
   "execution_count": 11,
   "metadata": {},
   "outputs": [
    {
     "name": "stdout",
     "output_type": "stream",
     "text": [
      "differential_evolution step 1: f(x)= 11.4004\n",
      "differential_evolution step 2: f(x)= 11.4004\n",
      "differential_evolution step 3: f(x)= 11.4004\n",
      "differential_evolution step 4: f(x)= 10.4711\n",
      "differential_evolution step 5: f(x)= 10.4711\n",
      "differential_evolution step 6: f(x)= 10.1887\n",
      "differential_evolution step 7: f(x)= 9.37552\n",
      "differential_evolution step 8: f(x)= 9.37552\n",
      "differential_evolution step 9: f(x)= 8.89122\n",
      "differential_evolution step 10: f(x)= 8.77517\n",
      "differential_evolution step 11: f(x)= 8.77517\n",
      "differential_evolution step 12: f(x)= 8.67377\n",
      "differential_evolution step 13: f(x)= 8.67377\n",
      "differential_evolution step 14: f(x)= 8.67377\n",
      "differential_evolution step 15: f(x)= 8.67377\n",
      "differential_evolution step 16: f(x)= 8.67377\n",
      "differential_evolution step 17: f(x)= 8.67377\n",
      "differential_evolution step 18: f(x)= 8.67377\n",
      "differential_evolution step 19: f(x)= 8.67377\n",
      "differential_evolution step 20: f(x)= 8.67377\n",
      "differential_evolution step 21: f(x)= 8.67377\n",
      "differential_evolution step 22: f(x)= 8.54767\n",
      "differential_evolution step 23: f(x)= 8.54767\n",
      "differential_evolution step 24: f(x)= 8.54767\n",
      "differential_evolution step 25: f(x)= 8.54767\n",
      "differential_evolution step 26: f(x)= 8.54767\n",
      "differential_evolution step 27: f(x)= 8.54767\n",
      "differential_evolution step 28: f(x)= 8.54767\n",
      "differential_evolution step 29: f(x)= 8.54767\n",
      "differential_evolution step 30: f(x)= 8.54767\n",
      "differential_evolution step 31: f(x)= 8.52756\n",
      "differential_evolution step 32: f(x)= 8.52756\n",
      "differential_evolution step 33: f(x)= 8.43162\n",
      "differential_evolution step 34: f(x)= 8.43162\n",
      "differential_evolution step 35: f(x)= 8.43162\n",
      "differential_evolution step 36: f(x)= 8.43162\n",
      "differential_evolution step 37: f(x)= 8.43162\n",
      "differential_evolution step 38: f(x)= 8.43162\n",
      "differential_evolution step 39: f(x)= 8.43162\n",
      "differential_evolution step 40: f(x)= 8.43162\n",
      "differential_evolution step 41: f(x)= 8.43162\n",
      "differential_evolution step 42: f(x)= 8.43162\n",
      "differential_evolution step 43: f(x)= 8.43162\n",
      "differential_evolution step 44: f(x)= 8.43162\n",
      "differential_evolution step 45: f(x)= 8.43162\n",
      "differential_evolution step 46: f(x)= 8.43162\n",
      "differential_evolution step 47: f(x)= 8.43162\n",
      "differential_evolution step 48: f(x)= 8.43162\n",
      "differential_evolution step 49: f(x)= 8.43162\n",
      "differential_evolution step 50: f(x)= 8.43162\n",
      "differential_evolution step 51: f(x)= 8.43162\n",
      "differential_evolution step 52: f(x)= 8.43162\n",
      "differential_evolution step 53: f(x)= 8.43162\n",
      "differential_evolution step 54: f(x)= 8.43162\n",
      "differential_evolution step 55: f(x)= 8.43162\n",
      "differential_evolution step 56: f(x)= 8.43162\n",
      "differential_evolution step 57: f(x)= 8.43162\n",
      "differential_evolution step 58: f(x)= 8.43162\n",
      "differential_evolution step 59: f(x)= 8.43162\n",
      " message: Optimization terminated successfully.\n",
      " success: True\n",
      "     fun: 8.431617090632374\n",
      "       x: [ 4.305e+01  1.326e+01  2.165e+01  2.118e+01]\n",
      "     nit: 59\n",
      "    nfev: 3600\n"
     ]
    }
   ],
   "source": [
    "from skneuromsi.bayesian import Kording2007\n",
    "\n",
    "\n",
    "def kording_job(a_sigma, v_sigma, p_mu, p_sigma):\n",
    "    model = Kording2007(position_range=(0, 90), position_res=1)\n",
    "    sp = ParameterSweep(\n",
    "        model=model, target=\"visual_position\", repeat=1, n_jobs=1, range=45 + dis\n",
    "    )\n",
    "    res = sp.run(\n",
    "        auditory_position=45,\n",
    "        visual_sigma=v_sigma,\n",
    "        auditory_sigma=a_sigma,\n",
    "        noise=False,\n",
    "        prior_mu=p_mu,\n",
    "        prior_sigma=p_sigma,\n",
    "        strategy=\"averaging\",\n",
    "    )\n",
    "    bias = res.bias.bias_mean(\n",
    "        influence_parameter=\"auditory_position\", mode=\"auditory\", quiet=True\n",
    "    )\n",
    "    return bias.values\n",
    "\n",
    "\n",
    "def kording_cost(theta):\n",
    "    model_data = kording_job(theta[0], theta[1], theta[2], theta[3])\n",
    "    exp_data = bias_data\n",
    "\n",
    "    cost = np.sum(np.square(np.divide(exp_data - model_data, exp_data)))\n",
    "\n",
    "    if theta[0] < theta[1]:\n",
    "        cost = 100000000000\n",
    "\n",
    "    return cost\n",
    "\n",
    "\n",
    "bounds = [(0.1, 48), (0.1, 48), (21, 69), (0.1, 48)]\n",
    "kording_fit_res = differential_evolution(\n",
    "    kording_cost, bounds, disp=True, updating=\"deferred\", workers=-1, polish=False\n",
    ")\n",
    "print(kording_fit_res)"
   ]
  },
  {
   "cell_type": "code",
   "execution_count": 12,
   "metadata": {},
   "outputs": [
    {
     "data": {
      "application/vnd.jupyter.widget-view+json": {
       "model_id": "b5f053ddcab944afabeddeee96f2ee81",
       "version_major": 2,
       "version_minor": 0
      },
      "text/plain": [
       "Sweeping 'visual_position':   0%|          | 0/8 [00:00<?, ?it/s]"
      ]
     },
     "metadata": {},
     "output_type": "display_data"
    },
    {
     "data": {
      "application/vnd.jupyter.widget-view+json": {
       "model_id": "5a8927eae8e74c819b7b502bfd4cdef9",
       "version_major": 2,
       "version_minor": 0
      },
      "text/plain": [
       "Collecting metadata:   0%|          | 0/8 [00:00<?, ?it/s]"
      ]
     },
     "metadata": {},
     "output_type": "display_data"
    },
    {
     "data": {
      "text/plain": [
       "<matplotlib.collections.PathCollection at 0x7f2e6593d290>"
      ]
     },
     "execution_count": 12,
     "metadata": {},
     "output_type": "execute_result"
    },
    {
     "data": {
      "image/png": "[encoded data removed]",
      "text/plain": [
       "<Figure size 640x480 with 1 Axes>"
      ]
     },
     "metadata": {},
     "output_type": "display_data"
    }
   ],
   "source": [
    "kording_model_fit = kording_job(\n",
    "    kording_fit_res.x[0],\n",
    "    kording_fit_res.x[1],\n",
    "    kording_fit_res.x[2],\n",
    "    kording_fit_res.x[3],\n",
    ")\n",
    "\n",
    "plt.plot(dis, kording_model_fit)\n",
    "plt.scatter(dis, bias_data)"
   ]
  },
  {
   "cell_type": "code",
   "execution_count": 15,
   "metadata": {},
   "outputs": [
    {
     "name": "stdout",
     "output_type": "stream",
     "text": [
      "differential_evolution step 1: f(x)= 64.3685\n",
      "differential_evolution step 2: f(x)= 64.2764\n",
      "differential_evolution step 3: f(x)= 64.2764\n",
      "differential_evolution step 4: f(x)= 64.1842\n",
      "differential_evolution step 5: f(x)= 64.1842\n",
      " message: Optimization terminated successfully.\n",
      " success: True\n",
      "     fun: 64.1842474836019\n",
      "       x: [ 1.937e+00  1.262e+00]\n",
      "     nit: 5\n",
      "    nfev: 180\n"
     ]
    }
   ],
   "source": [
    "def kording_causes_job(a_sigma, v_sigma):\n",
    "    model = Kording2007(position_range=(0, 90), position_res=1)\n",
    "    sp = ParameterSweep(\n",
    "        model=model, target=\"visual_position\", repeat=1, n_jobs=1, range=45 + dis\n",
    "    )\n",
    "    res = sp.run(\n",
    "        auditory_position=45,\n",
    "        visual_sigma=v_sigma,\n",
    "        auditory_sigma=a_sigma,\n",
    "        noise=False,\n",
    "        prior_mu=45,\n",
    "        prior_sigma=20,\n",
    "        strategy=\"selection\",\n",
    "    )\n",
    "    causes = res.causes.unity_report()\n",
    "    return causes.values\n",
    "\n",
    "\n",
    "def kording_causes_cost(theta):\n",
    "    model_data = kording_causes_job(theta[0], theta[1])\n",
    "    exp_data = causes_data\n",
    "\n",
    "    cost = np.sum(np.square(np.divide(exp_data - model_data, exp_data)))\n",
    "\n",
    "    if theta[0] < theta[1]:\n",
    "        cost = 100000000000\n",
    "\n",
    "    return cost\n",
    "\n",
    "\n",
    "bounds = [(0.1, 48), (0.1, 48)]\n",
    "kording_causes_fit_res = differential_evolution(\n",
    "    kording_causes_cost,\n",
    "    bounds,\n",
    "    disp=True,\n",
    "    updating=\"deferred\",\n",
    "    workers=-1,\n",
    "    polish=False,\n",
    ")\n",
    "print(kording_causes_fit_res)"
   ]
  },
  {
   "cell_type": "code",
   "execution_count": 16,
   "metadata": {},
   "outputs": [
    {
     "data": {
      "application/vnd.jupyter.widget-view+json": {
       "model_id": "35a60e7a5591419d902aab30978e1443",
       "version_major": 2,
       "version_minor": 0
      },
      "text/plain": [
       "Sweeping 'visual_position':   0%|          | 0/8 [00:00<?, ?it/s]"
      ]
     },
     "metadata": {},
     "output_type": "display_data"
    },
    {
     "data": {
      "application/vnd.jupyter.widget-view+json": {
       "model_id": "7ea98727f31e4cc7be1a00d0a7434aa2",
       "version_major": 2,
       "version_minor": 0
      },
      "text/plain": [
       "Collecting metadata:   0%|          | 0/8 [00:00<?, ?it/s]"
      ]
     },
     "metadata": {},
     "output_type": "display_data"
    },
    {
     "data": {
      "text/plain": [
       "<matplotlib.collections.PathCollection at 0x7f2e658e5290>"
      ]
     },
     "execution_count": 16,
     "metadata": {},
     "output_type": "execute_result"
    },
    {
     "data": {
      "image/png": "[encoded data removed]",
      "text/plain": [
       "<Figure size 640x480 with 1 Axes>"
      ]
     },
     "metadata": {},
     "output_type": "display_data"
    }
   ],
   "source": [
    "kording_model_causes_fit = kording_causes_job(\n",
    "    kording_causes_fit_res.x[0], kording_causes_fit_res.x[1]\n",
    ")\n",
    "\n",
    "plt.plot(dis, kording_model_causes_fit)\n",
    "plt.scatter(dis, causes_data)"
   ]
  },
  {
   "cell_type": "markdown",
   "metadata": {},
   "source": [
    "## Cuppini 2017"
   ]
  },
  {
   "cell_type": "code",
   "execution_count": 14,
   "metadata": {},
   "outputs": [
    {
     "name": "stdout",
     "output_type": "stream",
     "text": [
      "differential_evolution step 1: f(x)= 1.41513\n",
      "differential_evolution step 2: f(x)= 1.15347\n",
      "differential_evolution step 3: f(x)= 1.15347\n",
      "differential_evolution step 4: f(x)= 1.15347\n",
      "differential_evolution step 5: f(x)= 1.15347\n",
      "differential_evolution step 6: f(x)= 1.15347\n",
      "differential_evolution step 7: f(x)= 1.12322\n",
      "differential_evolution step 8: f(x)= 0.88228\n",
      "differential_evolution step 9: f(x)= 0.88228\n",
      "differential_evolution step 10: f(x)= 0.88228\n",
      "differential_evolution step 11: f(x)= 0.88228\n",
      "differential_evolution step 12: f(x)= 0.88228\n",
      "differential_evolution step 13: f(x)= 0.88228\n",
      "differential_evolution step 14: f(x)= 0.777356\n",
      "differential_evolution step 15: f(x)= 0.524763\n",
      "differential_evolution step 16: f(x)= 0.524763\n",
      "differential_evolution step 17: f(x)= 0.524763\n",
      "differential_evolution step 18: f(x)= 0.524763\n",
      "differential_evolution step 19: f(x)= 0.408182\n",
      "differential_evolution step 20: f(x)= 0.365436\n",
      "differential_evolution step 21: f(x)= 0.365436\n",
      "differential_evolution step 22: f(x)= 0.333052\n",
      "differential_evolution step 23: f(x)= 0.333052\n",
      "differential_evolution step 24: f(x)= 0.333052\n",
      "differential_evolution step 25: f(x)= 0.333052\n",
      "differential_evolution step 26: f(x)= 0.333052\n",
      "differential_evolution step 27: f(x)= 0.333052\n",
      "differential_evolution step 28: f(x)= 0.333052\n",
      "differential_evolution step 29: f(x)= 0.333052\n",
      "differential_evolution step 30: f(x)= 0.299375\n",
      "differential_evolution step 31: f(x)= 0.299375\n",
      "differential_evolution step 32: f(x)= 0.299375\n",
      "differential_evolution step 33: f(x)= 0.299375\n",
      "differential_evolution step 34: f(x)= 0.29808\n",
      "differential_evolution step 35: f(x)= 0.29808\n",
      "differential_evolution step 36: f(x)= 0.29808\n",
      "differential_evolution step 37: f(x)= 0.29808\n",
      "differential_evolution step 38: f(x)= 0.29808\n",
      "differential_evolution step 39: f(x)= 0.29808\n",
      "differential_evolution step 40: f(x)= 0.29808\n",
      "differential_evolution step 41: f(x)= 0.29808\n",
      "differential_evolution step 42: f(x)= 0.29808\n",
      "differential_evolution step 43: f(x)= 0.29808\n",
      "differential_evolution step 44: f(x)= 0.29808\n",
      "differential_evolution step 45: f(x)= 0.29808\n",
      "differential_evolution step 46: f(x)= 0.29808\n",
      "differential_evolution step 47: f(x)= 0.29808\n",
      "differential_evolution step 48: f(x)= 0.29808\n",
      "differential_evolution step 49: f(x)= 0.29808\n",
      "differential_evolution step 50: f(x)= 0.29808\n",
      "differential_evolution step 51: f(x)= 0.29808\n",
      "differential_evolution step 52: f(x)= 0.29808\n",
      "differential_evolution step 53: f(x)= 0.29808\n",
      "differential_evolution step 54: f(x)= 0.29808\n",
      "differential_evolution step 55: f(x)= 0.29808\n",
      " message: Optimization terminated successfully.\n",
      " success: True\n",
      "     fun: 0.29807993008969513\n",
      "       x: [ 2.691e+01  2.584e+01  2.356e+01  2.982e+01]\n",
      "     nit: 55\n",
      "    nfev: 3360\n"
     ]
    }
   ],
   "source": [
    "from skneuromsi.neural import Cuppini2017\n",
    "\n",
    "\n",
    "def cuppini2017_job(a_sigma, v_sigma, a_intensity, v_intensity):\n",
    "    biases = []\n",
    "    a_pos = 45\n",
    "    model = Cuppini2017(neurons=90, position_range=(0, 90), position_res=1)\n",
    "    for v_pos in a_pos + dis:\n",
    "        res = model.run(\n",
    "            visual_position=v_pos,\n",
    "            auditory_position=a_pos,\n",
    "            visual_sigma=v_sigma,\n",
    "            auditory_sigma=a_sigma,\n",
    "            noise=False,\n",
    "            auditory_intensity=a_intensity,\n",
    "            visual_intensity=v_intensity,\n",
    "        )\n",
    "        max_time = res.to_xarray()[\"times\"].max().values\n",
    "        estimated_a_pos = (\n",
    "            res.get_modes(\"auditory\").query(\"times==@max_time\").values.argmax()\n",
    "        )\n",
    "        bias = np.absolute(estimated_a_pos - a_pos) / np.absolute(a_pos - v_pos)\n",
    "        biases.append(bias)\n",
    "    return np.array(biases)\n",
    "\n",
    "\n",
    "def cuppini2017_cost(theta):\n",
    "    model_data = cuppini2017_job(theta[0], theta[1], theta[2], theta[3])\n",
    "    exp_data = bias_data\n",
    "\n",
    "    cost = np.sum(np.square(np.divide(exp_data - model_data, exp_data)))\n",
    "\n",
    "    if theta[0] < theta[1]:\n",
    "        cost = 100000000000\n",
    "\n",
    "    return cost\n",
    "\n",
    "\n",
    "bounds = [(0.1, 48), (0.1, 48), (0.1, 30), (0.1, 30)]\n",
    "cuppini2017_fit_res = differential_evolution(\n",
    "    cuppini2017_cost, bounds, disp=True, updating=\"deferred\", workers=-1, polish=False\n",
    ")\n",
    "print(cuppini2017_fit_res)"
   ]
  },
  {
   "cell_type": "code",
   "execution_count": 18,
   "metadata": {},
   "outputs": [
    {
     "name": "stdout",
     "output_type": "stream",
     "text": [
      "25\n",
      "39\n",
      "42\n",
      "44\n",
      "46\n",
      "48\n",
      "51\n",
      "65\n"
     ]
    },
    {
     "data": {
      "text/plain": [
       "<matplotlib.collections.PathCollection at 0x7fe4bd3d9d10>"
      ]
     },
     "execution_count": 18,
     "metadata": {},
     "output_type": "execute_result"
    },
    {
     "data": {
      "image/png": "[encoded data removed]",
      "text/plain": [
       "<Figure size 640x480 with 1 Axes>"
      ]
     },
     "metadata": {},
     "output_type": "display_data"
    }
   ],
   "source": [
    "cuppini2017_model_fit = cuppini2017_job(\n",
    "    cuppini2017_fit_res.x[0],\n",
    "    cuppini2017_fit_res.x[1],\n",
    "    cuppini2017_fit_res.x[2],\n",
    "    cuppini2017_fit_res.x[3],\n",
    ")\n",
    "\n",
    "plt.plot(dis, cuppini2017_model_fit)\n",
    "plt.scatter(dis, bias_data)"
   ]
  },
  {
   "cell_type": "code",
   "execution_count": 5,
   "metadata": {},
   "outputs": [
    {
     "name": "stdout",
     "output_type": "stream",
     "text": [
      "differential_evolution step 1: f(x)= 0.192849\n",
      "differential_evolution step 2: f(x)= 0.192849\n",
      "differential_evolution step 3: f(x)= 0.192849\n",
      "differential_evolution step 4: f(x)= 0.14573\n",
      "differential_evolution step 5: f(x)= 0.14573\n",
      "differential_evolution step 6: f(x)= 0.125072\n",
      "differential_evolution step 7: f(x)= 0.125072\n",
      "differential_evolution step 8: f(x)= 0.125072\n",
      "differential_evolution step 9: f(x)= 0.125072\n",
      "differential_evolution step 10: f(x)= 0.125072\n",
      "differential_evolution step 11: f(x)= 0.125072\n",
      "differential_evolution step 12: f(x)= 0.0254829\n",
      "differential_evolution step 13: f(x)= 0.0254829\n",
      "differential_evolution step 14: f(x)= 0.0254829\n",
      "differential_evolution step 15: f(x)= 0.0203048\n",
      "differential_evolution step 16: f(x)= 0.0174151\n",
      "differential_evolution step 17: f(x)= 0.0174151\n",
      "differential_evolution step 18: f(x)= 0.0174151\n",
      "differential_evolution step 19: f(x)= 0.0174151\n",
      "differential_evolution step 20: f(x)= 0.0174151\n",
      "differential_evolution step 21: f(x)= 0.0174151\n",
      "differential_evolution step 22: f(x)= 0.0160719\n",
      "differential_evolution step 23: f(x)= 0.0160719\n",
      "differential_evolution step 24: f(x)= 0.0160719\n",
      "differential_evolution step 25: f(x)= 0.0160719\n",
      "differential_evolution step 26: f(x)= 0.0160719\n",
      "differential_evolution step 27: f(x)= 0.0153772\n",
      "differential_evolution step 28: f(x)= 0.0117865\n",
      "differential_evolution step 29: f(x)= 0.0109781\n",
      "differential_evolution step 30: f(x)= 0.0109781\n",
      "differential_evolution step 31: f(x)= 0.0109781\n",
      "differential_evolution step 32: f(x)= 0.0109781\n",
      "differential_evolution step 33: f(x)= 0.0109781\n",
      "differential_evolution step 34: f(x)= 0.0109781\n",
      "differential_evolution step 35: f(x)= 0.0109781\n",
      "differential_evolution step 36: f(x)= 0.0109781\n",
      "differential_evolution step 37: f(x)= 0.0109781\n",
      "differential_evolution step 38: f(x)= 0.0109352\n",
      "differential_evolution step 39: f(x)= 0.0109352\n",
      "differential_evolution step 40: f(x)= 0.0109352\n",
      "differential_evolution step 41: f(x)= 0.0109352\n",
      "differential_evolution step 42: f(x)= 0.0109315\n",
      "differential_evolution step 43: f(x)= 0.0108419\n",
      "differential_evolution step 44: f(x)= 0.0108419\n",
      "differential_evolution step 45: f(x)= 0.0108419\n",
      "differential_evolution step 46: f(x)= 0.0108419\n",
      "differential_evolution step 47: f(x)= 0.0108419\n",
      "differential_evolution step 48: f(x)= 0.0108419\n",
      "differential_evolution step 49: f(x)= 0.0108419\n",
      "differential_evolution step 50: f(x)= 0.0108419\n",
      "differential_evolution step 51: f(x)= 0.0108402\n",
      "differential_evolution step 52: f(x)= 0.010815\n",
      "differential_evolution step 53: f(x)= 0.010815\n",
      "differential_evolution step 54: f(x)= 0.0107875\n",
      "differential_evolution step 55: f(x)= 0.0107875\n",
      "differential_evolution step 56: f(x)= 0.0107875\n",
      "differential_evolution step 57: f(x)= 0.0107875\n",
      "differential_evolution step 58: f(x)= 0.0107695\n",
      "differential_evolution step 59: f(x)= 0.0107695\n",
      "differential_evolution step 60: f(x)= 0.0107634\n",
      "differential_evolution step 61: f(x)= 0.0107634\n",
      "differential_evolution step 62: f(x)= 0.0107634\n",
      "differential_evolution step 63: f(x)= 0.0107634\n",
      " message: Optimization terminated successfully.\n",
      " success: True\n",
      "     fun: 0.010763412301135582\n",
      "       x: [ 2.803e+01  8.033e+00  1.328e+01  2.366e+01]\n",
      "     nit: 63\n",
      "    nfev: 3840\n"
     ]
    }
   ],
   "source": [
    "from skneuromsi.neural import Cuppini2017\n",
    "\n",
    "\n",
    "def cuppini2017_causes_job(a_sigma, v_sigma, a_intensity, v_intensity):\n",
    "    causes = []\n",
    "    a_pos = 45\n",
    "    model = Cuppini2017(neurons=90, position_range=(0, 90), position_res=1)\n",
    "    for v_pos in a_pos + dis:\n",
    "        res = model.run(\n",
    "            visual_position=v_pos,\n",
    "            auditory_position=a_pos,\n",
    "            visual_sigma=v_sigma,\n",
    "            auditory_sigma=a_sigma,\n",
    "            noise=False,\n",
    "            causes_kind=\"prob\",\n",
    "            auditory_intensity=a_intensity,\n",
    "            visual_intensity=v_intensity,\n",
    "        )\n",
    "        causes.append(res.causes_)\n",
    "    return np.array(causes)\n",
    "\n",
    "\n",
    "def cuppini2017_causes_cost(theta):\n",
    "    model_data = cuppini2017_causes_job(theta[0], theta[1], theta[2], theta[3])\n",
    "    exp_data = causes_data\n",
    "\n",
    "    cost = np.sum(np.square(np.divide(exp_data - model_data, exp_data)))\n",
    "\n",
    "    if theta[0] < theta[1]:\n",
    "        cost = 100000000000\n",
    "\n",
    "    return cost\n",
    "\n",
    "\n",
    "bounds = [(0.1, 48), (0.1, 48), (0.1, 30), (0.1, 30)]\n",
    "cuppini2017_causes_fit_res = differential_evolution(\n",
    "    cuppini2017_causes_cost,\n",
    "    bounds,\n",
    "    disp=True,\n",
    "    updating=\"deferred\",\n",
    "    workers=-1,\n",
    "    polish=False,\n",
    ")\n",
    "print(cuppini2017_causes_fit_res)"
   ]
  },
  {
   "cell_type": "code",
   "execution_count": 6,
   "metadata": {},
   "outputs": [
    {
     "data": {
      "text/plain": [
       "<matplotlib.collections.PathCollection at 0x7fe471dd9b50>"
      ]
     },
     "execution_count": 6,
     "metadata": {},
     "output_type": "execute_result"
    },
    {
     "data": {
      "image/png": "[encoded data removed]",
      "text/plain": [
       "<Figure size 640x480 with 1 Axes>"
      ]
     },
     "metadata": {},
     "output_type": "display_data"
    }
   ],
   "source": [
    "cuppini2017_model_causes_fit = cuppini2017_causes_job(\n",
    "    cuppini2017_causes_fit_res.x[0],\n",
    "    cuppini2017_causes_fit_res.x[1],\n",
    "    cuppini2017_causes_fit_res.x[2],\n",
    "    cuppini2017_causes_fit_res.x[3],\n",
    ")\n",
    "\n",
    "plt.plot(dis, cuppini2017_model_causes_fit)\n",
    "plt.scatter(dis, causes_data)"
   ]
  }
 ],
 "metadata": {
  "kernelspec": {
   "display_name": "neuromsi",
   "language": "python",
   "name": "python3"
  },
  "language_info": {
   "codemirror_mode": {
    "name": "ipython",
    "version": 3
   },
   "file_extension": ".py",
   "mimetype": "text/x-python",
   "name": "python",
   "nbconvert_exporter": "python",
   "pygments_lexer": "ipython3",
   "version": "3.11.8"
  }
 },
 "nbformat": 4,
 "nbformat_minor": 2
}
