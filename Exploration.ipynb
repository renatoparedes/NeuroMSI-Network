{
 "cells": [
  {
   "cell_type": "markdown",
   "metadata": {},
   "source": [
    "# Model Exploration"
   ]
  },
  {
   "cell_type": "code",
   "execution_count": 10,
   "metadata": {},
   "outputs": [],
   "source": [
    "import numpy as np\n",
    "from skneuromsi.sweep import ProcessingStrategyABC\n",
    "\n",
    "HC_bias_a = np.array(\n",
    "    [\n",
    "        -5.21640112246667,\n",
    "        -4.18706601266667,\n",
    "        -3.13696911613333,\n",
    "        -2.09924748133333,\n",
    "        1.35796414540000,\n",
    "        3.07563797893333,\n",
    "        3.81842299133333,\n",
    "        3.35914483333333,\n",
    "    ]\n",
    ")\n",
    "\n",
    "## TEMPORAL DATA\n",
    "\n",
    "temporal_dis = (\n",
    "    np.array(\n",
    "        [\n",
    "            -0.7,\n",
    "            -0.5,\n",
    "            -0.3,\n",
    "            -0.25,\n",
    "            -0.2,\n",
    "            -0.15,\n",
    "            -0.1,\n",
    "            -0.08,\n",
    "            -0.05,\n",
    "            -0.02,\n",
    "            -0.01,\n",
    "            #    0.0,\n",
    "            0.01,\n",
    "            0.02,\n",
    "            0.05,\n",
    "            0.08,\n",
    "            0.1,\n",
    "            0.15,\n",
    "            0.2,\n",
    "            0.25,\n",
    "            0.3,\n",
    "            0.5,\n",
    "            0.7,\n",
    "        ]\n",
    "    )\n",
    "    * 1000\n",
    ")\n",
    "\n",
    "temporal_causes_data = np.array(\n",
    "    [\n",
    "        0.03154762,\n",
    "        0.03214286,\n",
    "        0.07619048,\n",
    "        0.19699793,\n",
    "        0.30345238,\n",
    "        0.50193093,\n",
    "        0.72754579,\n",
    "        0.82582418,\n",
    "        0.90882784,\n",
    "        0.93468864,\n",
    "        0.97271062,\n",
    "        #    0.97710623,\n",
    "        0.95398352,\n",
    "        0.94500916,\n",
    "        0.94871795,\n",
    "        0.94787546,\n",
    "        0.92052078,\n",
    "        0.87787546,\n",
    "        0.75857143,\n",
    "        0.51714286,\n",
    "        0.33121212,\n",
    "        0.05779221,\n",
    "        0.02836439,\n",
    "    ]\n",
    ")\n",
    "\n",
    "HC_pro_com = np.array(\n",
    "    [\n",
    "        0.367025484375000,\n",
    "        0.682562911541667,\n",
    "        0.822405755208334,\n",
    "        0.876760716875000,\n",
    "        0.863113007208333,\n",
    "        0.809197201583333,\n",
    "        0.649743997500000,\n",
    "        0.321256356083333,\n",
    "    ]\n",
    ")\n",
    "\n",
    "\n",
    "class CausesProcessingStrategy(ProcessingStrategyABC):\n",
    "    def map(self, result):\n",
    "        causes = result.causes_\n",
    "        del result._nddata\n",
    "        return causes\n",
    "\n",
    "    def reduce(self, results, **kwargs):\n",
    "        return np.array(results, dtype=np.float16)"
   ]
  },
  {
   "cell_type": "code",
   "execution_count": null,
   "metadata": {},
   "outputs": [],
   "source": [
    "import matplotlib.pyplot as plt\n",
    "from skneuromsi.sweep import ParameterSweep\n",
    "from skneuromsi.bayesian import Kording2007\n",
    "from skneuromsi.neural import Paredes2022\n",
    "\n",
    "# MODEL SETUP\n",
    "model_kording = Kording2007(position_range=(0, 90), position_res=1)\n",
    "model_paredes = Paredes2022(\n",
    "    neurons=90, position_range=(0, 90), position_res=1, time_range=(0, 100)\n",
    ")\n",
    "\n",
    "causal_model_paredes = Paredes2022(\n",
    "    neurons=90, position_range=(0, 90), position_res=1, time_range=(0, 150)\n",
    ")\n",
    "\n",
    "## SWEEP SETUP\n",
    "dis = np.array([-24, -12, -6, -3, 3, 6, 12, 24])\n",
    "bias_data = np.abs(HC_bias_a) / np.abs(dis)\n",
    "causes_data = HC_pro_com"
   ]
  },
  {
   "cell_type": "markdown",
   "metadata": {},
   "source": [
    "## Auditory Bias"
   ]
  },
  {
   "cell_type": "code",
   "execution_count": 190,
   "metadata": {},
   "outputs": [],
   "source": [
    "def compute_estimated_position(modes_values):\n",
    "    max_dim_index = modes_values.index.get_level_values(\"times\").max()\n",
    "    max_dim_values = modes_values.xs(max_dim_index, level=\"times\").values.T[0]\n",
    "    estimated_dim_position = max_dim_values.argmax()\n",
    "    return estimated_dim_position\n",
    "\n",
    "\n",
    "def compute_bias(estimated_auditory_position, auditory_position, visual_position):\n",
    "    bias = np.abs(estimated_auditory_position - auditory_position) / np.abs(\n",
    "        auditory_position - visual_position\n",
    "    )\n",
    "    return bias\n",
    "\n",
    "\n",
    "def compute_bias_from_sweep(sweep_res, a_position=45, v_position=51, mode=\"auditory\"):\n",
    "    sweep_bias = []\n",
    "    for res in sweep_res:\n",
    "        estimated_auditory_position = compute_estimated_position(\n",
    "            res.get_modes(include=mode)\n",
    "        )\n",
    "        bias = compute_bias(\n",
    "            estimated_auditory_position=estimated_auditory_position,\n",
    "            auditory_position=a_position,\n",
    "            visual_position=v_position,\n",
    "        )\n",
    "        sweep_bias.append(bias)\n",
    "    return sweep_bias"
   ]
  },
  {
   "cell_type": "code",
   "execution_count": 192,
   "metadata": {},
   "outputs": [
    {
     "data": {
      "application/vnd.jupyter.widget-view+json": {
       "model_id": "5d2df60c77cf4bfb9b674d089eb65974",
       "version_major": 2,
       "version_minor": 0
      },
      "text/plain": [
       "Sweeping 'p_common':   0%|          | 0/5 [00:00<?, ?it/s]"
      ]
     },
     "metadata": {},
     "output_type": "display_data"
    },
    {
     "data": {
      "application/vnd.jupyter.widget-view+json": {
       "model_id": "965cffdc10fa4961b20e830e263497b6",
       "version_major": 2,
       "version_minor": 0
      },
      "text/plain": [
       "Collecting metadata:   0%|          | 0/5 [00:00<?, ?it/s]"
      ]
     },
     "metadata": {},
     "output_type": "display_data"
    },
    {
     "data": {
      "application/vnd.jupyter.widget-view+json": {
       "model_id": "55ee54852eb744f0989838dac9731179",
       "version_major": 2,
       "version_minor": 0
      },
      "text/plain": [
       "Sweeping 'visual_sigma':   0%|          | 0/5 [00:00<?, ?it/s]"
      ]
     },
     "metadata": {},
     "output_type": "display_data"
    },
    {
     "data": {
      "application/vnd.jupyter.widget-view+json": {
       "model_id": "54c8397c063c489f810870f21c2c20e5",
       "version_major": 2,
       "version_minor": 0
      },
      "text/plain": [
       "Collecting metadata:   0%|          | 0/5 [00:00<?, ?it/s]"
      ]
     },
     "metadata": {},
     "output_type": "display_data"
    },
    {
     "name": "stderr",
     "output_type": "stream",
     "text": [
      "/home/renato/scikit-neuromsi/skneuromsi/core/ndresult/result.py:493: UserWarning: The `squeeze` kwarg to GroupBy is being removed.Pass .groupby(..., squeeze=False) to disable squeezing, which is the new default, and to silence this warning.\n",
      "  for gname, group in xa.groupby(dim_name):\n",
      "/home/renato/scikit-neuromsi/skneuromsi/core/ndresult/result.py:493: UserWarning: The `squeeze` kwarg to GroupBy is being removed.Pass .groupby(..., squeeze=False) to disable squeezing, which is the new default, and to silence this warning.\n",
      "  for gname, group in xa.groupby(dim_name):\n",
      "/home/renato/scikit-neuromsi/skneuromsi/core/ndresult/result.py:493: UserWarning: The `squeeze` kwarg to GroupBy is being removed.Pass .groupby(..., squeeze=False) to disable squeezing, which is the new default, and to silence this warning.\n",
      "  for gname, group in xa.groupby(dim_name):\n",
      "/home/renato/scikit-neuromsi/skneuromsi/core/ndresult/result.py:493: UserWarning: The `squeeze` kwarg to GroupBy is being removed.Pass .groupby(..., squeeze=False) to disable squeezing, which is the new default, and to silence this warning.\n",
      "  for gname, group in xa.groupby(dim_name):\n",
      "/home/renato/scikit-neuromsi/skneuromsi/core/ndresult/result.py:493: UserWarning: The `squeeze` kwarg to GroupBy is being removed.Pass .groupby(..., squeeze=False) to disable squeezing, which is the new default, and to silence this warning.\n",
      "  for gname, group in xa.groupby(dim_name):\n",
      "/home/renato/scikit-neuromsi/skneuromsi/core/ndresult/result.py:493: UserWarning: The `squeeze` kwarg to GroupBy is being removed.Pass .groupby(..., squeeze=False) to disable squeezing, which is the new default, and to silence this warning.\n",
      "  for gname, group in xa.groupby(dim_name):\n",
      "/home/renato/scikit-neuromsi/skneuromsi/core/ndresult/result.py:493: UserWarning: The `squeeze` kwarg to GroupBy is being removed.Pass .groupby(..., squeeze=False) to disable squeezing, which is the new default, and to silence this warning.\n",
      "  for gname, group in xa.groupby(dim_name):\n",
      "/home/renato/scikit-neuromsi/skneuromsi/core/ndresult/result.py:493: UserWarning: The `squeeze` kwarg to GroupBy is being removed.Pass .groupby(..., squeeze=False) to disable squeezing, which is the new default, and to silence this warning.\n",
      "  for gname, group in xa.groupby(dim_name):\n",
      "/home/renato/scikit-neuromsi/skneuromsi/core/ndresult/result.py:493: UserWarning: The `squeeze` kwarg to GroupBy is being removed.Pass .groupby(..., squeeze=False) to disable squeezing, which is the new default, and to silence this warning.\n",
      "  for gname, group in xa.groupby(dim_name):\n",
      "/home/renato/scikit-neuromsi/skneuromsi/core/ndresult/result.py:493: UserWarning: The `squeeze` kwarg to GroupBy is being removed.Pass .groupby(..., squeeze=False) to disable squeezing, which is the new default, and to silence this warning.\n",
      "  for gname, group in xa.groupby(dim_name):\n"
     ]
    },
    {
     "data": {
      "text/plain": [
       "<matplotlib.legend.Legend at 0x7fa028b0d8d0>"
      ]
     },
     "execution_count": 192,
     "metadata": {},
     "output_type": "execute_result"
    },
    {
     "data": {
      "image/png": "[encoded data removed]",
      "text/plain": [
       "<Figure size 640x480 with 1 Axes>"
      ]
     },
     "metadata": {},
     "output_type": "display_data"
    }
   ],
   "source": [
    "p_common_range = np.linspace(0, 1, 5)\n",
    "visual_sigma_range = np.linspace(0.125, 6.5, 5)\n",
    "\n",
    "sp_kording_p_common = ParameterSweep(\n",
    "    model=model_kording,\n",
    "    target=\"p_common\",\n",
    "    repeat=1,\n",
    "    n_jobs=1,\n",
    "    range=p_common_range,\n",
    ")\n",
    "\n",
    "sp_kording_visual_sigma = ParameterSweep(\n",
    "    model=model_kording,\n",
    "    target=\"visual_sigma\",\n",
    "    repeat=1,\n",
    "    n_jobs=1,\n",
    "    range=visual_sigma_range,\n",
    ")\n",
    "\n",
    "res_kording_p_common = sp_kording_p_common.run(\n",
    "    auditory_position=45,\n",
    "    visual_position=45 + dis[5],\n",
    "    auditory_sigma=2.490e01,\n",
    "    visual_sigma=2.171e01,\n",
    "    prior_mu=4.069e01,\n",
    "    prior_sigma=5.277e00,\n",
    "    noise=False,\n",
    ")\n",
    "\n",
    "res_kording_visual_sigma = sp_kording_visual_sigma.run(\n",
    "    auditory_position=45,\n",
    "    visual_position=45 + dis[5],\n",
    "    auditory_sigma=2.490e01,\n",
    "    prior_mu=4.069e01,\n",
    "    prior_sigma=5.277e00,\n",
    "    noise=False,\n",
    ")\n",
    "\n",
    "res_kording_p_common_bias = compute_bias_from_sweep(res_kording_p_common)\n",
    "res_kording_visual_sigma_bias = compute_bias_from_sweep(res_kording_visual_sigma)\n",
    "\n",
    "plt.plot(p_common_range, res_kording_p_common_bias, label=\"p_common\")\n",
    "plt.plot(p_common_range, res_kording_visual_sigma_bias, label=\"visual_sigma\")\n",
    "plt.xlabel(\"Working range\")\n",
    "plt.ylabel(\"Audio Bias\")\n",
    "plt.legend()"
   ]
  },
  {
   "cell_type": "code",
   "execution_count": 193,
   "metadata": {},
   "outputs": [
    {
     "data": {
      "application/vnd.jupyter.widget-view+json": {
       "model_id": "db6d86cf084d4900bdb7676e766bde28",
       "version_major": 2,
       "version_minor": 0
      },
      "text/plain": [
       "Sweeping 'lateral_excitation':   0%|          | 0/5 [00:00<?, ?it/s]"
      ]
     },
     "metadata": {},
     "output_type": "display_data"
    },
    {
     "data": {
      "application/vnd.jupyter.widget-view+json": {
       "model_id": "735ebbac551f424a922de9c5a019afbe",
       "version_major": 2,
       "version_minor": 0
      },
      "text/plain": [
       "Collecting metadata:   0%|          | 0/5 [00:00<?, ?it/s]"
      ]
     },
     "metadata": {},
     "output_type": "display_data"
    },
    {
     "data": {
      "application/vnd.jupyter.widget-view+json": {
       "model_id": "1c51af27bad74c9099b9ea3ef72f5a02",
       "version_major": 2,
       "version_minor": 0
      },
      "text/plain": [
       "Sweeping 'cross_modal_weight':   0%|          | 0/5 [00:00<?, ?it/s]"
      ]
     },
     "metadata": {},
     "output_type": "display_data"
    },
    {
     "data": {
      "application/vnd.jupyter.widget-view+json": {
       "model_id": "b6a48d9ab604481bbbd1af3adee08686",
       "version_major": 2,
       "version_minor": 0
      },
      "text/plain": [
       "Collecting metadata:   0%|          | 0/5 [00:00<?, ?it/s]"
      ]
     },
     "metadata": {},
     "output_type": "display_data"
    },
    {
     "data": {
      "application/vnd.jupyter.widget-view+json": {
       "model_id": "2a40ea8c65f648808d8bf34cb07778b9",
       "version_major": 2,
       "version_minor": 0
      },
      "text/plain": [
       "Sweeping 'feedforward_weight':   0%|          | 0/5 [00:00<?, ?it/s]"
      ]
     },
     "metadata": {},
     "output_type": "display_data"
    },
    {
     "data": {
      "application/vnd.jupyter.widget-view+json": {
       "model_id": "b7785912590642c886cdde604e2ffe30",
       "version_major": 2,
       "version_minor": 0
      },
      "text/plain": [
       "Collecting metadata:   0%|          | 0/5 [00:00<?, ?it/s]"
      ]
     },
     "metadata": {},
     "output_type": "display_data"
    },
    {
     "data": {
      "application/vnd.jupyter.widget-view+json": {
       "model_id": "80e56f597b1c46fe8d4dd127cb10ee3a",
       "version_major": 2,
       "version_minor": 0
      },
      "text/plain": [
       "Sweeping 'feedback_weight':   0%|          | 0/5 [00:00<?, ?it/s]"
      ]
     },
     "metadata": {},
     "output_type": "display_data"
    },
    {
     "data": {
      "application/vnd.jupyter.widget-view+json": {
       "model_id": "49966f46bbd74fcba9c2abb41996d534",
       "version_major": 2,
       "version_minor": 0
      },
      "text/plain": [
       "Collecting metadata:   0%|          | 0/5 [00:00<?, ?it/s]"
      ]
     },
     "metadata": {},
     "output_type": "display_data"
    },
    {
     "name": "stderr",
     "output_type": "stream",
     "text": [
      "/home/renato/scikit-neuromsi/skneuromsi/core/ndresult/result.py:493: UserWarning: The `squeeze` kwarg to GroupBy is being removed.Pass .groupby(..., squeeze=False) to disable squeezing, which is the new default, and to silence this warning.\n",
      "  for gname, group in xa.groupby(dim_name):\n",
      "/home/renato/scikit-neuromsi/skneuromsi/core/ndresult/result.py:493: UserWarning: The `squeeze` kwarg to GroupBy is being removed.Pass .groupby(..., squeeze=False) to disable squeezing, which is the new default, and to silence this warning.\n",
      "  for gname, group in xa.groupby(dim_name):\n",
      "/home/renato/scikit-neuromsi/skneuromsi/core/ndresult/result.py:493: UserWarning: The `squeeze` kwarg to GroupBy is being removed.Pass .groupby(..., squeeze=False) to disable squeezing, which is the new default, and to silence this warning.\n",
      "  for gname, group in xa.groupby(dim_name):\n",
      "/home/renato/scikit-neuromsi/skneuromsi/core/ndresult/result.py:493: UserWarning: The `squeeze` kwarg to GroupBy is being removed.Pass .groupby(..., squeeze=False) to disable squeezing, which is the new default, and to silence this warning.\n",
      "  for gname, group in xa.groupby(dim_name):\n",
      "/home/renato/scikit-neuromsi/skneuromsi/core/ndresult/result.py:493: UserWarning: The `squeeze` kwarg to GroupBy is being removed.Pass .groupby(..., squeeze=False) to disable squeezing, which is the new default, and to silence this warning.\n",
      "  for gname, group in xa.groupby(dim_name):\n",
      "/home/renato/scikit-neuromsi/skneuromsi/core/ndresult/result.py:493: UserWarning: The `squeeze` kwarg to GroupBy is being removed.Pass .groupby(..., squeeze=False) to disable squeezing, which is the new default, and to silence this warning.\n",
      "  for gname, group in xa.groupby(dim_name):\n",
      "/home/renato/scikit-neuromsi/skneuromsi/core/ndresult/result.py:493: UserWarning: The `squeeze` kwarg to GroupBy is being removed.Pass .groupby(..., squeeze=False) to disable squeezing, which is the new default, and to silence this warning.\n",
      "  for gname, group in xa.groupby(dim_name):\n",
      "/home/renato/scikit-neuromsi/skneuromsi/core/ndresult/result.py:493: UserWarning: The `squeeze` kwarg to GroupBy is being removed.Pass .groupby(..., squeeze=False) to disable squeezing, which is the new default, and to silence this warning.\n",
      "  for gname, group in xa.groupby(dim_name):\n",
      "/home/renato/scikit-neuromsi/skneuromsi/core/ndresult/result.py:493: UserWarning: The `squeeze` kwarg to GroupBy is being removed.Pass .groupby(..., squeeze=False) to disable squeezing, which is the new default, and to silence this warning.\n",
      "  for gname, group in xa.groupby(dim_name):\n",
      "/home/renato/scikit-neuromsi/skneuromsi/core/ndresult/result.py:493: UserWarning: The `squeeze` kwarg to GroupBy is being removed.Pass .groupby(..., squeeze=False) to disable squeezing, which is the new default, and to silence this warning.\n",
      "  for gname, group in xa.groupby(dim_name):\n",
      "/home/renato/scikit-neuromsi/skneuromsi/core/ndresult/result.py:493: UserWarning: The `squeeze` kwarg to GroupBy is being removed.Pass .groupby(..., squeeze=False) to disable squeezing, which is the new default, and to silence this warning.\n",
      "  for gname, group in xa.groupby(dim_name):\n",
      "/home/renato/scikit-neuromsi/skneuromsi/core/ndresult/result.py:493: UserWarning: The `squeeze` kwarg to GroupBy is being removed.Pass .groupby(..., squeeze=False) to disable squeezing, which is the new default, and to silence this warning.\n",
      "  for gname, group in xa.groupby(dim_name):\n",
      "/home/renato/scikit-neuromsi/skneuromsi/core/ndresult/result.py:493: UserWarning: The `squeeze` kwarg to GroupBy is being removed.Pass .groupby(..., squeeze=False) to disable squeezing, which is the new default, and to silence this warning.\n",
      "  for gname, group in xa.groupby(dim_name):\n",
      "/home/renato/scikit-neuromsi/skneuromsi/core/ndresult/result.py:493: UserWarning: The `squeeze` kwarg to GroupBy is being removed.Pass .groupby(..., squeeze=False) to disable squeezing, which is the new default, and to silence this warning.\n",
      "  for gname, group in xa.groupby(dim_name):\n",
      "/home/renato/scikit-neuromsi/skneuromsi/core/ndresult/result.py:493: UserWarning: The `squeeze` kwarg to GroupBy is being removed.Pass .groupby(..., squeeze=False) to disable squeezing, which is the new default, and to silence this warning.\n",
      "  for gname, group in xa.groupby(dim_name):\n",
      "/home/renato/scikit-neuromsi/skneuromsi/core/ndresult/result.py:493: UserWarning: The `squeeze` kwarg to GroupBy is being removed.Pass .groupby(..., squeeze=False) to disable squeezing, which is the new default, and to silence this warning.\n",
      "  for gname, group in xa.groupby(dim_name):\n",
      "/home/renato/scikit-neuromsi/skneuromsi/core/ndresult/result.py:493: UserWarning: The `squeeze` kwarg to GroupBy is being removed.Pass .groupby(..., squeeze=False) to disable squeezing, which is the new default, and to silence this warning.\n",
      "  for gname, group in xa.groupby(dim_name):\n",
      "/home/renato/scikit-neuromsi/skneuromsi/core/ndresult/result.py:493: UserWarning: The `squeeze` kwarg to GroupBy is being removed.Pass .groupby(..., squeeze=False) to disable squeezing, which is the new default, and to silence this warning.\n",
      "  for gname, group in xa.groupby(dim_name):\n",
      "/home/renato/scikit-neuromsi/skneuromsi/core/ndresult/result.py:493: UserWarning: The `squeeze` kwarg to GroupBy is being removed.Pass .groupby(..., squeeze=False) to disable squeezing, which is the new default, and to silence this warning.\n",
      "  for gname, group in xa.groupby(dim_name):\n",
      "/home/renato/scikit-neuromsi/skneuromsi/core/ndresult/result.py:493: UserWarning: The `squeeze` kwarg to GroupBy is being removed.Pass .groupby(..., squeeze=False) to disable squeezing, which is the new default, and to silence this warning.\n",
      "  for gname, group in xa.groupby(dim_name):\n"
     ]
    },
    {
     "data": {
      "text/plain": [
       "<matplotlib.legend.Legend at 0x7fa07adba450>"
      ]
     },
     "execution_count": 193,
     "metadata": {},
     "output_type": "execute_result"
    },
    {
     "data": {
      "image/png": "[encoded data removed]",
      "text/plain": [
       "<Figure size 640x480 with 1 Axes>"
      ]
     },
     "metadata": {},
     "output_type": "display_data"
    }
   ],
   "source": [
    "lex_range = np.linspace(0.5, 3, 5)\n",
    "cm_range = np.linspace(0.05, 0.09, 5)\n",
    "ff_range = np.linspace(0, 2.5, 5)\n",
    "fb_range = np.linspace(0, 1, 5)\n",
    "\n",
    "sp_paredes_lex = ParameterSweep(\n",
    "    model=model_paredes,\n",
    "    target=\"lateral_excitation\",\n",
    "    repeat=1,\n",
    "    n_jobs=-2,\n",
    "    range=lex_range,\n",
    ")\n",
    "\n",
    "sp_paredes_cm = ParameterSweep(\n",
    "    model=model_paredes,\n",
    "    target=\"cross_modal_weight\",\n",
    "    repeat=1,\n",
    "    n_jobs=-2,\n",
    "    range=cm_range,\n",
    ")\n",
    "\n",
    "sp_paredes_ff = ParameterSweep(\n",
    "    model=model_paredes,\n",
    "    target=\"feedforward_weight\",\n",
    "    repeat=1,\n",
    "    n_jobs=-2,\n",
    "    range=ff_range,\n",
    ")\n",
    "\n",
    "sp_paredes_fb = ParameterSweep(\n",
    "    model=model_paredes,\n",
    "    target=\"feedback_weight\",\n",
    "    repeat=1,\n",
    "    n_jobs=-2,\n",
    "    range=fb_range,\n",
    ")\n",
    "\n",
    "res_paredes_lex = sp_paredes_lex.run(\n",
    "    auditory_position=45,\n",
    "    visual_position=45 + dis[5],\n",
    "    auditory_sigma=2.000e01,\n",
    "    visual_sigma=1.854e01,\n",
    "    auditory_intensity=1.113e00,\n",
    "    visual_intensity=7.728e00,\n",
    "    noise=False,\n",
    "    auditory_soa=None,\n",
    "    auditory_stim_n=1,\n",
    "    visual_stim_n=1,\n",
    "    auditory_duration=100,\n",
    "    visual_duration=100,\n",
    "    auditory_onset=0,\n",
    "    visual_onset=0,\n",
    ")\n",
    "\n",
    "res_paredes_cm = sp_paredes_cm.run(\n",
    "    auditory_position=45,\n",
    "    visual_position=45 + dis[5],\n",
    "    auditory_sigma=2.000e01,\n",
    "    visual_sigma=1.854e01,\n",
    "    auditory_intensity=1.113e00,\n",
    "    visual_intensity=7.728e00,\n",
    "    noise=False,\n",
    "    auditory_soa=None,\n",
    "    auditory_stim_n=1,\n",
    "    visual_stim_n=1,\n",
    "    auditory_duration=100,\n",
    "    visual_duration=100,\n",
    "    auditory_onset=0,\n",
    "    visual_onset=0,\n",
    ")\n",
    "\n",
    "res_paredes_ff = sp_paredes_ff.run(\n",
    "    auditory_position=45,\n",
    "    visual_position=45 + dis[5],\n",
    "    auditory_sigma=2.000e01,\n",
    "    visual_sigma=1.854e01,\n",
    "    auditory_intensity=1.113e00,\n",
    "    visual_intensity=7.728e00,\n",
    "    noise=False,\n",
    "    auditory_soa=None,\n",
    "    auditory_stim_n=1,\n",
    "    visual_stim_n=1,\n",
    "    auditory_duration=100,\n",
    "    visual_duration=100,\n",
    "    auditory_onset=0,\n",
    "    visual_onset=0,\n",
    ")\n",
    "\n",
    "res_paredes_fb = sp_paredes_fb.run(\n",
    "    auditory_position=45,\n",
    "    visual_position=45 + dis[5],\n",
    "    auditory_sigma=2.000e01,\n",
    "    visual_sigma=1.854e01,\n",
    "    auditory_intensity=1.113e00,\n",
    "    visual_intensity=7.728e00,\n",
    "    noise=False,\n",
    "    auditory_soa=None,\n",
    "    auditory_stim_n=1,\n",
    "    visual_stim_n=1,\n",
    "    auditory_duration=100,\n",
    "    visual_duration=100,\n",
    "    auditory_onset=0,\n",
    "    visual_onset=0,\n",
    ")\n",
    "\n",
    "res_paredes_lex_bias = compute_bias_from_sweep(res_paredes_lex)\n",
    "res_paredes_cm_bias = compute_bias_from_sweep(res_paredes_cm)\n",
    "res_paredes_ff_bias = compute_bias_from_sweep(res_paredes_ff)\n",
    "res_paredes_fb_bias = compute_bias_from_sweep(res_paredes_fb)\n",
    "\n",
    "plt.plot(cm_range, res_paredes_lex_bias, label=\"L_ex\")\n",
    "plt.plot(cm_range, res_paredes_cm_bias, label=\"cm_weight\")\n",
    "plt.plot(cm_range, res_paredes_ff_bias, label=\"ff_weight\")\n",
    "plt.plot(cm_range, res_paredes_fb_bias, label=\"fb_weight\")\n",
    "plt.legend()"
   ]
  },
  {
   "cell_type": "markdown",
   "metadata": {},
   "source": [
    "## Spatial Causal Inference"
   ]
  },
  {
   "cell_type": "code",
   "execution_count": null,
   "metadata": {},
   "outputs": [],
   "source": [
    "## Take gaussian fit function from skneuromsi tests (stim location)"
   ]
  }
 ],
 "metadata": {
  "kernelspec": {
   "display_name": "skneuromsi",
   "language": "python",
   "name": "python3"
  },
  "language_info": {
   "codemirror_mode": {
    "name": "ipython",
    "version": 3
   },
   "file_extension": ".py",
   "mimetype": "text/x-python",
   "name": "python",
   "nbconvert_exporter": "python",
   "pygments_lexer": "ipython3",
   "version": "3.11.9"
  }
 },
 "nbformat": 4,
 "nbformat_minor": 2
}
